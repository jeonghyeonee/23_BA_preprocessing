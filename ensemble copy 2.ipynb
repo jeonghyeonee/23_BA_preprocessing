{
 "cells": [
  {
   "cell_type": "code",
   "execution_count": 1,
   "metadata": {},
   "outputs": [],
   "source": [
    "import lightgbm as lgb\n",
    "import xgboost as xgb\n",
    "from sklearn.model_selection import train_test_split\n",
    "from sklearn.metrics import mean_squared_error, mean_absolute_error, r2_score\n",
    "import numpy as np\n",
    "import pandas as pd"
   ]
  },
  {
   "cell_type": "code",
   "execution_count": 2,
   "metadata": {},
   "outputs": [],
   "source": [
    "# 데이터 로드\n",
    "data = pd.read_csv('merged_data.csv', encoding='utf-8')"
   ]
  },
  {
   "cell_type": "code",
   "execution_count": 3,
   "metadata": {},
   "outputs": [],
   "source": [
    "# 필요한 열 선택\n",
    "selected_features = ['stn_id', 'borrowed_hour', 'borrowed_day', 'is_holiday', 'borrowed_num_nearby', '강수량(mm)', 'wind_chill', 'stn_gu', 'nearby_id', 'borrowed_date', 'borrowed_num']\n",
    "data = data[selected_features]"
   ]
  },
  {
   "cell_type": "code",
   "execution_count": 4,
   "metadata": {},
   "outputs": [],
   "source": [
    "# 범주형 데이터를 숫자로 변환 (Label Encoding)\n",
    "categorical_features = ['stn_id', 'stn_gu', 'nearby_id']\n",
    "for feature in categorical_features:\n",
    "    data[feature] = pd.factorize(data[feature])[0]"
   ]
  },
  {
   "cell_type": "code",
   "execution_count": 5,
   "metadata": {},
   "outputs": [],
   "source": [
    "# 훈련-테스트 데이터 분할\n",
    "X_train, X_test, y_train, y_test = train_test_split(data.drop('borrowed_num', axis=1), data['borrowed_num'], test_size=0.2, random_state=42)"
   ]
  },
  {
   "cell_type": "markdown",
   "metadata": {},
   "source": [
    "# LGBM Model"
   ]
  },
  {
   "cell_type": "code",
   "execution_count": 13,
   "metadata": {},
   "outputs": [],
   "source": [
    "# LightGBM 모델\n",
    "lgb_params = {\n",
    "    'objective': 'regression',\n",
    "    'metric': 'rmse',\n",
    "    'boosting_type': 'gbdt',\n",
    "    'num_leaves': 90,\n",
    "    'learning_rate': 0.1,\n",
    "    'feature_fraction': 1.0\n",
    "}"
   ]
  },
  {
   "cell_type": "code",
   "execution_count": 14,
   "metadata": {},
   "outputs": [
    {
     "name": "stdout",
     "output_type": "stream",
     "text": [
      "[LightGBM] [Info] Auto-choosing row-wise multi-threading, the overhead of testing was 1.076953 seconds.\n",
      "You can set `force_row_wise=true` to remove the overhead.\n",
      "And if memory is not enough, you can set `force_col_wise=true`.\n",
      "[LightGBM] [Info] Total Bins 1139\n",
      "[LightGBM] [Info] Number of data points in the train set: 7717950, number of used features: 10\n",
      "[LightGBM] [Info] Start training from score 1.483498\n",
      "Training until validation scores don't improve for 3 rounds\n",
      "Early stopping, best iteration is:\n",
      "[1263]\ttraining's rmse: 1.71737\tvalid_0's rmse: 1.77011\n"
     ]
    }
   ],
   "source": [
    "train_data_lgb = lgb.Dataset(X_train, label=y_train)\n",
    "test_data_lgb = lgb.Dataset(X_test, label=y_test, reference=train_data_lgb)\n",
    "\n",
    "lgb_model = lgb.train(lgb_params, train_data_lgb, num_boost_round=100000, valid_sets=[test_data_lgb, train_data_lgb], callbacks=[\n",
    "    lgb.early_stopping(stopping_rounds=3, verbose=100),\n",
    "])"
   ]
  },
  {
   "cell_type": "markdown",
   "metadata": {},
   "source": [
    "# XGBoost Model"
   ]
  },
  {
   "cell_type": "code",
   "execution_count": 15,
   "metadata": {},
   "outputs": [],
   "source": [
    "# XGBoost 모델\n",
    "xgb_params = {\n",
    "    'objective': 'reg:squarederror',\n",
    "    'eval_metric': 'rmse',\n",
    "    'booster': 'gbtree',\n",
    "    'learning_rate': 0.1,\n",
    "    'max_depth': 15,\n",
    "    'subsample':0.8\n",
    "}"
   ]
  },
  {
   "cell_type": "code",
   "execution_count": 16,
   "metadata": {},
   "outputs": [
    {
     "name": "stdout",
     "output_type": "stream",
     "text": [
      "[0]\teval-rmse:2.76850\n",
      "[100]\teval-rmse:1.75589\n",
      "[169]\teval-rmse:1.73433\n"
     ]
    }
   ],
   "source": [
    "train_data_xgb = xgb.DMatrix(X_train, label=y_train)\n",
    "test_data_xgb = xgb.DMatrix(X_test, label=y_test)\n",
    "\n",
    "xgb_model = xgb.train(xgb_params, train_data_xgb, num_boost_round=100000, evals=[(test_data_xgb, 'eval')], early_stopping_rounds=3, verbose_eval=100)\n"
   ]
  },
  {
   "cell_type": "code",
   "execution_count": 17,
   "metadata": {},
   "outputs": [],
   "source": [
    "# 예측 생성\n",
    "y_pred_train_lgb = lgb_model.predict(X_train, num_iteration=lgb_model.best_iteration)\n",
    "y_pred_test_lgb = lgb_model.predict(X_test, num_iteration=lgb_model.best_iteration)\n",
    "\n",
    "y_pred_train_xgb = xgb_model.predict(train_data_xgb)\n",
    "y_pred_test_xgb = xgb_model.predict(test_data_xgb)"
   ]
  },
  {
   "cell_type": "code",
   "execution_count": 18,
   "metadata": {},
   "outputs": [],
   "source": [
    "# 앙상블 예측 (평균이나 가중 평균 등의 방법 사용 가능)\n",
    "y_pred_train_ensemble = (y_pred_train_lgb + y_pred_train_xgb) / 2\n",
    "y_pred_test_ensemble = (y_pred_test_lgb + y_pred_test_xgb) / 2"
   ]
  },
  {
   "cell_type": "code",
   "execution_count": 19,
   "metadata": {},
   "outputs": [
    {
     "name": "stdout",
     "output_type": "stream",
     "text": [
      "앙상블 훈련 RMSE: 1.5498904895162153\n",
      "앙상블 테스트 RMSE: 1.7171490952755306\n",
      "앙상블 훈련 R-squared: 0.7128476496327296\n",
      "앙상블 테스트 R-squared: 0.6473068188131625\n"
     ]
    }
   ],
   "source": [
    "# 앙상블 예측 평가\n",
    "ensemble_rmse_train = mean_squared_error(y_train, y_pred_train_ensemble, squared=False)\n",
    "ensemble_rmse_test = mean_squared_error(y_test, y_pred_test_ensemble, squared=False)\n",
    "ensemble_r2_train = r2_score(y_train, y_pred_train_ensemble)\n",
    "ensemble_r2_test = r2_score(y_test, y_pred_test_ensemble)\n",
    "\n",
    "print(f'앙상블 훈련 RMSE: {ensemble_rmse_train}')\n",
    "print(f'앙상블 테스트 RMSE: {ensemble_rmse_test}')\n",
    "print(f'앙상블 훈련 R-squared: {ensemble_r2_train}')\n",
    "print(f'앙상블 테스트 R-squared: {ensemble_r2_test}')"
   ]
  },
  {
   "cell_type": "code",
   "execution_count": null,
   "metadata": {},
   "outputs": [],
   "source": []
  },
  {
   "cell_type": "code",
   "execution_count": null,
   "metadata": {},
   "outputs": [],
   "source": []
  }
 ],
 "metadata": {
  "kernelspec": {
   "display_name": "base",
   "language": "python",
   "name": "python3"
  },
  "language_info": {
   "codemirror_mode": {
    "name": "ipython",
    "version": 3
   },
   "file_extension": ".py",
   "mimetype": "text/x-python",
   "name": "python",
   "nbconvert_exporter": "python",
   "pygments_lexer": "ipython3",
   "version": "3.11.4"
  },
  "orig_nbformat": 4
 },
 "nbformat": 4,
 "nbformat_minor": 2
}
