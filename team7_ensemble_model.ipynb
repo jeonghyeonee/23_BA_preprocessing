{
 "cells": [
  {
   "cell_type": "code",
   "execution_count": 1,
   "metadata": {},
   "outputs": [],
   "source": [
    "import lightgbm as lgb\n",
    "import xgboost as xgb\n",
    "from sklearn.model_selection import train_test_split\n",
    "from sklearn.metrics import mean_squared_error, mean_absolute_error, r2_score\n",
    "import numpy as np\n",
    "import pandas as pd"
   ]
  },
  {
   "cell_type": "code",
   "execution_count": 2,
   "metadata": {},
   "outputs": [],
   "source": [
    "# Load Data\n",
    "data = pd.read_csv('merged_data.csv', encoding='utf-8')"
   ]
  },
  {
   "cell_type": "code",
   "execution_count": 3,
   "metadata": {},
   "outputs": [],
   "source": [
    "# Selected Features\n",
    "selected_features = ['stn_id', 'borrowed_hour', 'borrowed_day', 'is_holiday', 'borrowed_num_nearby', '강수량(mm)', 'wind_chill', 'nearby_id', 'borrowed_date', 'borrowed_num']\n",
    "data = data[selected_features]"
   ]
  },
  {
   "cell_type": "code",
   "execution_count": 4,
   "metadata": {},
   "outputs": [],
   "source": [
    "# Lable Encoding\n",
    "categorical_features = ['stn_id', 'nearby_id']\n",
    "for feature in categorical_features:\n",
    "    data[feature] = pd.factorize(data[feature])[0]"
   ]
  },
  {
   "cell_type": "code",
   "execution_count": 5,
   "metadata": {},
   "outputs": [],
   "source": [
    "# 훈련-테스트 데이터 분할\n",
    "X_train, X_test, y_train, y_test = train_test_split(data.drop('borrowed_num', axis=1), data['borrowed_num'], test_size=0.2, random_state=42)"
   ]
  },
  {
   "cell_type": "markdown",
   "metadata": {},
   "source": [
    "# LGBM Model"
   ]
  },
  {
   "cell_type": "code",
   "execution_count": 6,
   "metadata": {},
   "outputs": [],
   "source": [
    "# LightGBM 모델 - gbdt\n",
    "lgb_params = {\n",
    "    'objective': 'regression',\n",
    "    'metric': 'rmse',\n",
    "    'boosting_type': 'gbdt',\n",
    "    'num_leaves': 80,\n",
    "    'learning_rate': 0.05,\n",
    "    'feature_fraction': 1.0,\n",
    "    'device': 'gpu'\n",
    "}"
   ]
  },
  {
   "cell_type": "code",
   "execution_count": null,
   "metadata": {},
   "outputs": [],
   "source": [
    "# LightGBM 모델 - dart\n",
    "lgb_params = {\n",
    "    'objective': 'regression',\n",
    "    'metric': 'rmse',\n",
    "    'boosting_type': 'dart',\n",
    "    'num_leaves': 80,\n",
    "    'learning_rate': 0.05,\n",
    "    'feature_fraction': 1.0,\n",
    "    'device': 'gpu'\n",
    "}"
   ]
  },
  {
   "cell_type": "code",
   "execution_count": 7,
   "metadata": {},
   "outputs": [
    {
     "name": "stdout",
     "output_type": "stream",
     "text": [
      "[LightGBM] [Info] This is the GPU trainer!!\n",
      "[LightGBM] [Info] Total Bins 1112\n",
      "[LightGBM] [Info] Number of data points in the train set: 7717950, number of used features: 9\n",
      "[LightGBM] [Info] Using GPU Device: Intel(R) Iris(R) Xe Graphics, Vendor: Intel(R) Corporation\n",
      "[LightGBM] [Info] Compiling OpenCL Kernel with 256 bins...\n",
      "[LightGBM] [Info] GPU programs have been built\n",
      "[LightGBM] [Info] Size of histogram bin entry: 8\n",
      "[LightGBM] [Info] 6 dense feature groups (58.88 MB) transferred to GPU in 0.213486 secs. 1 sparse feature groups\n",
      "[LightGBM] [Info] Start training from score 1.483498\n"
     ]
    },
    {
     "name": "stderr",
     "output_type": "stream",
     "text": [
      "c:\\ProgramData\\anaconda3\\Lib\\site-packages\\lightgbm\\callback.py:292: UserWarning: Early stopping is not available in dart mode\n",
      "  _log_warning('Early stopping is not available in dart mode')\n"
     ]
    }
   ],
   "source": [
    "train_data_lgb = lgb.Dataset(X_train, label=y_train)\n",
    "test_data_lgb = lgb.Dataset(X_test, label=y_test, reference=train_data_lgb)\n",
    "\n",
    "lgb_model = lgb.train(lgb_params, train_data_lgb, num_boost_round=10000, valid_sets=[test_data_lgb, train_data_lgb], callbacks=[\n",
    "    lgb.early_stopping(stopping_rounds=3, verbose=100),\n",
    "])"
   ]
  },
  {
   "cell_type": "markdown",
   "metadata": {},
   "source": [
    "# XGBoost Model"
   ]
  },
  {
   "cell_type": "code",
   "execution_count": 8,
   "metadata": {},
   "outputs": [],
   "source": [
    "# XGBoost 모델\n",
    "xgb_params = {\n",
    "    'objective': 'reg:squarederror',\n",
    "    'eval_metric': 'rmse',\n",
    "    'booster': 'gbtree',\n",
    "    'learning_rate': 0.1,\n",
    "    'max_depth':13,\n",
    "    'subsample':0.8,\n",
    "    'device':'gpu'\n",
    "}"
   ]
  },
  {
   "cell_type": "code",
   "execution_count": 9,
   "metadata": {},
   "outputs": [
    {
     "name": "stdout",
     "output_type": "stream",
     "text": [
      "[0]\teval-rmse:2.79100\n",
      "[100]\teval-rmse:1.97047\n",
      "[200]\teval-rmse:1.91868\n",
      "[250]\teval-rmse:1.91346\n"
     ]
    }
   ],
   "source": [
    "train_data_xgb = xgb.DMatrix(X_train, label=y_train)\n",
    "test_data_xgb = xgb.DMatrix(X_test, label=y_test)\n",
    "\n",
    "xgb_model = xgb.train(xgb_params, train_data_xgb, num_boost_round=10000, evals=[(test_data_xgb, 'eval')], early_stopping_rounds=3, verbose_eval=100)\n"
   ]
  },
  {
   "cell_type": "code",
   "execution_count": 10,
   "metadata": {},
   "outputs": [],
   "source": [
    "# 예측 생성\n",
    "y_pred_train_lgb = lgb_model.predict(X_train, num_iteration=lgb_model.best_iteration)\n",
    "y_pred_test_lgb = lgb_model.predict(X_test, num_iteration=lgb_model.best_iteration)\n",
    "\n",
    "y_pred_train_xgb = xgb_model.predict(train_data_xgb)\n",
    "y_pred_test_xgb = xgb_model.predict(test_data_xgb)"
   ]
  },
  {
   "cell_type": "code",
   "execution_count": 15,
   "metadata": {},
   "outputs": [],
   "source": [
    "# 각 모델의 RMSE 계산\n",
    "rmse_lgb = np.sqrt(mean_squared_error(y_train, y_pred_train_lgb))\n",
    "rmse_xgb = np.sqrt(mean_squared_error(y_train, y_pred_train_xgb))\n",
    "\n",
    "# RMSE를 이용하여 가중치 설정 (낮은 RMSE일수록 높은 가중치)\n",
    "weight_lgb = 1 / (1 + rmse_lgb)\n",
    "weight_xgb = 1 / (1 + rmse_xgb)\n",
    "\n",
    "# 가중평균 계산\n",
    "y_pred_train_ensemble_weighted = (weight_lgb * y_pred_train_lgb) + (weight_xgb * y_pred_train_xgb)\n",
    "y_pred_test_ensemble_weighted = (weight_lgb * y_pred_test_lgb) + (weight_xgb * y_pred_test_xgb)"
   ]
  },
  {
   "cell_type": "code",
   "execution_count": 16,
   "metadata": {},
   "outputs": [],
   "source": [
    "# 앙상블 예측 (평균이나 가중 평균 등의 방법 사용 가능)\n",
    "y_pred_train_ensemble = (y_pred_train_lgb + y_pred_train_xgb) / 2\n",
    "y_pred_test_ensemble = (y_pred_test_lgb + y_pred_test_xgb) / 2"
   ]
  },
  {
   "cell_type": "code",
   "execution_count": 17,
   "metadata": {},
   "outputs": [
    {
     "name": "stdout",
     "output_type": "stream",
     "text": [
      "앙상블 훈련 RMSE: 1.855443532431063\n",
      "앙상블 테스트 RMSE: 1.9584768969573612\n",
      "앙상블 훈련 R-squared: 0.5884658949749182\n",
      "앙상블 테스트 R-squared: 0.5412057586675216\n",
      "W 앙상블 훈련 RMSE: 2.092519286401996\n",
      "W 앙상블 테스트 RMSE: 2.164685021053375\n",
      "W 앙상블 훈련 R-squared: 0.47658123586235335\n",
      "W 앙상블 테스트 R-squared: 0.4395066342199305\n"
     ]
    }
   ],
   "source": [
    "# 앙상블 예측 평가\n",
    "ensemble_rmse_train = mean_squared_error(y_train, y_pred_train_ensemble, squared=False)\n",
    "ensemble_rmse_test = mean_squared_error(y_test, y_pred_test_ensemble, squared=False)\n",
    "Wensemble_rmse_train = mean_squared_error(y_train, y_pred_train_ensemble_weighted, squared=False)\n",
    "Wensemble_rmse_test = mean_squared_error(y_test, y_pred_test_ensemble_weighted, squared=False)\n",
    "ensemble_r2_train = r2_score(y_train, y_pred_train_ensemble)\n",
    "ensemble_r2_test = r2_score(y_test, y_pred_test_ensemble)\n",
    "Wensemble_r2_train = r2_score(y_train, y_pred_train_ensemble_weighted)\n",
    "Wensemble_r2_test = r2_score(y_test, y_pred_test_ensemble_weighted)\n",
    "\n",
    "print(f'앙상블 훈련 RMSE: {ensemble_rmse_train}')\n",
    "print(f'앙상블 테스트 RMSE: {ensemble_rmse_test}')\n",
    "print(f'앙상블 훈련 R-squared: {ensemble_r2_train}')\n",
    "print(f'앙상블 테스트 R-squared: {ensemble_r2_test}')\n",
    "print(f'W 앙상블 훈련 RMSE: {Wensemble_rmse_train}')\n",
    "print(f'W 앙상블 테스트 RMSE: {Wensemble_rmse_test}')\n",
    "print(f'W 앙상블 훈련 R-squared: {Wensemble_r2_train}')\n",
    "print(f'W 앙상블 테스트 R-squared: {Wensemble_r2_test}')"
   ]
  },
  {
   "cell_type": "code",
   "execution_count": 18,
   "metadata": {},
   "outputs": [
    {
     "name": "stdout",
     "output_type": "stream",
     "text": [
      "LightGBM 모델 평가 지표:\n",
      "훈련 RMSE: 2.093150664612776\n",
      "훈련 R-squared: 0.4762653247381252\n",
      "테스트 RMSE: 2.103201584595604\n",
      "테스트 R-squared: 0.47089379686391675\n"
     ]
    }
   ],
   "source": [
    "lgb_rmse_train = np.sqrt(mean_squared_error(y_train, y_pred_train_lgb))\n",
    "lgb_r2_train = r2_score(y_train, y_pred_train_lgb)\n",
    "\n",
    "lgb_rmse_test = np.sqrt(mean_squared_error(y_test, y_pred_test_lgb))\n",
    "lgb_r2_test = r2_score(y_test, y_pred_test_lgb)\n",
    "\n",
    "print(\"LightGBM 모델 평가 지표:\")\n",
    "print(\"훈련 RMSE:\", lgb_rmse_train)\n",
    "print(\"훈련 R-squared:\", lgb_r2_train)\n",
    "print(\"테스트 RMSE:\", lgb_rmse_test)\n",
    "print(\"테스트 R-squared:\", lgb_r2_test)"
   ]
  },
  {
   "cell_type": "code",
   "execution_count": 19,
   "metadata": {},
   "outputs": [
    {
     "name": "stdout",
     "output_type": "stream",
     "text": [
      "XGBoost 모델 평가 지표:\n",
      "훈련 RMSE: 1.7220080515194014\n",
      "훈련 R-squared: 0.6455290051424385\n",
      "테스트 RMSE: 1.9135301281431685\n",
      "테스트 R-squared: 0.5620226399398447\n"
     ]
    }
   ],
   "source": [
    "xgb_rmse_train = np.sqrt(mean_squared_error(y_train, y_pred_train_xgb))\n",
    "xgb_r2_train = r2_score(y_train, y_pred_train_xgb)\n",
    "\n",
    "xgb_rmse_test = np.sqrt(mean_squared_error(y_test, y_pred_test_xgb))\n",
    "xgb_r2_test = r2_score(y_test, y_pred_test_xgb)\n",
    "\n",
    "print(\"XGBoost 모델 평가 지표:\")\n",
    "print(\"훈련 RMSE:\", xgb_rmse_train)\n",
    "print(\"훈련 R-squared:\", xgb_r2_train)\n",
    "print(\"테스트 RMSE:\", xgb_rmse_test)\n",
    "print(\"테스트 R-squared:\", xgb_r2_test)"
   ]
  },
  {
   "cell_type": "code",
   "execution_count": 24,
   "metadata": {},
   "outputs": [],
   "source": [
    "# new_data 로드 및 전처리\n",
    "new_data = pd.read_csv('data/new_data.csv', encoding='utf-8')\n",
    "new_data = new_data[selected_features[:-1]]  # 'selected_features'는 모델 훈련 시 사용한 특성들과 동일하게 선택\n"
   ]
  },
  {
   "cell_type": "code",
   "execution_count": 25,
   "metadata": {},
   "outputs": [],
   "source": [
    "# 범주형 데이터 레이블 인코딩\n",
    "for feature in categorical_features:\n",
    "    new_data[feature] = pd.factorize(new_data[feature])[0]"
   ]
  },
  {
   "cell_type": "code",
   "execution_count": 26,
   "metadata": {},
   "outputs": [],
   "source": [
    "# lgb_model로 예측\n",
    "y_pred_lgb = lgb_model.predict(new_data, num_iteration=lgb_model.best_iteration, predict_disable_shape_check=True)\n",
    "\n",
    "# XGBoost 모델로 예측\n",
    "y_pred_xgb = xgb_model.predict(xgb.DMatrix(new_data))\n",
    "\n",
    "\n",
    "# 예측값을 'LGBM_Prediction' 열로 추가\n",
    "new_data['LGBM_Prediction'] = y_pred_lgb\n",
    "\n",
    "# 예측값을 'XGB_Prediction' 열로 추가\n",
    "new_data['XGB_Prediction'] = y_pred_xgb"
   ]
  },
  {
   "cell_type": "code",
   "execution_count": 27,
   "metadata": {},
   "outputs": [],
   "source": [
    "new_data['Ensemble_Prediction'] = (new_data['LGBM_Prediction'] + new_data['XGB_Prediction']) / 2"
   ]
  },
  {
   "cell_type": "code",
   "execution_count": 28,
   "metadata": {},
   "outputs": [
    {
     "name": "stdout",
     "output_type": "stream",
     "text": [
      "      LGBM_Prediction  XGB_Prediction  Ensemble_Prediction\n",
      "0            2.019004        3.112292             2.565648\n",
      "1            2.589972        3.369089             2.979531\n",
      "2            1.786461        2.363587             2.075024\n",
      "3            1.937376        3.177858             2.557617\n",
      "4            2.331683        3.560756             2.946220\n",
      "...               ...             ...                  ...\n",
      "2239         0.876962        1.109296             0.993129\n",
      "2240         1.016512        1.136709             1.076610\n",
      "2241         1.366452        1.143836             1.255144\n",
      "2242         1.016512        1.076689             1.046601\n",
      "2243         1.168220        1.074451             1.121336\n",
      "\n",
      "[2244 rows x 3 columns]\n"
     ]
    }
   ],
   "source": [
    "# 결과 출력 또는 저장\n",
    "print(new_data[['LGBM_Prediction', 'XGB_Prediction', 'Ensemble_Prediction']])\n",
    "# 또는\n",
    "new_data.to_csv('predicted_results_dart.csv', index=False)"
   ]
  },
  {
   "cell_type": "code",
   "execution_count": null,
   "metadata": {},
   "outputs": [],
   "source": []
  },
  {
   "cell_type": "code",
   "execution_count": null,
   "metadata": {},
   "outputs": [],
   "source": []
  },
  {
   "cell_type": "code",
   "execution_count": null,
   "metadata": {},
   "outputs": [],
   "source": []
  },
  {
   "cell_type": "code",
   "execution_count": null,
   "metadata": {},
   "outputs": [],
   "source": []
  }
 ],
 "metadata": {
  "kernelspec": {
   "display_name": "base",
   "language": "python",
   "name": "python3"
  },
  "language_info": {
   "codemirror_mode": {
    "name": "ipython",
    "version": 3
   },
   "file_extension": ".py",
   "mimetype": "text/x-python",
   "name": "python",
   "nbconvert_exporter": "python",
   "pygments_lexer": "ipython3",
   "version": "3.11.4"
  },
  "orig_nbformat": 4
 },
 "nbformat": 4,
 "nbformat_minor": 2
}
