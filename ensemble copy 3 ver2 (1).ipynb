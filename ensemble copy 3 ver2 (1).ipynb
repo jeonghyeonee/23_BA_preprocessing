{
 "cells": [
  {
   "cell_type": "code",
   "execution_count": 29,
   "metadata": {},
   "outputs": [],
   "source": [
    "import lightgbm as lgb\n",
    "import xgboost as xgb\n",
    "from sklearn.model_selection import train_test_split\n",
    "from sklearn.metrics import mean_squared_error, mean_absolute_error, r2_score\n",
    "import numpy as np\n",
    "import pandas as pd"
   ]
  },
  {
   "cell_type": "code",
   "execution_count": null,
   "metadata": {},
   "outputs": [],
   "source": [
    "# 데이터 로드\n",
    "data = pd.read_csv('merged_data_.csv', encoding='utf-8')"
   ]
  },
  {
   "cell_type": "code",
   "execution_count": null,
   "metadata": {},
   "outputs": [],
   "source": [
    "data"
   ]
  },
  {
   "cell_type": "code",
   "execution_count": null,
   "metadata": {},
   "outputs": [],
   "source": [
    "# 필요한 열 선택\n",
    "selected_features = ['stn_id', 'borrowed_hour', 'borrowed_day', 'is_holiday', 'borrowed_num_nearby', '강수량(mm)', 'wind_chill', 'nearby_id', 'borrowed_date', 'borrowed_num']\n",
    "data = data[selected_features]"
   ]
  },
  {
   "cell_type": "code",
   "execution_count": null,
   "metadata": {},
   "outputs": [],
   "source": [
    "# 범주형 데이터를 숫자로 변환 (Label Encoding)\n",
    "categorical_features = ['stn_id', 'nearby_id']\n",
    "for feature in categorical_features:\n",
    "    data[feature] = pd.factorize(data[feature])[0]"
   ]
  },
  {
   "cell_type": "code",
   "execution_count": null,
   "metadata": {},
   "outputs": [],
   "source": [
    "# 훈련-테스트 데이터 분할\n",
    "X_train, X_test, y_train, y_test = train_test_split(data.drop('borrowed_num', axis=1), data['borrowed_num'], test_size=0.2, random_state=42)"
   ]
  },
  {
   "cell_type": "markdown",
   "metadata": {},
   "source": [
    "# LGBM Model"
   ]
  },
  {
   "cell_type": "code",
   "execution_count": null,
   "metadata": {},
   "outputs": [],
   "source": [
    "# LightGBM 모델\n",
    "lgb_params = {\n",
    "    'objective': 'regression',\n",
    "    'metric': 'rmse',\n",
    "    'boosting_type': 'gbdt',\n",
    "    'num_leaves': 80,\n",
    "    'learning_rate': 0.1,\n",
    "    'feature_fraction': 1.0\n",
    "}"
   ]
  },
  {
   "cell_type": "code",
   "execution_count": 8,
   "metadata": {},
   "outputs": [
    {
     "name": "stdout",
     "output_type": "stream",
     "text": [
      "[LightGBM] [Info] Auto-choosing row-wise multi-threading, the overhead of testing was 0.741760 seconds.\n",
      "You can set `force_row_wise=true` to remove the overhead.\n",
      "And if memory is not enough, you can set `force_col_wise=true`.\n",
      "[LightGBM] [Info] Total Bins 1112\n",
      "[LightGBM] [Info] Number of data points in the train set: 7717950, number of used features: 9\n",
      "[LightGBM] [Info] Start training from score 1.483498\n",
      "Training until validation scores don't improve for 3 rounds\n",
      "Early stopping, best iteration is:\n",
      "[1074]\ttraining's rmse: 1.91712\tvalid_0's rmse: 1.96817\n"
     ]
    }
   ],
   "source": [
    "train_data_lgb = lgb.Dataset(X_train, label=y_train)\n",
    "test_data_lgb = lgb.Dataset(X_test, label=y_test, reference=train_data_lgb)\n",
    "\n",
    "lgb_model = lgb.train(lgb_params, train_data_lgb, num_boost_round=100000, valid_sets=[test_data_lgb, train_data_lgb], callbacks=[\n",
    "    lgb.early_stopping(stopping_rounds=3, verbose=100),\n",
    "])"
   ]
  },
  {
   "cell_type": "markdown",
   "metadata": {},
   "source": [
    "# XGBoost Model"
   ]
  },
  {
   "cell_type": "code",
   "execution_count": 9,
   "metadata": {},
   "outputs": [],
   "source": [
    "# XGBoost 모델\n",
    "xgb_params = {\n",
    "    'objective': 'reg:squarederror',\n",
    "    'eval_metric': 'rmse',\n",
    "    'booster': 'gbtree',\n",
    "    'learning_rate': 0.1,\n",
    "    'max_depth': 13,\n",
    "    'subsample':0.8\n",
    "}"
   ]
  },
  {
   "cell_type": "code",
   "execution_count": 10,
   "metadata": {},
   "outputs": [
    {
     "name": "stdout",
     "output_type": "stream",
     "text": [
      "[0]\teval-rmse:2.79104\n",
      "[100]\teval-rmse:1.97290\n",
      "[200]\teval-rmse:1.92076\n",
      "[207]\teval-rmse:1.91981\n"
     ]
    }
   ],
   "source": [
    "train_data_xgb = xgb.DMatrix(X_train, label=y_train)\n",
    "test_data_xgb = xgb.DMatrix(X_test, label=y_test)\n",
    "\n",
    "xgb_model = xgb.train(xgb_params, train_data_xgb, num_boost_round=100000, evals=[(test_data_xgb, 'eval')], early_stopping_rounds=3, verbose_eval=100)\n"
   ]
  },
  {
   "cell_type": "code",
   "execution_count": 11,
   "metadata": {},
   "outputs": [],
   "source": [
    "# 예측 생성\n",
    "y_pred_train_lgb = lgb_model.predict(X_train, num_iteration=lgb_model.best_iteration)\n",
    "y_pred_test_lgb = lgb_model.predict(X_test, num_iteration=lgb_model.best_iteration)\n",
    "\n",
    "y_pred_train_xgb = xgb_model.predict(train_data_xgb)\n",
    "y_pred_test_xgb = xgb_model.predict(test_data_xgb)"
   ]
  },
  {
   "cell_type": "code",
   "execution_count": 12,
   "metadata": {},
   "outputs": [],
   "source": [
    "# 앙상블 예측 (평균이나 가중 평균 등의 방법 사용 가능)\n",
    "y_pred_train_ensemble = (y_pred_train_lgb + y_pred_train_xgb) / 2\n",
    "y_pred_test_ensemble = (y_pred_test_lgb + y_pred_test_xgb) / 2"
   ]
  },
  {
   "cell_type": "code",
   "execution_count": 13,
   "metadata": {},
   "outputs": [
    {
     "name": "stdout",
     "output_type": "stream",
     "text": [
      "앙상블 훈련 RMSE: 1.8015424272477547\n",
      "앙상블 테스트 RMSE: 1.907303486975216\n",
      "앙상블 훈련 R-squared: 0.6120289344943435\n",
      "앙상블 테스트 R-squared: 0.5648683655165041\n"
     ]
    }
   ],
   "source": [
    "# 앙상블 예측 평가\n",
    "ensemble_rmse_train = mean_squared_error(y_train, y_pred_train_ensemble, squared=False)\n",
    "ensemble_rmse_test = mean_squared_error(y_test, y_pred_test_ensemble, squared=False)\n",
    "ensemble_r2_train = r2_score(y_train, y_pred_train_ensemble)\n",
    "ensemble_r2_test = r2_score(y_test, y_pred_test_ensemble)\n",
    "\n",
    "print(f'앙상블 훈련 RMSE: {ensemble_rmse_train}')\n",
    "print(f'앙상블 테스트 RMSE: {ensemble_rmse_test}')\n",
    "print(f'앙상블 훈련 R-squared: {ensemble_r2_train}')\n",
    "print(f'앙상블 테스트 R-squared: {ensemble_r2_test}')"
   ]
  },
  {
   "cell_type": "code",
   "execution_count": 14,
   "metadata": {},
   "outputs": [
    {
     "name": "stdout",
     "output_type": "stream",
     "text": [
      "LightGBM 모델 평가 지표:\n",
      "훈련 RMSE: 1.9171175656447816\n",
      "훈련 R-squared: 0.5606528216289648\n",
      "테스트 RMSE: 1.968168264202363\n",
      "테스트 R-squared: 0.5366539105673866\n"
     ]
    }
   ],
   "source": [
    "lgb_rmse_train = np.sqrt(mean_squared_error(y_train, y_pred_train_lgb))\n",
    "lgb_r2_train = r2_score(y_train, y_pred_train_lgb)\n",
    "\n",
    "lgb_rmse_test = np.sqrt(mean_squared_error(y_test, y_pred_test_lgb))\n",
    "lgb_r2_test = r2_score(y_test, y_pred_test_lgb)\n",
    "\n",
    "print(\"LightGBM 모델 평가 지표:\")\n",
    "print(\"훈련 RMSE:\", lgb_rmse_train)\n",
    "print(\"훈련 R-squared:\", lgb_r2_train)\n",
    "print(\"테스트 RMSE:\", lgb_rmse_test)\n",
    "print(\"테스트 R-squared:\", lgb_r2_test)"
   ]
  },
  {
   "cell_type": "code",
   "execution_count": 15,
   "metadata": {},
   "outputs": [
    {
     "name": "stdout",
     "output_type": "stream",
     "text": [
      "XGBoost 모델 평가 지표:\n",
      "훈련 RMSE: 1.756080355051462\n",
      "훈련 R-squared: 0.6313628347438108\n",
      "테스트 RMSE: 1.9198051797029994\n",
      "테스트 R-squared: 0.5591454060935321\n"
     ]
    }
   ],
   "source": [
    "xgb_rmse_train = np.sqrt(mean_squared_error(y_train, y_pred_train_xgb))\n",
    "xgb_r2_train = r2_score(y_train, y_pred_train_xgb)\n",
    "\n",
    "xgb_rmse_test = np.sqrt(mean_squared_error(y_test, y_pred_test_xgb))\n",
    "xgb_r2_test = r2_score(y_test, y_pred_test_xgb)\n",
    "\n",
    "print(\"XGBoost 모델 평가 지표:\")\n",
    "print(\"훈련 RMSE:\", xgb_rmse_train)\n",
    "print(\"훈련 R-squared:\", xgb_r2_train)\n",
    "print(\"테스트 RMSE:\", xgb_rmse_test)\n",
    "print(\"테스트 R-squared:\", xgb_r2_test)"
   ]
  },
  {
   "cell_type": "code",
   "execution_count": 17,
   "metadata": {},
   "outputs": [],
   "source": [
    "# new_data 로드 및 전처리\n",
    "new_data = pd.read_csv('realdata따릉이 5-6 일요일 ver2.csv', encoding='utf-8')\n",
    "new_data = new_data[selected_features[:-1]]  # 'selected_features'는 모델 훈련 시 사용한 특성들과 동일하게 선택\n"
   ]
  },
  {
   "cell_type": "code",
   "execution_count": 18,
   "metadata": {},
   "outputs": [],
   "source": [
    "# 범주형 데이터 레이블 인코딩\n",
    "for feature in categorical_features:\n",
    "    new_data[feature] = pd.factorize(new_data[feature])[0]"
   ]
  },
  {
   "cell_type": "code",
   "execution_count": 27,
   "metadata": {},
   "outputs": [
    {
     "ename": "ValueError",
     "evalue": "Length of values (1929488) does not match length of index (2244)",
     "output_type": "error",
     "traceback": [
      "\u001b[1;31m---------------------------------------------------------------------------\u001b[0m",
      "\u001b[1;31mValueError\u001b[0m                                Traceback (most recent call last)",
      "Cell \u001b[1;32mIn[27], line 1\u001b[0m\n\u001b[1;32m----> 1\u001b[0m new_data[\u001b[38;5;124m'\u001b[39m\u001b[38;5;124mLGBM_Prediction\u001b[39m\u001b[38;5;124m'\u001b[39m] \u001b[38;5;241m=\u001b[39m lgb_model\u001b[38;5;241m.\u001b[39mpredict(X_test, num_iteration\u001b[38;5;241m=\u001b[39mlgb_model\u001b[38;5;241m.\u001b[39mbest_iteration, predict_disable_shape_check\u001b[38;5;241m=\u001b[39m\u001b[38;5;28;01mTrue\u001b[39;00m)\n",
      "File \u001b[1;32mC:\\ProgramData\\anaconda3\\Lib\\site-packages\\pandas\\core\\frame.py:3950\u001b[0m, in \u001b[0;36mDataFrame.__setitem__\u001b[1;34m(self, key, value)\u001b[0m\n\u001b[0;32m   3947\u001b[0m     \u001b[38;5;28mself\u001b[39m\u001b[38;5;241m.\u001b[39m_setitem_array([key], value)\n\u001b[0;32m   3948\u001b[0m \u001b[38;5;28;01melse\u001b[39;00m:\n\u001b[0;32m   3949\u001b[0m     \u001b[38;5;66;03m# set column\u001b[39;00m\n\u001b[1;32m-> 3950\u001b[0m     \u001b[38;5;28mself\u001b[39m\u001b[38;5;241m.\u001b[39m_set_item(key, value)\n",
      "File \u001b[1;32mC:\\ProgramData\\anaconda3\\Lib\\site-packages\\pandas\\core\\frame.py:4143\u001b[0m, in \u001b[0;36mDataFrame._set_item\u001b[1;34m(self, key, value)\u001b[0m\n\u001b[0;32m   4133\u001b[0m \u001b[38;5;28;01mdef\u001b[39;00m \u001b[38;5;21m_set_item\u001b[39m(\u001b[38;5;28mself\u001b[39m, key, value) \u001b[38;5;241m-\u001b[39m\u001b[38;5;241m>\u001b[39m \u001b[38;5;28;01mNone\u001b[39;00m:\n\u001b[0;32m   4134\u001b[0m \u001b[38;5;250m    \u001b[39m\u001b[38;5;124;03m\"\"\"\u001b[39;00m\n\u001b[0;32m   4135\u001b[0m \u001b[38;5;124;03m    Add series to DataFrame in specified column.\u001b[39;00m\n\u001b[0;32m   4136\u001b[0m \n\u001b[1;32m   (...)\u001b[0m\n\u001b[0;32m   4141\u001b[0m \u001b[38;5;124;03m    ensure homogeneity.\u001b[39;00m\n\u001b[0;32m   4142\u001b[0m \u001b[38;5;124;03m    \"\"\"\u001b[39;00m\n\u001b[1;32m-> 4143\u001b[0m     value \u001b[38;5;241m=\u001b[39m \u001b[38;5;28mself\u001b[39m\u001b[38;5;241m.\u001b[39m_sanitize_column(value)\n\u001b[0;32m   4145\u001b[0m     \u001b[38;5;28;01mif\u001b[39;00m (\n\u001b[0;32m   4146\u001b[0m         key \u001b[38;5;129;01min\u001b[39;00m \u001b[38;5;28mself\u001b[39m\u001b[38;5;241m.\u001b[39mcolumns\n\u001b[0;32m   4147\u001b[0m         \u001b[38;5;129;01mand\u001b[39;00m value\u001b[38;5;241m.\u001b[39mndim \u001b[38;5;241m==\u001b[39m \u001b[38;5;241m1\u001b[39m\n\u001b[0;32m   4148\u001b[0m         \u001b[38;5;129;01mand\u001b[39;00m \u001b[38;5;129;01mnot\u001b[39;00m is_extension_array_dtype(value)\n\u001b[0;32m   4149\u001b[0m     ):\n\u001b[0;32m   4150\u001b[0m         \u001b[38;5;66;03m# broadcast across multiple columns if necessary\u001b[39;00m\n\u001b[0;32m   4151\u001b[0m         \u001b[38;5;28;01mif\u001b[39;00m \u001b[38;5;129;01mnot\u001b[39;00m \u001b[38;5;28mself\u001b[39m\u001b[38;5;241m.\u001b[39mcolumns\u001b[38;5;241m.\u001b[39mis_unique \u001b[38;5;129;01mor\u001b[39;00m \u001b[38;5;28misinstance\u001b[39m(\u001b[38;5;28mself\u001b[39m\u001b[38;5;241m.\u001b[39mcolumns, MultiIndex):\n",
      "File \u001b[1;32mC:\\ProgramData\\anaconda3\\Lib\\site-packages\\pandas\\core\\frame.py:4870\u001b[0m, in \u001b[0;36mDataFrame._sanitize_column\u001b[1;34m(self, value)\u001b[0m\n\u001b[0;32m   4867\u001b[0m     \u001b[38;5;28;01mreturn\u001b[39;00m _reindex_for_setitem(Series(value), \u001b[38;5;28mself\u001b[39m\u001b[38;5;241m.\u001b[39mindex)\n\u001b[0;32m   4869\u001b[0m \u001b[38;5;28;01mif\u001b[39;00m is_list_like(value):\n\u001b[1;32m-> 4870\u001b[0m     com\u001b[38;5;241m.\u001b[39mrequire_length_match(value, \u001b[38;5;28mself\u001b[39m\u001b[38;5;241m.\u001b[39mindex)\n\u001b[0;32m   4871\u001b[0m \u001b[38;5;28;01mreturn\u001b[39;00m sanitize_array(value, \u001b[38;5;28mself\u001b[39m\u001b[38;5;241m.\u001b[39mindex, copy\u001b[38;5;241m=\u001b[39m\u001b[38;5;28;01mTrue\u001b[39;00m, allow_2d\u001b[38;5;241m=\u001b[39m\u001b[38;5;28;01mTrue\u001b[39;00m)\n",
      "File \u001b[1;32mC:\\ProgramData\\anaconda3\\Lib\\site-packages\\pandas\\core\\common.py:576\u001b[0m, in \u001b[0;36mrequire_length_match\u001b[1;34m(data, index)\u001b[0m\n\u001b[0;32m    572\u001b[0m \u001b[38;5;250m\u001b[39m\u001b[38;5;124;03m\"\"\"\u001b[39;00m\n\u001b[0;32m    573\u001b[0m \u001b[38;5;124;03mCheck the length of data matches the length of the index.\u001b[39;00m\n\u001b[0;32m    574\u001b[0m \u001b[38;5;124;03m\"\"\"\u001b[39;00m\n\u001b[0;32m    575\u001b[0m \u001b[38;5;28;01mif\u001b[39;00m \u001b[38;5;28mlen\u001b[39m(data) \u001b[38;5;241m!=\u001b[39m \u001b[38;5;28mlen\u001b[39m(index):\n\u001b[1;32m--> 576\u001b[0m     \u001b[38;5;28;01mraise\u001b[39;00m \u001b[38;5;167;01mValueError\u001b[39;00m(\n\u001b[0;32m    577\u001b[0m         \u001b[38;5;124m\"\u001b[39m\u001b[38;5;124mLength of values \u001b[39m\u001b[38;5;124m\"\u001b[39m\n\u001b[0;32m    578\u001b[0m         \u001b[38;5;124mf\u001b[39m\u001b[38;5;124m\"\u001b[39m\u001b[38;5;124m(\u001b[39m\u001b[38;5;132;01m{\u001b[39;00m\u001b[38;5;28mlen\u001b[39m(data)\u001b[38;5;132;01m}\u001b[39;00m\u001b[38;5;124m) \u001b[39m\u001b[38;5;124m\"\u001b[39m\n\u001b[0;32m    579\u001b[0m         \u001b[38;5;124m\"\u001b[39m\u001b[38;5;124mdoes not match length of index \u001b[39m\u001b[38;5;124m\"\u001b[39m\n\u001b[0;32m    580\u001b[0m         \u001b[38;5;124mf\u001b[39m\u001b[38;5;124m\"\u001b[39m\u001b[38;5;124m(\u001b[39m\u001b[38;5;132;01m{\u001b[39;00m\u001b[38;5;28mlen\u001b[39m(index)\u001b[38;5;132;01m}\u001b[39;00m\u001b[38;5;124m)\u001b[39m\u001b[38;5;124m\"\u001b[39m\n\u001b[0;32m    581\u001b[0m     )\n",
      "\u001b[1;31mValueError\u001b[0m: Length of values (1929488) does not match length of index (2244)"
     ]
    }
   ],
   "source": [
    "new_data['LGBM_Prediction'] = lgb_model.predict(X_test, num_iteration=lgb_model.best_iteration, predict_disable_shape_check=True)"
   ]
  },
  {
   "cell_type": "code",
   "execution_count": 25,
   "metadata": {},
   "outputs": [],
   "source": [
    "# 컬럼 이름 일치시키기\n",
    "new_data.columns = X_train_dummy.columns\n",
    "\n",
    "# XGB_Prediction 컬럼 제거\n",
    "new_data = new_data.drop('XGB_Prediction', axis=1, errors='ignore')\n",
    "\n",
    "# XGBoost 모델 예측\n",
    "new_data['XGB_Prediction'] = xgb_model.predict(xgb.DMatrix(new_data))\n",
    "\n",
    "# 더미 컬럼 제거\n",
    "X_train_dummy.drop('XGB_Prediction', axis=1, inplace=True)"
   ]
  },
  {
   "cell_type": "code",
   "execution_count": 28,
   "metadata": {},
   "outputs": [
    {
     "name": "stdout",
     "output_type": "stream",
     "text": [
      "      stn_id  borrowed_hour  borrowed_day  is_holiday  borrowed_num_nearby  \\\n",
      "0          0             17             7           1                  2.0   \n",
      "1          1             17             7           1                  4.0   \n",
      "2          2             17             7           1                  1.0   \n",
      "3          3             17             7           1                  2.0   \n",
      "4          4             17             7           1                  3.0   \n",
      "...      ...            ...           ...         ...                  ...   \n",
      "2239    2239             17             7           1                  1.0   \n",
      "2240    2240             17             7           1                  2.0   \n",
      "2241    2241             17             7           1                  4.0   \n",
      "2242    2242             17             7           1                  2.0   \n",
      "2243    2243             17             7           1                  3.0   \n",
      "\n",
      "      강수량(mm)  wind_chill  nearby_id  borrowed_date  XGB_Prediction  \n",
      "0           0    4.355111          0       20231203        2.371257  \n",
      "1           0    5.176456          1       20231203        3.167969  \n",
      "2           0    3.379519          2       20231203        2.250629  \n",
      "3           0    3.379519          3       20231203        2.166049  \n",
      "4           0    5.176456          4       20231203        2.738121  \n",
      "...       ...         ...        ...            ...             ...  \n",
      "2239        0    4.355111       1729       20231203        0.945925  \n",
      "2240        0    5.176456       1730       20231203        1.037833  \n",
      "2241        0    5.176456       1731       20231203        1.909995  \n",
      "2242        0    5.176456       1732       20231203        1.165989  \n",
      "2243        0    5.176456       1733       20231203        1.847773  \n",
      "\n",
      "[2244 rows x 10 columns]\n"
     ]
    }
   ],
   "source": [
    "print(new_data)"
   ]
  },
  {
   "cell_type": "code",
   "execution_count": 26,
   "metadata": {},
   "outputs": [
    {
     "ename": "KeyError",
     "evalue": "'LGBM_Prediction'",
     "output_type": "error",
     "traceback": [
      "\u001b[1;31m---------------------------------------------------------------------------\u001b[0m",
      "\u001b[1;31mKeyError\u001b[0m                                  Traceback (most recent call last)",
      "File \u001b[1;32mC:\\ProgramData\\anaconda3\\Lib\\site-packages\\pandas\\core\\indexes\\base.py:3653\u001b[0m, in \u001b[0;36mIndex.get_loc\u001b[1;34m(self, key)\u001b[0m\n\u001b[0;32m   3652\u001b[0m \u001b[38;5;28;01mtry\u001b[39;00m:\n\u001b[1;32m-> 3653\u001b[0m     \u001b[38;5;28;01mreturn\u001b[39;00m \u001b[38;5;28mself\u001b[39m\u001b[38;5;241m.\u001b[39m_engine\u001b[38;5;241m.\u001b[39mget_loc(casted_key)\n\u001b[0;32m   3654\u001b[0m \u001b[38;5;28;01mexcept\u001b[39;00m \u001b[38;5;167;01mKeyError\u001b[39;00m \u001b[38;5;28;01mas\u001b[39;00m err:\n",
      "File \u001b[1;32mC:\\ProgramData\\anaconda3\\Lib\\site-packages\\pandas\\_libs\\index.pyx:147\u001b[0m, in \u001b[0;36mpandas._libs.index.IndexEngine.get_loc\u001b[1;34m()\u001b[0m\n",
      "File \u001b[1;32mC:\\ProgramData\\anaconda3\\Lib\\site-packages\\pandas\\_libs\\index.pyx:176\u001b[0m, in \u001b[0;36mpandas._libs.index.IndexEngine.get_loc\u001b[1;34m()\u001b[0m\n",
      "File \u001b[1;32mpandas\\_libs\\hashtable_class_helper.pxi:7080\u001b[0m, in \u001b[0;36mpandas._libs.hashtable.PyObjectHashTable.get_item\u001b[1;34m()\u001b[0m\n",
      "File \u001b[1;32mpandas\\_libs\\hashtable_class_helper.pxi:7088\u001b[0m, in \u001b[0;36mpandas._libs.hashtable.PyObjectHashTable.get_item\u001b[1;34m()\u001b[0m\n",
      "\u001b[1;31mKeyError\u001b[0m: 'LGBM_Prediction'",
      "\nThe above exception was the direct cause of the following exception:\n",
      "\u001b[1;31mKeyError\u001b[0m                                  Traceback (most recent call last)",
      "Cell \u001b[1;32mIn[26], line 2\u001b[0m\n\u001b[0;32m      1\u001b[0m \u001b[38;5;66;03m# 앙상블 예측 (평균이나 가중 평균 등의 방법 사용 가능)\u001b[39;00m\n\u001b[1;32m----> 2\u001b[0m new_data[\u001b[38;5;124m'\u001b[39m\u001b[38;5;124mEnsemble_Prediction\u001b[39m\u001b[38;5;124m'\u001b[39m] \u001b[38;5;241m=\u001b[39m (new_data[\u001b[38;5;124m'\u001b[39m\u001b[38;5;124mLGBM_Prediction\u001b[39m\u001b[38;5;124m'\u001b[39m] \u001b[38;5;241m+\u001b[39m new_data[\u001b[38;5;124m'\u001b[39m\u001b[38;5;124mXGB_Prediction\u001b[39m\u001b[38;5;124m'\u001b[39m]) \u001b[38;5;241m/\u001b[39m \u001b[38;5;241m2\u001b[39m\n\u001b[0;32m      4\u001b[0m \u001b[38;5;66;03m# 예측 결과를 새로운 컬럼으로 저장\u001b[39;00m\n\u001b[0;32m      5\u001b[0m new_data[\u001b[38;5;124m'\u001b[39m\u001b[38;5;124mpredicted_borrowed_num\u001b[39m\u001b[38;5;124m'\u001b[39m] \u001b[38;5;241m=\u001b[39m new_data[\u001b[38;5;124m'\u001b[39m\u001b[38;5;124mEnsemble_Prediction\u001b[39m\u001b[38;5;124m'\u001b[39m]\n",
      "File \u001b[1;32mC:\\ProgramData\\anaconda3\\Lib\\site-packages\\pandas\\core\\frame.py:3761\u001b[0m, in \u001b[0;36mDataFrame.__getitem__\u001b[1;34m(self, key)\u001b[0m\n\u001b[0;32m   3759\u001b[0m \u001b[38;5;28;01mif\u001b[39;00m \u001b[38;5;28mself\u001b[39m\u001b[38;5;241m.\u001b[39mcolumns\u001b[38;5;241m.\u001b[39mnlevels \u001b[38;5;241m>\u001b[39m \u001b[38;5;241m1\u001b[39m:\n\u001b[0;32m   3760\u001b[0m     \u001b[38;5;28;01mreturn\u001b[39;00m \u001b[38;5;28mself\u001b[39m\u001b[38;5;241m.\u001b[39m_getitem_multilevel(key)\n\u001b[1;32m-> 3761\u001b[0m indexer \u001b[38;5;241m=\u001b[39m \u001b[38;5;28mself\u001b[39m\u001b[38;5;241m.\u001b[39mcolumns\u001b[38;5;241m.\u001b[39mget_loc(key)\n\u001b[0;32m   3762\u001b[0m \u001b[38;5;28;01mif\u001b[39;00m is_integer(indexer):\n\u001b[0;32m   3763\u001b[0m     indexer \u001b[38;5;241m=\u001b[39m [indexer]\n",
      "File \u001b[1;32mC:\\ProgramData\\anaconda3\\Lib\\site-packages\\pandas\\core\\indexes\\base.py:3655\u001b[0m, in \u001b[0;36mIndex.get_loc\u001b[1;34m(self, key)\u001b[0m\n\u001b[0;32m   3653\u001b[0m     \u001b[38;5;28;01mreturn\u001b[39;00m \u001b[38;5;28mself\u001b[39m\u001b[38;5;241m.\u001b[39m_engine\u001b[38;5;241m.\u001b[39mget_loc(casted_key)\n\u001b[0;32m   3654\u001b[0m \u001b[38;5;28;01mexcept\u001b[39;00m \u001b[38;5;167;01mKeyError\u001b[39;00m \u001b[38;5;28;01mas\u001b[39;00m err:\n\u001b[1;32m-> 3655\u001b[0m     \u001b[38;5;28;01mraise\u001b[39;00m \u001b[38;5;167;01mKeyError\u001b[39;00m(key) \u001b[38;5;28;01mfrom\u001b[39;00m \u001b[38;5;21;01merr\u001b[39;00m\n\u001b[0;32m   3656\u001b[0m \u001b[38;5;28;01mexcept\u001b[39;00m \u001b[38;5;167;01mTypeError\u001b[39;00m:\n\u001b[0;32m   3657\u001b[0m     \u001b[38;5;66;03m# If we have a listlike key, _check_indexing_error will raise\u001b[39;00m\n\u001b[0;32m   3658\u001b[0m     \u001b[38;5;66;03m#  InvalidIndexError. Otherwise we fall through and re-raise\u001b[39;00m\n\u001b[0;32m   3659\u001b[0m     \u001b[38;5;66;03m#  the TypeError.\u001b[39;00m\n\u001b[0;32m   3660\u001b[0m     \u001b[38;5;28mself\u001b[39m\u001b[38;5;241m.\u001b[39m_check_indexing_error(key)\n",
      "\u001b[1;31mKeyError\u001b[0m: 'LGBM_Prediction'"
     ]
    }
   ],
   "source": [
    "# 앙상블 예측 (평균이나 가중 평균 등의 방법 사용 가능)\n",
    "new_data['Ensemble_Prediction'] = (new_data['LGBM_Prediction'] + new_data['XGB_Prediction']) / 2\n",
    "\n",
    "# 예측 결과를 새로운 컬럼으로 저장\n",
    "new_data['predicted_borrowed_num'] = new_data['Ensemble_Prediction']\n",
    "\n",
    "# 결과 출력 또는 저장\n",
    "print(new_data[['LGBM_Prediction', 'XGB_Prediction', 'Ensemble_Prediction', 'predicted_borrowed_num']])\n",
    "# 또는\n",
    "new_data.to_csv('predicted_results_ver2.csv', index=False)"
   ]
  },
  {
   "cell_type": "code",
   "execution_count": null,
   "metadata": {},
   "outputs": [],
   "source": []
  }
 ],
 "metadata": {
  "kernelspec": {
   "display_name": "Python 3 (ipykernel)",
   "language": "python",
   "name": "python3"
  },
  "language_info": {
   "codemirror_mode": {
    "name": "ipython",
    "version": 3
   },
   "file_extension": ".py",
   "mimetype": "text/x-python",
   "name": "python",
   "nbconvert_exporter": "python",
   "pygments_lexer": "ipython3",
   "version": "3.11.5"
  }
 },
 "nbformat": 4,
 "nbformat_minor": 2
}
