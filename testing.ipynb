{
 "cells": [
  {
   "cell_type": "code",
   "execution_count": 2,
   "metadata": {},
   "outputs": [],
   "source": [
    "import lightgbm as lgb\n",
    "from sklearn.model_selection import train_test_split\n",
    "from sklearn.metrics import mean_squared_error, mean_absolute_error\n",
    "import numpy as np\n",
    "import pandas as pd"
   ]
  },
  {
   "cell_type": "code",
   "execution_count": 3,
   "metadata": {},
   "outputs": [],
   "source": [
    "# 훈련 데이터 로드\n",
    "data = pd.read_csv('merged_data.csv', encoding='utf-8')"
   ]
  },
  {
   "cell_type": "code",
   "execution_count": 4,
   "metadata": {},
   "outputs": [],
   "source": [
    "# 필요한 열 선택\n",
    "selected_features = ['stn_id', 'borrowed_hour', 'borrowed_day', 'is_holiday', 'borrowed_num_nearby', '강수량(mm)', 'wind_chill', 'stn_gu', 'nearby_id', 'borrowed_date', 'borrowed_num']\n",
    "data = data[selected_features]"
   ]
  },
  {
   "cell_type": "code",
   "execution_count": 5,
   "metadata": {},
   "outputs": [],
   "source": [
    "# 범주형 데이터를 숫자로 변환 (Label Encoding)\n",
    "categorical_features = ['stn_id', 'stn_gu', 'nearby_id']\n",
    "for feature in categorical_features:\n",
    "    data[feature] = pd.factorize(data[feature])[0]"
   ]
  },
  {
   "cell_type": "code",
   "execution_count": 6,
   "metadata": {},
   "outputs": [],
   "source": [
    "# 훈련-테스트 데이터 분리\n",
    "X_train, X_test, y_train, y_test = train_test_split(data.drop('borrowed_num', axis=1), data['borrowed_num'], test_size=0.2, random_state=42)\n"
   ]
  },
  {
   "cell_type": "code",
   "execution_count": 7,
   "metadata": {},
   "outputs": [],
   "source": [
    "# LightGBM 모델 생성 및 훈련\n",
    "params = {\n",
    "    'objective': 'regression',\n",
    "    'metric': 'rmse',\n",
    "    'boosting_type': 'gbdt',\n",
    "    'num_leaves': 31,\n",
    "    'learning_rate': 0.05,\n",
    "    'feature_fraction': 0.9\n",
    "}"
   ]
  },
  {
   "cell_type": "code",
   "execution_count": 8,
   "metadata": {},
   "outputs": [
    {
     "name": "stdout",
     "output_type": "stream",
     "text": [
      "[LightGBM] [Info] Auto-choosing row-wise multi-threading, the overhead of testing was 0.290146 seconds.\n",
      "You can set `force_row_wise=true` to remove the overhead.\n",
      "And if memory is not enough, you can set `force_col_wise=true`.\n",
      "[LightGBM] [Info] Total Bins 1136\n",
      "[LightGBM] [Info] Number of data points in the train set: 7717950, number of used features: 10\n",
      "[LightGBM] [Info] Start training from score 1.483498\n",
      "Training until validation scores don't improve for 3 rounds\n",
      "Did not meet early stopping. Best iteration is:\n",
      "[1000]\ttraining's rmse: 1.97365\tvalid_0's rmse: 1.98518\n"
     ]
    }
   ],
   "source": [
    "train_data = lgb.Dataset(X_train, label=y_train)\n",
    "test_data = lgb.Dataset(X_test, label=y_test, reference=train_data)\n",
    "\n",
    "model = lgb.train(params, train_data, num_boost_round=1000, valid_sets=[test_data, train_data], callbacks=[\n",
    "        lgb.early_stopping(stopping_rounds=3, verbose=100),\n",
    "    ])"
   ]
  },
  {
   "cell_type": "code",
   "execution_count": 9,
   "metadata": {},
   "outputs": [
    {
     "name": "stdout",
     "output_type": "stream",
     "text": [
      "Training MSE: 3.8952857840571915\n",
      "Training MAE: 1.1453070864914188\n",
      "Training RMSE: 1.9736478368891426\n"
     ]
    }
   ],
   "source": [
    "# 훈련 데이터에서의 평가\n",
    "y_pred_train = model.predict(X_train, num_iteration=model.best_iteration)\n",
    "mse_train = mean_squared_error(y_train, y_pred_train)\n",
    "mae_train = mean_absolute_error(y_train, y_pred_train)\n",
    "rmse_train = mean_squared_error(y_train, y_pred_train, squared=False)\n",
    "print(f'Training MSE: {mse_train}')\n",
    "print(f'Training MAE: {mae_train}')\n",
    "print(f'Training RMSE: {rmse_train}')"
   ]
  },
  {
   "cell_type": "code",
   "execution_count": 10,
   "metadata": {},
   "outputs": [
    {
     "name": "stdout",
     "output_type": "stream",
     "text": [
      "Test MSE: 3.940949911399397\n",
      "Test MAE: 1.1485539408033907\n",
      "Test RMSE: 1.985182588932161\n"
     ]
    }
   ],
   "source": [
    "# 검증 데이터에서의 평가\n",
    "y_pred_test = model.predict(X_test, num_iteration=model.best_iteration)\n",
    "mse_test = mean_squared_error(y_test, y_pred_test)\n",
    "mae_test = mean_absolute_error(y_test, y_pred_test)\n",
    "rmse_test = mean_squared_error(y_test, y_pred_test, squared=False)\n",
    "print(f'Test MSE: {mse_test}')\n",
    "print(f'Test MAE: {mae_test}')\n",
    "print(f'Test RMSE: {rmse_test}')"
   ]
  },
  {
   "cell_type": "code",
   "execution_count": 40,
   "metadata": {},
   "outputs": [],
   "source": [
    "# 새로운 데이터 예측\n",
    "new_data = pd.read_csv('data/new_data.csv', encoding='utf-8')  # 'new_data.csv'는 새로운 데이터 파일명으로 대체해야 합니다.\n"
   ]
  },
  {
   "cell_type": "code",
   "execution_count": 41,
   "metadata": {},
   "outputs": [
    {
     "data": {
      "text/html": [
       "<div>\n",
       "<style scoped>\n",
       "    .dataframe tbody tr th:only-of-type {\n",
       "        vertical-align: middle;\n",
       "    }\n",
       "\n",
       "    .dataframe tbody tr th {\n",
       "        vertical-align: top;\n",
       "    }\n",
       "\n",
       "    .dataframe thead th {\n",
       "        text-align: right;\n",
       "    }\n",
       "</style>\n",
       "<table border=\"1\" class=\"dataframe\">\n",
       "  <thead>\n",
       "    <tr style=\"text-align: right;\">\n",
       "      <th></th>\n",
       "      <th>stn_id</th>\n",
       "      <th>borrowed_hour</th>\n",
       "      <th>borrowed_day</th>\n",
       "      <th>is_holiday</th>\n",
       "      <th>borrowed_num_nearby</th>\n",
       "      <th>강수량(mm)</th>\n",
       "      <th>wind_chill</th>\n",
       "      <th>stn_gu</th>\n",
       "      <th>nearby_id</th>\n",
       "      <th>borrowed_date</th>\n",
       "      <th>borrowed_num</th>\n",
       "    </tr>\n",
       "  </thead>\n",
       "  <tbody>\n",
       "    <tr>\n",
       "      <th>0</th>\n",
       "      <td>ST-1611</td>\n",
       "      <td>14</td>\n",
       "      <td>6</td>\n",
       "      <td>1</td>\n",
       "      <td>2</td>\n",
       "      <td>0.0</td>\n",
       "      <td>-3</td>\n",
       "      <td>노원구</td>\n",
       "      <td>ST-5306</td>\n",
       "      <td>20231201</td>\n",
       "      <td>18</td>\n",
       "    </tr>\n",
       "    <tr>\n",
       "      <th>1</th>\n",
       "      <td>ST-2915</td>\n",
       "      <td>15</td>\n",
       "      <td>6</td>\n",
       "      <td>1</td>\n",
       "      <td>1</td>\n",
       "      <td>0.0</td>\n",
       "      <td>-1</td>\n",
       "      <td>노원구</td>\n",
       "      <td>ST-5319</td>\n",
       "      <td>20231201</td>\n",
       "      <td>13</td>\n",
       "    </tr>\n",
       "    <tr>\n",
       "      <th>2</th>\n",
       "      <td>ST-10</td>\n",
       "      <td>12</td>\n",
       "      <td>6</td>\n",
       "      <td>1</td>\n",
       "      <td>3</td>\n",
       "      <td>0.0</td>\n",
       "      <td>1</td>\n",
       "      <td>마포구</td>\n",
       "      <td>ST-2167</td>\n",
       "      <td>20231201</td>\n",
       "      <td>1</td>\n",
       "    </tr>\n",
       "    <tr>\n",
       "      <th>3</th>\n",
       "      <td>ST-10</td>\n",
       "      <td>15</td>\n",
       "      <td>6</td>\n",
       "      <td>1</td>\n",
       "      <td>2</td>\n",
       "      <td>0.0</td>\n",
       "      <td>-4</td>\n",
       "      <td>마포구</td>\n",
       "      <td>ST-2167</td>\n",
       "      <td>20231201</td>\n",
       "      <td>2</td>\n",
       "    </tr>\n",
       "    <tr>\n",
       "      <th>4</th>\n",
       "      <td>ST-10</td>\n",
       "      <td>20</td>\n",
       "      <td>6</td>\n",
       "      <td>1</td>\n",
       "      <td>0</td>\n",
       "      <td>0.0</td>\n",
       "      <td>0</td>\n",
       "      <td>마포구</td>\n",
       "      <td>ST-2167</td>\n",
       "      <td>20231201</td>\n",
       "      <td>2</td>\n",
       "    </tr>\n",
       "  </tbody>\n",
       "</table>\n",
       "</div>"
      ],
      "text/plain": [
       "    stn_id  borrowed_hour  borrowed_day  is_holiday  borrowed_num_nearby  \\\n",
       "0  ST-1611             14             6           1                    2   \n",
       "1  ST-2915             15             6           1                    1   \n",
       "2    ST-10             12             6           1                    3   \n",
       "3    ST-10             15             6           1                    2   \n",
       "4    ST-10             20             6           1                    0   \n",
       "\n",
       "   강수량(mm)  wind_chill stn_gu nearby_id  borrowed_date  borrowed_num  \n",
       "0      0.0          -3    노원구   ST-5306       20231201            18  \n",
       "1      0.0          -1    노원구   ST-5319       20231201            13  \n",
       "2      0.0           1    마포구   ST-2167       20231201             1  \n",
       "3      0.0          -4    마포구   ST-2167       20231201             2  \n",
       "4      0.0           0    마포구   ST-2167       20231201             2  "
      ]
     },
     "execution_count": 41,
     "metadata": {},
     "output_type": "execute_result"
    }
   ],
   "source": [
    "new_data.head()"
   ]
  },
  {
   "cell_type": "code",
   "execution_count": 45,
   "metadata": {},
   "outputs": [],
   "source": [
    "# 훈련 데이터에서 사용된 특성 목록\n",
    "used_features = X_train.columns.tolist()"
   ]
  },
  {
   "cell_type": "code",
   "execution_count": 46,
   "metadata": {},
   "outputs": [],
   "source": [
    "new_data_selected = new_data[selected_features]"
   ]
  },
  {
   "cell_type": "code",
   "execution_count": 47,
   "metadata": {},
   "outputs": [],
   "source": [
    "for feature in categorical_features:\n",
    "    new_data_selected[feature] = pd.factorize(new_data_selected[feature])[0]  # 범주형 데이터를 숫자로 변환"
   ]
  },
  {
   "cell_type": "code",
   "execution_count": 49,
   "metadata": {},
   "outputs": [
    {
     "ename": "LightGBMError",
     "evalue": "The number of features in data (11) is not the same as it was in training data (10).\nYou can set ``predict_disable_shape_check=true`` to discard this error, but please be aware what you are doing.",
     "output_type": "error",
     "traceback": [
      "\u001b[1;31m---------------------------------------------------------------------------\u001b[0m",
      "\u001b[1;31mLightGBMError\u001b[0m                             Traceback (most recent call last)",
      "Cell \u001b[1;32mIn[49], line 1\u001b[0m\n\u001b[1;32m----> 1\u001b[0m y_pred_new \u001b[39m=\u001b[39m model\u001b[39m.\u001b[39mpredict(new_data_selected)\n\u001b[0;32m      2\u001b[0m \u001b[39mprint\u001b[39m(\u001b[39mf\u001b[39m\u001b[39m'\u001b[39m\u001b[39mPredictions for new data: \u001b[39m\u001b[39m{\u001b[39;00my_pred_new\u001b[39m}\u001b[39;00m\u001b[39m'\u001b[39m)\n",
      "File \u001b[1;32mc:\\ProgramData\\anaconda3\\Lib\\site-packages\\lightgbm\\basic.py:4220\u001b[0m, in \u001b[0;36mBooster.predict\u001b[1;34m(self, data, start_iteration, num_iteration, raw_score, pred_leaf, pred_contrib, data_has_header, validate_features, **kwargs)\u001b[0m\n\u001b[0;32m   4218\u001b[0m     \u001b[39melse\u001b[39;00m:\n\u001b[0;32m   4219\u001b[0m         num_iteration \u001b[39m=\u001b[39m \u001b[39m-\u001b[39m\u001b[39m1\u001b[39m\n\u001b[1;32m-> 4220\u001b[0m \u001b[39mreturn\u001b[39;00m predictor\u001b[39m.\u001b[39mpredict(\n\u001b[0;32m   4221\u001b[0m     data\u001b[39m=\u001b[39mdata,\n\u001b[0;32m   4222\u001b[0m     start_iteration\u001b[39m=\u001b[39mstart_iteration,\n\u001b[0;32m   4223\u001b[0m     num_iteration\u001b[39m=\u001b[39mnum_iteration,\n\u001b[0;32m   4224\u001b[0m     raw_score\u001b[39m=\u001b[39mraw_score,\n\u001b[0;32m   4225\u001b[0m     pred_leaf\u001b[39m=\u001b[39mpred_leaf,\n\u001b[0;32m   4226\u001b[0m     pred_contrib\u001b[39m=\u001b[39mpred_contrib,\n\u001b[0;32m   4227\u001b[0m     data_has_header\u001b[39m=\u001b[39mdata_has_header,\n\u001b[0;32m   4228\u001b[0m     validate_features\u001b[39m=\u001b[39mvalidate_features\n\u001b[0;32m   4229\u001b[0m )\n",
      "File \u001b[1;32mc:\\ProgramData\\anaconda3\\Lib\\site-packages\\lightgbm\\basic.py:1047\u001b[0m, in \u001b[0;36m_InnerPredictor.predict\u001b[1;34m(self, data, start_iteration, num_iteration, raw_score, pred_leaf, pred_contrib, data_has_header, validate_features)\u001b[0m\n\u001b[0;32m   1040\u001b[0m     preds, nrow \u001b[39m=\u001b[39m \u001b[39mself\u001b[39m\u001b[39m.\u001b[39m__pred_for_csc(\n\u001b[0;32m   1041\u001b[0m         csc\u001b[39m=\u001b[39mdata,\n\u001b[0;32m   1042\u001b[0m         start_iteration\u001b[39m=\u001b[39mstart_iteration,\n\u001b[0;32m   1043\u001b[0m         num_iteration\u001b[39m=\u001b[39mnum_iteration,\n\u001b[0;32m   1044\u001b[0m         predict_type\u001b[39m=\u001b[39mpredict_type\n\u001b[0;32m   1045\u001b[0m     )\n\u001b[0;32m   1046\u001b[0m \u001b[39melif\u001b[39;00m \u001b[39misinstance\u001b[39m(data, np\u001b[39m.\u001b[39mndarray):\n\u001b[1;32m-> 1047\u001b[0m     preds, nrow \u001b[39m=\u001b[39m \u001b[39mself\u001b[39m\u001b[39m.\u001b[39m__pred_for_np2d(\n\u001b[0;32m   1048\u001b[0m         mat\u001b[39m=\u001b[39mdata,\n\u001b[0;32m   1049\u001b[0m         start_iteration\u001b[39m=\u001b[39mstart_iteration,\n\u001b[0;32m   1050\u001b[0m         num_iteration\u001b[39m=\u001b[39mnum_iteration,\n\u001b[0;32m   1051\u001b[0m         predict_type\u001b[39m=\u001b[39mpredict_type\n\u001b[0;32m   1052\u001b[0m     )\n\u001b[0;32m   1053\u001b[0m \u001b[39melif\u001b[39;00m \u001b[39misinstance\u001b[39m(data, \u001b[39mlist\u001b[39m):\n\u001b[0;32m   1054\u001b[0m     \u001b[39mtry\u001b[39;00m:\n",
      "File \u001b[1;32mc:\\ProgramData\\anaconda3\\Lib\\site-packages\\lightgbm\\basic.py:1187\u001b[0m, in \u001b[0;36m_InnerPredictor.__pred_for_np2d\u001b[1;34m(self, mat, start_iteration, num_iteration, predict_type)\u001b[0m\n\u001b[0;32m   1185\u001b[0m     \u001b[39mreturn\u001b[39;00m preds, nrow\n\u001b[0;32m   1186\u001b[0m \u001b[39melse\u001b[39;00m:\n\u001b[1;32m-> 1187\u001b[0m     \u001b[39mreturn\u001b[39;00m \u001b[39mself\u001b[39m\u001b[39m.\u001b[39m__inner_predict_np2d(\n\u001b[0;32m   1188\u001b[0m         mat\u001b[39m=\u001b[39mmat,\n\u001b[0;32m   1189\u001b[0m         start_iteration\u001b[39m=\u001b[39mstart_iteration,\n\u001b[0;32m   1190\u001b[0m         num_iteration\u001b[39m=\u001b[39mnum_iteration,\n\u001b[0;32m   1191\u001b[0m         predict_type\u001b[39m=\u001b[39mpredict_type,\n\u001b[0;32m   1192\u001b[0m         preds\u001b[39m=\u001b[39m\u001b[39mNone\u001b[39;00m\n\u001b[0;32m   1193\u001b[0m     )\n",
      "File \u001b[1;32mc:\\ProgramData\\anaconda3\\Lib\\site-packages\\lightgbm\\basic.py:1140\u001b[0m, in \u001b[0;36m_InnerPredictor.__inner_predict_np2d\u001b[1;34m(self, mat, start_iteration, num_iteration, predict_type, preds)\u001b[0m\n\u001b[0;32m   1138\u001b[0m     \u001b[39mraise\u001b[39;00m \u001b[39mValueError\u001b[39;00m(\u001b[39m\"\u001b[39m\u001b[39mWrong length of pre-allocated predict array\u001b[39m\u001b[39m\"\u001b[39m)\n\u001b[0;32m   1139\u001b[0m out_num_preds \u001b[39m=\u001b[39m ctypes\u001b[39m.\u001b[39mc_int64(\u001b[39m0\u001b[39m)\n\u001b[1;32m-> 1140\u001b[0m _safe_call(_LIB\u001b[39m.\u001b[39mLGBM_BoosterPredictForMat(\n\u001b[0;32m   1141\u001b[0m     \u001b[39mself\u001b[39m\u001b[39m.\u001b[39m_handle,\n\u001b[0;32m   1142\u001b[0m     ptr_data,\n\u001b[0;32m   1143\u001b[0m     ctypes\u001b[39m.\u001b[39mc_int(type_ptr_data),\n\u001b[0;32m   1144\u001b[0m     ctypes\u001b[39m.\u001b[39mc_int32(mat\u001b[39m.\u001b[39mshape[\u001b[39m0\u001b[39m]),\n\u001b[0;32m   1145\u001b[0m     ctypes\u001b[39m.\u001b[39mc_int32(mat\u001b[39m.\u001b[39mshape[\u001b[39m1\u001b[39m]),\n\u001b[0;32m   1146\u001b[0m     ctypes\u001b[39m.\u001b[39mc_int(_C_API_IS_ROW_MAJOR),\n\u001b[0;32m   1147\u001b[0m     ctypes\u001b[39m.\u001b[39mc_int(predict_type),\n\u001b[0;32m   1148\u001b[0m     ctypes\u001b[39m.\u001b[39mc_int(start_iteration),\n\u001b[0;32m   1149\u001b[0m     ctypes\u001b[39m.\u001b[39mc_int(num_iteration),\n\u001b[0;32m   1150\u001b[0m     _c_str(\u001b[39mself\u001b[39m\u001b[39m.\u001b[39mpred_parameter),\n\u001b[0;32m   1151\u001b[0m     ctypes\u001b[39m.\u001b[39mbyref(out_num_preds),\n\u001b[0;32m   1152\u001b[0m     preds\u001b[39m.\u001b[39mctypes\u001b[39m.\u001b[39mdata_as(ctypes\u001b[39m.\u001b[39mPOINTER(ctypes\u001b[39m.\u001b[39mc_double))))\n\u001b[0;32m   1153\u001b[0m \u001b[39mif\u001b[39;00m n_preds \u001b[39m!=\u001b[39m out_num_preds\u001b[39m.\u001b[39mvalue:\n\u001b[0;32m   1154\u001b[0m     \u001b[39mraise\u001b[39;00m \u001b[39mValueError\u001b[39;00m(\u001b[39m\"\u001b[39m\u001b[39mWrong length for predict results\u001b[39m\u001b[39m\"\u001b[39m)\n",
      "File \u001b[1;32mc:\\ProgramData\\anaconda3\\Lib\\site-packages\\lightgbm\\basic.py:242\u001b[0m, in \u001b[0;36m_safe_call\u001b[1;34m(ret)\u001b[0m\n\u001b[0;32m    234\u001b[0m \u001b[39m\u001b[39m\u001b[39m\"\"\"Check the return value from C API call.\u001b[39;00m\n\u001b[0;32m    235\u001b[0m \n\u001b[0;32m    236\u001b[0m \u001b[39mParameters\u001b[39;00m\n\u001b[1;32m   (...)\u001b[0m\n\u001b[0;32m    239\u001b[0m \u001b[39m    The return value from C API calls.\u001b[39;00m\n\u001b[0;32m    240\u001b[0m \u001b[39m\"\"\"\u001b[39;00m\n\u001b[0;32m    241\u001b[0m \u001b[39mif\u001b[39;00m ret \u001b[39m!=\u001b[39m \u001b[39m0\u001b[39m:\n\u001b[1;32m--> 242\u001b[0m     \u001b[39mraise\u001b[39;00m LightGBMError(_LIB\u001b[39m.\u001b[39mLGBM_GetLastError()\u001b[39m.\u001b[39mdecode(\u001b[39m'\u001b[39m\u001b[39mutf-8\u001b[39m\u001b[39m'\u001b[39m))\n",
      "\u001b[1;31mLightGBMError\u001b[0m: The number of features in data (11) is not the same as it was in training data (10).\nYou can set ``predict_disable_shape_check=true`` to discard this error, but please be aware what you are doing."
     ]
    }
   ],
   "source": [
    "y_pred_new = model.predict(new_data_selected, num_iteration=model.best_iteration)\n",
    "print(f'Predictions for new data: {y_pred_new}')"
   ]
  },
  {
   "cell_type": "code",
   "execution_count": null,
   "metadata": {},
   "outputs": [],
   "source": []
  }
 ],
 "metadata": {
  "kernelspec": {
   "display_name": "base",
   "language": "python",
   "name": "python3"
  },
  "language_info": {
   "codemirror_mode": {
    "name": "ipython",
    "version": 3
   },
   "file_extension": ".py",
   "mimetype": "text/x-python",
   "name": "python",
   "nbconvert_exporter": "python",
   "pygments_lexer": "ipython3",
   "version": "3.11.4"
  },
  "orig_nbformat": 4
 },
 "nbformat": 4,
 "nbformat_minor": 2
}
