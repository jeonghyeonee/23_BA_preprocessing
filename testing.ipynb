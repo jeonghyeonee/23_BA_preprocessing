{
 "cells": [
  {
   "cell_type": "code",
   "execution_count": 75,
   "metadata": {},
   "outputs": [],
   "source": [
    "import lightgbm as lgb\n",
    "from sklearn.model_selection import train_test_split\n",
    "from sklearn.metrics import mean_squared_error, mean_absolute_error\n",
    "import numpy as np\n",
    "import pandas as pd\n",
    "from sklearn.model_selection import KFold\n",
    "from sklearn.metrics import r2_score"
   ]
  },
  {
   "cell_type": "code",
   "execution_count": 76,
   "metadata": {},
   "outputs": [],
   "source": [
    "# 훈련 데이터 로드\n",
    "data = pd.read_csv('merged_data.csv', encoding='utf-8')"
   ]
  },
  {
   "cell_type": "code",
   "execution_count": 77,
   "metadata": {},
   "outputs": [
    {
     "data": {
      "text/html": [
       "<div>\n",
       "<style scoped>\n",
       "    .dataframe tbody tr th:only-of-type {\n",
       "        vertical-align: middle;\n",
       "    }\n",
       "\n",
       "    .dataframe tbody tr th {\n",
       "        vertical-align: top;\n",
       "    }\n",
       "\n",
       "    .dataframe thead th {\n",
       "        text-align: right;\n",
       "    }\n",
       "</style>\n",
       "<table border=\"1\" class=\"dataframe\">\n",
       "  <thead>\n",
       "    <tr style=\"text-align: right;\">\n",
       "      <th></th>\n",
       "      <th>stn_id</th>\n",
       "      <th>borrowed_hour</th>\n",
       "      <th>borrowed_day</th>\n",
       "      <th>is_holiday</th>\n",
       "      <th>borrowed_num_nearby</th>\n",
       "      <th>강수량(mm)</th>\n",
       "      <th>wind_chill</th>\n",
       "      <th>stn_gu</th>\n",
       "      <th>nearby_id</th>\n",
       "      <th>borrowed_date</th>\n",
       "      <th>borrowed_num</th>\n",
       "    </tr>\n",
       "  </thead>\n",
       "  <tbody>\n",
       "    <tr>\n",
       "      <th>0</th>\n",
       "      <td>ST-10</td>\n",
       "      <td>0</td>\n",
       "      <td>6</td>\n",
       "      <td>1</td>\n",
       "      <td>2</td>\n",
       "      <td>0.0</td>\n",
       "      <td>21.031237</td>\n",
       "      <td>마포구</td>\n",
       "      <td>ST-2167</td>\n",
       "      <td>20221001</td>\n",
       "      <td>2</td>\n",
       "    </tr>\n",
       "    <tr>\n",
       "      <th>1</th>\n",
       "      <td>ST-10</td>\n",
       "      <td>1</td>\n",
       "      <td>6</td>\n",
       "      <td>1</td>\n",
       "      <td>1</td>\n",
       "      <td>0.0</td>\n",
       "      <td>20.222173</td>\n",
       "      <td>마포구</td>\n",
       "      <td>ST-2167</td>\n",
       "      <td>20221001</td>\n",
       "      <td>2</td>\n",
       "    </tr>\n",
       "    <tr>\n",
       "      <th>2</th>\n",
       "      <td>ST-10</td>\n",
       "      <td>2</td>\n",
       "      <td>6</td>\n",
       "      <td>1</td>\n",
       "      <td>2</td>\n",
       "      <td>0.0</td>\n",
       "      <td>19.589061</td>\n",
       "      <td>마포구</td>\n",
       "      <td>ST-2167</td>\n",
       "      <td>20221001</td>\n",
       "      <td>1</td>\n",
       "    </tr>\n",
       "    <tr>\n",
       "      <th>3</th>\n",
       "      <td>ST-10</td>\n",
       "      <td>3</td>\n",
       "      <td>6</td>\n",
       "      <td>1</td>\n",
       "      <td>0</td>\n",
       "      <td>0.0</td>\n",
       "      <td>19.552158</td>\n",
       "      <td>마포구</td>\n",
       "      <td>ST-2167</td>\n",
       "      <td>20221001</td>\n",
       "      <td>0</td>\n",
       "    </tr>\n",
       "    <tr>\n",
       "      <th>4</th>\n",
       "      <td>ST-10</td>\n",
       "      <td>4</td>\n",
       "      <td>6</td>\n",
       "      <td>1</td>\n",
       "      <td>2</td>\n",
       "      <td>0.0</td>\n",
       "      <td>18.783459</td>\n",
       "      <td>마포구</td>\n",
       "      <td>ST-2167</td>\n",
       "      <td>20221001</td>\n",
       "      <td>0</td>\n",
       "    </tr>\n",
       "    <tr>\n",
       "      <th>...</th>\n",
       "      <td>...</td>\n",
       "      <td>...</td>\n",
       "      <td>...</td>\n",
       "      <td>...</td>\n",
       "      <td>...</td>\n",
       "      <td>...</td>\n",
       "      <td>...</td>\n",
       "      <td>...</td>\n",
       "      <td>...</td>\n",
       "      <td>...</td>\n",
       "      <td>...</td>\n",
       "    </tr>\n",
       "    <tr>\n",
       "      <th>9647433</th>\n",
       "      <td>ST-1445</td>\n",
       "      <td>20</td>\n",
       "      <td>2</td>\n",
       "      <td>0</td>\n",
       "      <td>1</td>\n",
       "      <td>0.0</td>\n",
       "      <td>7.781195</td>\n",
       "      <td>용산구</td>\n",
       "      <td>ST-1328</td>\n",
       "      <td>20230228</td>\n",
       "      <td>0</td>\n",
       "    </tr>\n",
       "    <tr>\n",
       "      <th>9647434</th>\n",
       "      <td>ST-1445</td>\n",
       "      <td>21</td>\n",
       "      <td>2</td>\n",
       "      <td>0</td>\n",
       "      <td>0</td>\n",
       "      <td>0.0</td>\n",
       "      <td>7.974197</td>\n",
       "      <td>용산구</td>\n",
       "      <td>ST-1328</td>\n",
       "      <td>20230228</td>\n",
       "      <td>3</td>\n",
       "    </tr>\n",
       "    <tr>\n",
       "      <th>9647435</th>\n",
       "      <td>ST-1445</td>\n",
       "      <td>22</td>\n",
       "      <td>2</td>\n",
       "      <td>0</td>\n",
       "      <td>0</td>\n",
       "      <td>0.0</td>\n",
       "      <td>8.213957</td>\n",
       "      <td>용산구</td>\n",
       "      <td>ST-1328</td>\n",
       "      <td>20230228</td>\n",
       "      <td>0</td>\n",
       "    </tr>\n",
       "    <tr>\n",
       "      <th>9647436</th>\n",
       "      <td>ST-1445</td>\n",
       "      <td>23</td>\n",
       "      <td>2</td>\n",
       "      <td>0</td>\n",
       "      <td>0</td>\n",
       "      <td>0.0</td>\n",
       "      <td>8.163898</td>\n",
       "      <td>용산구</td>\n",
       "      <td>ST-1328</td>\n",
       "      <td>20230228</td>\n",
       "      <td>1</td>\n",
       "    </tr>\n",
       "    <tr>\n",
       "      <th>9647437</th>\n",
       "      <td>ST-3215</td>\n",
       "      <td>20</td>\n",
       "      <td>2</td>\n",
       "      <td>0</td>\n",
       "      <td>2</td>\n",
       "      <td>0.0</td>\n",
       "      <td>7.923815</td>\n",
       "      <td>양천구</td>\n",
       "      <td>ST-1016</td>\n",
       "      <td>20230228</td>\n",
       "      <td>1</td>\n",
       "    </tr>\n",
       "  </tbody>\n",
       "</table>\n",
       "<p>9647438 rows × 11 columns</p>\n",
       "</div>"
      ],
      "text/plain": [
       "          stn_id  borrowed_hour  borrowed_day  is_holiday  \\\n",
       "0          ST-10              0             6           1   \n",
       "1          ST-10              1             6           1   \n",
       "2          ST-10              2             6           1   \n",
       "3          ST-10              3             6           1   \n",
       "4          ST-10              4             6           1   \n",
       "...          ...            ...           ...         ...   \n",
       "9647433  ST-1445             20             2           0   \n",
       "9647434  ST-1445             21             2           0   \n",
       "9647435  ST-1445             22             2           0   \n",
       "9647436  ST-1445             23             2           0   \n",
       "9647437  ST-3215             20             2           0   \n",
       "\n",
       "         borrowed_num_nearby  강수량(mm)  wind_chill stn_gu nearby_id  \\\n",
       "0                          2      0.0   21.031237    마포구   ST-2167   \n",
       "1                          1      0.0   20.222173    마포구   ST-2167   \n",
       "2                          2      0.0   19.589061    마포구   ST-2167   \n",
       "3                          0      0.0   19.552158    마포구   ST-2167   \n",
       "4                          2      0.0   18.783459    마포구   ST-2167   \n",
       "...                      ...      ...         ...    ...       ...   \n",
       "9647433                    1      0.0    7.781195    용산구   ST-1328   \n",
       "9647434                    0      0.0    7.974197    용산구   ST-1328   \n",
       "9647435                    0      0.0    8.213957    용산구   ST-1328   \n",
       "9647436                    0      0.0    8.163898    용산구   ST-1328   \n",
       "9647437                    2      0.0    7.923815    양천구   ST-1016   \n",
       "\n",
       "         borrowed_date  borrowed_num  \n",
       "0             20221001             2  \n",
       "1             20221001             2  \n",
       "2             20221001             1  \n",
       "3             20221001             0  \n",
       "4             20221001             0  \n",
       "...                ...           ...  \n",
       "9647433       20230228             0  \n",
       "9647434       20230228             3  \n",
       "9647435       20230228             0  \n",
       "9647436       20230228             1  \n",
       "9647437       20230228             1  \n",
       "\n",
       "[9647438 rows x 11 columns]"
      ]
     },
     "execution_count": 77,
     "metadata": {},
     "output_type": "execute_result"
    }
   ],
   "source": [
    "data"
   ]
  },
  {
   "cell_type": "code",
   "execution_count": 78,
   "metadata": {},
   "outputs": [],
   "source": [
    "# 필요한 열 선택\n",
    "selected_features = ['stn_id', 'borrowed_hour', 'borrowed_day', 'is_holiday', 'borrowed_num_nearby', '강수량(mm)', 'wind_chill', 'stn_gu', 'nearby_id', 'borrowed_date', 'borrowed_num']\n",
    "data = data[selected_features]"
   ]
  },
  {
   "cell_type": "code",
   "execution_count": 79,
   "metadata": {},
   "outputs": [],
   "source": [
    "# 범주형 데이터를 숫자로 변환 (Label Encoding)\n",
    "categorical_features = ['stn_id', 'stn_gu', 'nearby_id']\n",
    "for feature in categorical_features:\n",
    "    data[feature] = pd.factorize(data[feature])[0]"
   ]
  },
  {
   "cell_type": "code",
   "execution_count": 80,
   "metadata": {},
   "outputs": [],
   "source": [
    "# train-test split\n",
    "X_train, X_test, y_train, y_test = train_test_split(data.drop('borrowed_num', axis=1), data['borrowed_num'], test_size=0.2, random_state=42)"
   ]
  },
  {
   "cell_type": "code",
   "execution_count": 91,
   "metadata": {},
   "outputs": [],
   "source": [
    "# LightGBM 모델 생성 및 훈련\n",
    "params = {\n",
    "    'objective': 'regression',\n",
    "    'metric': 'rmse',\n",
    "    'boosting_type': 'gbdt',\n",
    "    'num_leaves': 70,\n",
    "    'learning_rate': 0.05,\n",
    "    'feature_fraction': 0.9\n",
    "}"
   ]
  },
  {
   "cell_type": "code",
   "execution_count": 92,
   "metadata": {},
   "outputs": [
    {
     "name": "stdout",
     "output_type": "stream",
     "text": [
      "[LightGBM] [Info] Auto-choosing row-wise multi-threading, the overhead of testing was 0.365077 seconds.\n",
      "You can set `force_row_wise=true` to remove the overhead.\n",
      "And if memory is not enough, you can set `force_col_wise=true`.\n",
      "[LightGBM] [Info] Total Bins 1136\n",
      "[LightGBM] [Info] Number of data points in the train set: 7717950, number of used features: 10\n",
      "[LightGBM] [Info] Start training from score 1.483498\n",
      "Training until validation scores don't improve for 3 rounds\n",
      "Early stopping, best iteration is:\n",
      "[2691]\tvalid_0's rmse: 1.79101\n"
     ]
    }
   ],
   "source": [
    "train_data = lgb.Dataset(X_train, label=y_train)\n",
    "test_data = lgb.Dataset(X_test, label=y_test, reference=train_data)\n",
    "\n",
    "model = lgb.train(params, train_data, num_boost_round=100000, valid_sets=[test_data], callbacks=[\n",
    "        lgb.early_stopping(stopping_rounds=3, verbose=100),\n",
    "    ])"
   ]
  },
  {
   "cell_type": "code",
   "execution_count": 93,
   "metadata": {},
   "outputs": [],
   "source": [
    "# 훈련 데이터에서의 평가\n",
    "y_pred_train = model.predict(X_train, num_iteration=model.best_iteration)\n",
    "mse_train = mean_squared_error(y_train, y_pred_train)\n",
    "mae_train = mean_absolute_error(y_train, y_pred_train)\n",
    "rmse_train = mean_squared_error(y_train, y_pred_train, squared=False)\n",
    "print(f'Training MSE: {mse_train}')\n",
    "print(f'Training MAE: {mae_train}')\n",
    "print(f'Training RMSE: {rmse_train}')\n",
    "\n",
    "# 검증 데이터에서의 평가\n",
    "y_pred_test = model.predict(X_test, num_iteration=model.best_iteration)\n",
    "mse_test = mean_squared_error(y_test, y_pred_test)\n",
    "mae_test = mean_absolute_error(y_test, y_pred_test)\n",
    "rmse_test = mean_squared_error(y_test, y_pred_test, squared=False)\n",
    "print(f'Test MSE: {mse_test}')\n",
    "print(f'Test MAE: {mae_test}')\n",
    "print(f'Test RMSE: {rmse_test}')"
   ]
  },
  {
   "cell_type": "code",
   "execution_count": null,
   "metadata": {},
   "outputs": [
    {
     "name": "stdout",
     "output_type": "stream",
     "text": [
      "R-squared for training data: 0.6078997735886429\n",
      "R-squared for test data: 0.5947505725107973\n"
     ]
    }
   ],
   "source": [
    "# R-squared 계산\n",
    "# 훈련 데이터에서의 R-squared 계산\n",
    "r2_train = r2_score(y_train, y_pred_train)\n",
    "\n",
    "# 테스트 데이터에서의 R-squared 계산\n",
    "r2_test = r2_score(y_test, y_pred_test)\n",
    "\n",
    "print(\"R-squared for training data:\", r2_train)\n",
    "print(\"R-squared for test data:\", r2_test)"
   ]
  },
  {
   "cell_type": "code",
   "execution_count": 69,
   "metadata": {},
   "outputs": [],
   "source": [
    "# 새로운 데이터 예측\n",
    "new_data = pd.read_csv('data/new_data.csv', encoding='utf-8')  # 'new_data.csv'는 새로운 데이터 파일명으로 대체해야 합니다.\n"
   ]
  },
  {
   "cell_type": "code",
   "execution_count": 70,
   "metadata": {},
   "outputs": [
    {
     "data": {
      "text/html": [
       "<div>\n",
       "<style scoped>\n",
       "    .dataframe tbody tr th:only-of-type {\n",
       "        vertical-align: middle;\n",
       "    }\n",
       "\n",
       "    .dataframe tbody tr th {\n",
       "        vertical-align: top;\n",
       "    }\n",
       "\n",
       "    .dataframe thead th {\n",
       "        text-align: right;\n",
       "    }\n",
       "</style>\n",
       "<table border=\"1\" class=\"dataframe\">\n",
       "  <thead>\n",
       "    <tr style=\"text-align: right;\">\n",
       "      <th></th>\n",
       "      <th>stn_id</th>\n",
       "      <th>borrowed_hour</th>\n",
       "      <th>borrowed_day</th>\n",
       "      <th>is_holiday</th>\n",
       "      <th>borrowed_num_nearby</th>\n",
       "      <th>강수량(mm)</th>\n",
       "      <th>wind_chill</th>\n",
       "      <th>stn_gu</th>\n",
       "      <th>nearby_id</th>\n",
       "      <th>borrowed_date</th>\n",
       "    </tr>\n",
       "  </thead>\n",
       "  <tbody>\n",
       "    <tr>\n",
       "      <th>0</th>\n",
       "      <td>ST-1442</td>\n",
       "      <td>21</td>\n",
       "      <td>6</td>\n",
       "      <td>1</td>\n",
       "      <td>2</td>\n",
       "      <td>0.0</td>\n",
       "      <td>2</td>\n",
       "      <td>중랑구</td>\n",
       "      <td>ST-1429</td>\n",
       "      <td>20231202</td>\n",
       "    </tr>\n",
       "    <tr>\n",
       "      <th>1</th>\n",
       "      <td>ST-2915</td>\n",
       "      <td>21</td>\n",
       "      <td>6</td>\n",
       "      <td>1</td>\n",
       "      <td>2</td>\n",
       "      <td>0.0</td>\n",
       "      <td>2</td>\n",
       "      <td>노원구</td>\n",
       "      <td>ST-5319</td>\n",
       "      <td>20231202</td>\n",
       "    </tr>\n",
       "    <tr>\n",
       "      <th>2</th>\n",
       "      <td>ST-3533</td>\n",
       "      <td>21</td>\n",
       "      <td>6</td>\n",
       "      <td>1</td>\n",
       "      <td>2</td>\n",
       "      <td>0.0</td>\n",
       "      <td>2</td>\n",
       "      <td>광진구</td>\n",
       "      <td>ST-3534</td>\n",
       "      <td>20231202</td>\n",
       "    </tr>\n",
       "    <tr>\n",
       "      <th>3</th>\n",
       "      <td>ST-2104</td>\n",
       "      <td>21</td>\n",
       "      <td>6</td>\n",
       "      <td>1</td>\n",
       "      <td>2</td>\n",
       "      <td>0.0</td>\n",
       "      <td>2</td>\n",
       "      <td>관악구</td>\n",
       "      <td>ST-2034</td>\n",
       "      <td>20231202</td>\n",
       "    </tr>\n",
       "    <tr>\n",
       "      <th>4</th>\n",
       "      <td>ST-2222</td>\n",
       "      <td>21</td>\n",
       "      <td>6</td>\n",
       "      <td>1</td>\n",
       "      <td>2</td>\n",
       "      <td>0.0</td>\n",
       "      <td>2</td>\n",
       "      <td>서초구</td>\n",
       "      <td>ST-2089</td>\n",
       "      <td>20231202</td>\n",
       "    </tr>\n",
       "  </tbody>\n",
       "</table>\n",
       "</div>"
      ],
      "text/plain": [
       "    stn_id  borrowed_hour  borrowed_day  is_holiday  borrowed_num_nearby  \\\n",
       "0  ST-1442             21             6           1                    2   \n",
       "1  ST-2915             21             6           1                    2   \n",
       "2  ST-3533             21             6           1                    2   \n",
       "3  ST-2104             21             6           1                    2   \n",
       "4  ST-2222             21             6           1                    2   \n",
       "\n",
       "   강수량(mm)  wind_chill stn_gu nearby_id  borrowed_date  \n",
       "0      0.0           2    중랑구   ST-1429       20231202  \n",
       "1      0.0           2    노원구   ST-5319       20231202  \n",
       "2      0.0           2    광진구   ST-3534       20231202  \n",
       "3      0.0           2    관악구   ST-2034       20231202  \n",
       "4      0.0           2    서초구   ST-2089       20231202  "
      ]
     },
     "execution_count": 70,
     "metadata": {},
     "output_type": "execute_result"
    }
   ],
   "source": [
    "new_data"
   ]
  },
  {
   "cell_type": "code",
   "execution_count": 71,
   "metadata": {},
   "outputs": [],
   "source": [
    "# Select necessary features\n",
    "new_data = new_data[selected_features[:-1]]  # Exclude 'borrowed_num' since it's the target variable\n"
   ]
  },
  {
   "cell_type": "code",
   "execution_count": 72,
   "metadata": {},
   "outputs": [],
   "source": [
    "# Convert categorical features to numeric using the same Label Encoding\n",
    "for feature in categorical_features:\n",
    "    new_data[feature] = pd.factorize(new_data[feature])[0]"
   ]
  },
  {
   "cell_type": "code",
   "execution_count": 73,
   "metadata": {},
   "outputs": [],
   "source": [
    "# Use the trained LightGBM model to make predictions on the new data\n",
    "predictions = model.predict(new_data, num_iteration=model.best_iteration)"
   ]
  },
  {
   "cell_type": "code",
   "execution_count": 74,
   "metadata": {},
   "outputs": [
    {
     "name": "stdout",
     "output_type": "stream",
     "text": [
      "[2.05250218 1.52827561 1.52827561 0.89383863 1.65474476]\n"
     ]
    }
   ],
   "source": [
    "# Display the predictions\n",
    "print(predictions)"
   ]
  },
  {
   "cell_type": "markdown",
   "metadata": {},
   "source": [
    "# Done!!!"
   ]
  },
  {
   "cell_type": "code",
   "execution_count": 121,
   "metadata": {},
   "outputs": [],
   "source": [
    "used_features = X_train.columns.to_list()"
   ]
  },
  {
   "cell_type": "code",
   "execution_count": 122,
   "metadata": {},
   "outputs": [],
   "source": [
    "new_data_selected = new_data[used_features]"
   ]
  },
  {
   "cell_type": "code",
   "execution_count": 123,
   "metadata": {},
   "outputs": [
    {
     "name": "stderr",
     "output_type": "stream",
     "text": [
      "C:\\Users\\user\\AppData\\Local\\Temp\\ipykernel_20744\\3711079374.py:3: SettingWithCopyWarning: \n",
      "A value is trying to be set on a copy of a slice from a DataFrame.\n",
      "Try using .loc[row_indexer,col_indexer] = value instead\n",
      "\n",
      "See the caveats in the documentation: https://pandas.pydata.org/pandas-docs/stable/user_guide/indexing.html#returning-a-view-versus-a-copy\n",
      "  new_data_selected[feature] = pd.factorize(new_data_selected[feature].astype(str))[0]\n",
      "C:\\Users\\user\\AppData\\Local\\Temp\\ipykernel_20744\\3711079374.py:3: SettingWithCopyWarning: \n",
      "A value is trying to be set on a copy of a slice from a DataFrame.\n",
      "Try using .loc[row_indexer,col_indexer] = value instead\n",
      "\n",
      "See the caveats in the documentation: https://pandas.pydata.org/pandas-docs/stable/user_guide/indexing.html#returning-a-view-versus-a-copy\n",
      "  new_data_selected[feature] = pd.factorize(new_data_selected[feature].astype(str))[0]\n",
      "C:\\Users\\user\\AppData\\Local\\Temp\\ipykernel_20744\\3711079374.py:3: SettingWithCopyWarning: \n",
      "A value is trying to be set on a copy of a slice from a DataFrame.\n",
      "Try using .loc[row_indexer,col_indexer] = value instead\n",
      "\n",
      "See the caveats in the documentation: https://pandas.pydata.org/pandas-docs/stable/user_guide/indexing.html#returning-a-view-versus-a-copy\n",
      "  new_data_selected[feature] = pd.factorize(new_data_selected[feature].astype(str))[0]\n"
     ]
    }
   ],
   "source": [
    "for feature in categorical_features:\n",
    "    # 새로운 데이터의 범주형 열을 label encoding할 때 object 타입을 피하기 위해 astype 사용\n",
    "    new_data_selected[feature] = pd.factorize(new_data_selected[feature].astype(str))[0]"
   ]
  },
  {
   "cell_type": "code",
   "execution_count": 124,
   "metadata": {},
   "outputs": [
    {
     "name": "stdout",
     "output_type": "stream",
     "text": [
      "Predictions for new data: [2.06048776 1.5087868  1.9599274  1.40895879 0.80777283]\n"
     ]
    }
   ],
   "source": [
    "# 예측\n",
    "y_pred_new = model.predict(new_data_selected, num_iteration=model.best_iteration)\n",
    "print(f'Predictions for new data: {y_pred_new}')"
   ]
  },
  {
   "cell_type": "code",
   "execution_count": null,
   "metadata": {},
   "outputs": [],
   "source": []
  }
 ],
 "metadata": {
  "kernelspec": {
   "display_name": "base",
   "language": "python",
   "name": "python3"
  },
  "language_info": {
   "codemirror_mode": {
    "name": "ipython",
    "version": 3
   },
   "file_extension": ".py",
   "mimetype": "text/x-python",
   "name": "python",
   "nbconvert_exporter": "python",
   "pygments_lexer": "ipython3",
   "version": "3.11.4"
  },
  "orig_nbformat": 4
 },
 "nbformat": 4,
 "nbformat_minor": 2
}
