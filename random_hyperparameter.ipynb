{
 "cells": [
  {
   "cell_type": "code",
   "execution_count": 1,
   "metadata": {},
   "outputs": [],
   "source": [
    "from sklearn.model_selection import train_test_split, RandomizedSearchCV\n",
    "from sklearn.metrics import mean_squared_error, r2_score\n",
    "from xgboost import XGBRegressor\n",
    "from lightgbm import LGBMRegressor\n",
    "from scipy.stats import randint, uniform\n",
    "import pandas as pd\n",
    "import numpy as np"
   ]
  },
  {
   "cell_type": "code",
   "execution_count": 2,
   "metadata": {},
   "outputs": [],
   "source": [
    "\n",
    "# 데이터 로드\n",
    "data = pd.read_csv('merged_data.csv', encoding='utf-8')\n",
    "\n"
   ]
  },
  {
   "cell_type": "code",
   "execution_count": 3,
   "metadata": {},
   "outputs": [],
   "source": [
    "# 필요한 열 선택\n",
    "selected_features = ['stn_id', 'borrowed_hour', 'borrowed_day', 'is_holiday', 'borrowed_num_nearby', '강수량(mm)', 'wind_chill', 'stn_gu', 'nearby_id', 'borrowed_date', 'borrowed_num']\n",
    "data = data[selected_features]\n"
   ]
  },
  {
   "cell_type": "code",
   "execution_count": 4,
   "metadata": {},
   "outputs": [],
   "source": [
    "\n",
    "# 범주형 데이터를 숫자로 변환 (Label Encoding)\n",
    "categorical_features = ['stn_id', 'stn_gu', 'nearby_id']\n",
    "for feature in categorical_features:\n",
    "    data[feature] = pd.factorize(data[feature])[0]\n"
   ]
  },
  {
   "cell_type": "code",
   "execution_count": 5,
   "metadata": {},
   "outputs": [],
   "source": [
    "\n",
    "# 훈련-테스트 데이터 분할\n",
    "X_train, X_test, y_train, y_test = train_test_split(data.drop('borrowed_num', axis=1), data['borrowed_num'], test_size=0.2, random_state=42)"
   ]
  },
  {
   "cell_type": "code",
   "execution_count": 6,
   "metadata": {},
   "outputs": [],
   "source": [
    "\n",
    "# LightGBM 모델 정의\n",
    "lgb_model = LGBMRegressor()\n",
    "\n",
    "# LightGBM의 하이퍼파라미터 분포 정의\n",
    "lgb_param_dist = {\n",
    "    'num_leaves': randint(31, 100),\n",
    "    'learning_rate': uniform(0.01, 0.1),\n",
    "    'feature_fraction': uniform(0.8, 1.0)\n",
    "}\n"
   ]
  },
  {
   "cell_type": "code",
   "execution_count": 7,
   "metadata": {},
   "outputs": [
    {
     "name": "stdout",
     "output_type": "stream",
     "text": [
      "[LightGBM] [Warning] feature_fraction is set=1.1745401188473625, colsample_bytree=1.0 will be ignored. Current value: feature_fraction=1.1745401188473625\n",
      "[LightGBM] [Warning] feature_fraction is set=1.1745401188473625, colsample_bytree=1.0 will be ignored. Current value: feature_fraction=1.1745401188473625\n",
      "[LightGBM] [Warning] feature_fraction is set=1.1745401188473625, colsample_bytree=1.0 will be ignored. Current value: feature_fraction=1.1745401188473625\n",
      "[LightGBM] [Warning] feature_fraction is set=1.3968501579464871, colsample_bytree=1.0 will be ignored. Current value: feature_fraction=1.3968501579464871\n",
      "[LightGBM] [Warning] feature_fraction is set=1.3968501579464871, colsample_bytree=1.0 will be ignored. Current value: feature_fraction=1.3968501579464871\n",
      "[LightGBM] [Warning] feature_fraction is set=1.3968501579464871, colsample_bytree=1.0 will be ignored. Current value: feature_fraction=1.3968501579464871\n",
      "[LightGBM] [Warning] feature_fraction is set=1.450888472948853, colsample_bytree=1.0 will be ignored. Current value: feature_fraction=1.450888472948853\n",
      "[LightGBM] [Warning] feature_fraction is set=1.450888472948853, colsample_bytree=1.0 will be ignored. Current value: feature_fraction=1.450888472948853\n",
      "[LightGBM] [Warning] feature_fraction is set=1.450888472948853, colsample_bytree=1.0 will be ignored. Current value: feature_fraction=1.450888472948853\n",
      "[LightGBM] [Warning] feature_fraction is set=1.0123391106782762, colsample_bytree=1.0 will be ignored. Current value: feature_fraction=1.0123391106782762\n",
      "[LightGBM] [Warning] feature_fraction is set=1.0123391106782762, colsample_bytree=1.0 will be ignored. Current value: feature_fraction=1.0123391106782762\n",
      "[LightGBM] [Warning] feature_fraction is set=1.0123391106782762, colsample_bytree=1.0 will be ignored. Current value: feature_fraction=1.0123391106782762\n",
      "[LightGBM] [Warning] feature_fraction is set=1.4174815096277165, colsample_bytree=1.0 will be ignored. Current value: feature_fraction=1.4174815096277165\n",
      "[LightGBM] [Warning] feature_fraction is set=1.4174815096277165, colsample_bytree=1.0 will be ignored. Current value: feature_fraction=1.4174815096277165\n",
      "[LightGBM] [Warning] feature_fraction is set=1.4174815096277165, colsample_bytree=1.0 will be ignored. Current value: feature_fraction=1.4174815096277165\n",
      "[LightGBM] [Warning] feature_fraction is set=1.3247746602583892, colsample_bytree=1.0 will be ignored. Current value: feature_fraction=1.3247746602583892\n",
      "[LightGBM] [Warning] feature_fraction is set=1.3247746602583892, colsample_bytree=1.0 will be ignored. Current value: feature_fraction=1.3247746602583892\n",
      "[LightGBM] [Warning] feature_fraction is set=1.3247746602583892, colsample_bytree=1.0 will be ignored. Current value: feature_fraction=1.3247746602583892\n",
      "[LightGBM] [Warning] feature_fraction is set=1.1663618432936917, colsample_bytree=1.0 will be ignored. Current value: feature_fraction=1.1663618432936917\n",
      "[LightGBM] [Warning] feature_fraction is set=1.1663618432936917, colsample_bytree=1.0 will be ignored. Current value: feature_fraction=1.1663618432936917\n",
      "[LightGBM] [Warning] feature_fraction is set=1.1663618432936917, colsample_bytree=1.0 will be ignored. Current value: feature_fraction=1.1663618432936917\n",
      "[LightGBM] [Warning] feature_fraction is set=1.4183860093330873, colsample_bytree=1.0 will be ignored. Current value: feature_fraction=1.4183860093330873\n",
      "[LightGBM] [Warning] feature_fraction is set=1.4183860093330873, colsample_bytree=1.0 will be ignored. Current value: feature_fraction=1.4183860093330873\n",
      "[LightGBM] [Warning] feature_fraction is set=1.4183860093330873, colsample_bytree=1.0 will be ignored. Current value: feature_fraction=1.4183860093330873\n",
      "[LightGBM] [Warning] feature_fraction is set=1.26676289324798, colsample_bytree=1.0 will be ignored. Current value: feature_fraction=1.26676289324798\n",
      "[LightGBM] [Warning] feature_fraction is set=1.26676289324798, colsample_bytree=1.0 will be ignored. Current value: feature_fraction=1.26676289324798\n",
      "[LightGBM] [Warning] feature_fraction is set=1.26676289324798, colsample_bytree=1.0 will be ignored. Current value: feature_fraction=1.26676289324798\n",
      "[LightGBM] [Warning] feature_fraction is set=0.9705241236872916, colsample_bytree=1.0 will be ignored. Current value: feature_fraction=0.9705241236872916\n",
      "[LightGBM] [Warning] feature_fraction is set=0.9705241236872916, colsample_bytree=1.0 will be ignored. Current value: feature_fraction=0.9705241236872916\n",
      "[LightGBM] [Info] Auto-choosing row-wise multi-threading, the overhead of testing was 0.780060 seconds.\n",
      "You can set `force_row_wise=true` to remove the overhead.\n",
      "And if memory is not enough, you can set `force_col_wise=true`.\n",
      "[LightGBM] [Info] Total Bins 1136\n",
      "[LightGBM] [Info] Number of data points in the train set: 5145300, number of used features: 10\n",
      "[LightGBM] [Info] Start training from score 1.482044\n",
      "[LightGBM] [Warning] feature_fraction is set=0.9705241236872916, colsample_bytree=1.0 will be ignored. Current value: feature_fraction=0.9705241236872916\n",
      "[LightGBM] [Warning] feature_fraction is set=0.9705241236872916, colsample_bytree=1.0 will be ignored. Current value: feature_fraction=0.9705241236872916\n",
      "[LightGBM] [Warning] feature_fraction is set=0.9705241236872916, colsample_bytree=1.0 will be ignored. Current value: feature_fraction=0.9705241236872916\n",
      "[LightGBM] [Info] Auto-choosing col-wise multi-threading, the overhead of testing was 0.707155 seconds.\n",
      "You can set `force_col_wise=true` to remove the overhead.\n",
      "[LightGBM] [Info] Total Bins 1136\n",
      "[LightGBM] [Info] Number of data points in the train set: 5145300, number of used features: 10\n",
      "[LightGBM] [Info] Start training from score 1.484790\n",
      "[LightGBM] [Warning] feature_fraction is set=0.9705241236872916, colsample_bytree=1.0 will be ignored. Current value: feature_fraction=0.9705241236872916\n",
      "[LightGBM] [Warning] feature_fraction is set=0.9705241236872916, colsample_bytree=1.0 will be ignored. Current value: feature_fraction=0.9705241236872916\n",
      "[LightGBM] [Warning] feature_fraction is set=0.9705241236872916, colsample_bytree=1.0 will be ignored. Current value: feature_fraction=0.9705241236872916\n",
      "[LightGBM] [Info] Auto-choosing col-wise multi-threading, the overhead of testing was 0.854184 seconds.\n",
      "You can set `force_col_wise=true` to remove the overhead.\n",
      "[LightGBM] [Info] Total Bins 1139\n",
      "[LightGBM] [Info] Number of data points in the train set: 5145300, number of used features: 10\n",
      "[LightGBM] [Info] Start training from score 1.483662\n",
      "[LightGBM] [Warning] feature_fraction is set=0.9705241236872916, colsample_bytree=1.0 will be ignored. Current value: feature_fraction=0.9705241236872916\n"
     ]
    },
    {
     "name": "stderr",
     "output_type": "stream",
     "text": [
      "c:\\ProgramData\\anaconda3\\Lib\\site-packages\\sklearn\\model_selection\\_validation.py:425: FitFailedWarning: \n",
      "27 fits failed out of a total of 30.\n",
      "The score on these train-test partitions for these parameters will be set to nan.\n",
      "If these failures are not expected, you can try to debug them by setting error_score='raise'.\n",
      "\n",
      "Below are more details about the failures:\n",
      "--------------------------------------------------------------------------------\n",
      "27 fits failed with the following error:\n",
      "Traceback (most recent call last):\n",
      "  File \"c:\\ProgramData\\anaconda3\\Lib\\site-packages\\sklearn\\model_selection\\_validation.py\", line 732, in _fit_and_score\n",
      "    estimator.fit(X_train, y_train, **fit_params)\n",
      "  File \"c:\\ProgramData\\anaconda3\\Lib\\site-packages\\lightgbm\\sklearn.py\", line 1049, in fit\n",
      "    super().fit(\n",
      "  File \"c:\\ProgramData\\anaconda3\\Lib\\site-packages\\lightgbm\\sklearn.py\", line 842, in fit\n",
      "    self._Booster = train(\n",
      "                    ^^^^^^\n",
      "  File \"c:\\ProgramData\\anaconda3\\Lib\\site-packages\\lightgbm\\engine.py\", line 255, in train\n",
      "    booster = Booster(params=params, train_set=train_set)\n",
      "              ^^^^^^^^^^^^^^^^^^^^^^^^^^^^^^^^^^^^^^^^^^^\n",
      "  File \"c:\\ProgramData\\anaconda3\\Lib\\site-packages\\lightgbm\\basic.py\", line 3200, in __init__\n",
      "    train_set.construct()\n",
      "  File \"c:\\ProgramData\\anaconda3\\Lib\\site-packages\\lightgbm\\basic.py\", line 2276, in construct\n",
      "    self._lazy_init(data=self.data, label=self.label, reference=None,\n",
      "  File \"c:\\ProgramData\\anaconda3\\Lib\\site-packages\\lightgbm\\basic.py\", line 1918, in _lazy_init\n",
      "    self.__init_from_np2d(data, params_str, ref_dataset)\n",
      "  File \"c:\\ProgramData\\anaconda3\\Lib\\site-packages\\lightgbm\\basic.py\", line 2054, in __init_from_np2d\n",
      "    _safe_call(_LIB.LGBM_DatasetCreateFromMat(\n",
      "  File \"c:\\ProgramData\\anaconda3\\Lib\\site-packages\\lightgbm\\basic.py\", line 242, in _safe_call\n",
      "    raise LightGBMError(_LIB.LGBM_GetLastError().decode('utf-8'))\n",
      "lightgbm.basic.LightGBMError: Check failed: (feature_fraction) <= (1.0) at D:\\a\\1\\s\\lightgbm-python\\src\\io\\config_auto.cpp, line 381 .\n",
      "\n",
      "\n",
      "  warnings.warn(some_fits_failed_message, FitFailedWarning)\n",
      "c:\\ProgramData\\anaconda3\\Lib\\site-packages\\sklearn\\model_selection\\_search.py:976: UserWarning: One or more of the test scores are non-finite: [        nan         nan         nan         nan         nan         nan\n",
      "         nan         nan         nan -5.85229616]\n",
      "  warnings.warn(\n"
     ]
    },
    {
     "name": "stdout",
     "output_type": "stream",
     "text": [
      "[LightGBM] [Warning] feature_fraction is set=0.9705241236872916, colsample_bytree=1.0 will be ignored. Current value: feature_fraction=0.9705241236872916\n",
      "[LightGBM] [Warning] feature_fraction is set=0.9705241236872916, colsample_bytree=1.0 will be ignored. Current value: feature_fraction=0.9705241236872916\n",
      "[LightGBM] [Info] Auto-choosing row-wise multi-threading, the overhead of testing was 0.774935 seconds.\n",
      "You can set `force_row_wise=true` to remove the overhead.\n",
      "And if memory is not enough, you can set `force_col_wise=true`.\n",
      "[LightGBM] [Info] Total Bins 1139\n",
      "[LightGBM] [Info] Number of data points in the train set: 7717950, number of used features: 10\n",
      "[LightGBM] [Info] Start training from score 1.483498\n"
     ]
    },
    {
     "data": {
      "text/html": [
       "<style>#sk-container-id-1 {color: black;}#sk-container-id-1 pre{padding: 0;}#sk-container-id-1 div.sk-toggleable {background-color: white;}#sk-container-id-1 label.sk-toggleable__label {cursor: pointer;display: block;width: 100%;margin-bottom: 0;padding: 0.3em;box-sizing: border-box;text-align: center;}#sk-container-id-1 label.sk-toggleable__label-arrow:before {content: \"▸\";float: left;margin-right: 0.25em;color: #696969;}#sk-container-id-1 label.sk-toggleable__label-arrow:hover:before {color: black;}#sk-container-id-1 div.sk-estimator:hover label.sk-toggleable__label-arrow:before {color: black;}#sk-container-id-1 div.sk-toggleable__content {max-height: 0;max-width: 0;overflow: hidden;text-align: left;background-color: #f0f8ff;}#sk-container-id-1 div.sk-toggleable__content pre {margin: 0.2em;color: black;border-radius: 0.25em;background-color: #f0f8ff;}#sk-container-id-1 input.sk-toggleable__control:checked~div.sk-toggleable__content {max-height: 200px;max-width: 100%;overflow: auto;}#sk-container-id-1 input.sk-toggleable__control:checked~label.sk-toggleable__label-arrow:before {content: \"▾\";}#sk-container-id-1 div.sk-estimator input.sk-toggleable__control:checked~label.sk-toggleable__label {background-color: #d4ebff;}#sk-container-id-1 div.sk-label input.sk-toggleable__control:checked~label.sk-toggleable__label {background-color: #d4ebff;}#sk-container-id-1 input.sk-hidden--visually {border: 0;clip: rect(1px 1px 1px 1px);clip: rect(1px, 1px, 1px, 1px);height: 1px;margin: -1px;overflow: hidden;padding: 0;position: absolute;width: 1px;}#sk-container-id-1 div.sk-estimator {font-family: monospace;background-color: #f0f8ff;border: 1px dotted black;border-radius: 0.25em;box-sizing: border-box;margin-bottom: 0.5em;}#sk-container-id-1 div.sk-estimator:hover {background-color: #d4ebff;}#sk-container-id-1 div.sk-parallel-item::after {content: \"\";width: 100%;border-bottom: 1px solid gray;flex-grow: 1;}#sk-container-id-1 div.sk-label:hover label.sk-toggleable__label {background-color: #d4ebff;}#sk-container-id-1 div.sk-serial::before {content: \"\";position: absolute;border-left: 1px solid gray;box-sizing: border-box;top: 0;bottom: 0;left: 50%;z-index: 0;}#sk-container-id-1 div.sk-serial {display: flex;flex-direction: column;align-items: center;background-color: white;padding-right: 0.2em;padding-left: 0.2em;position: relative;}#sk-container-id-1 div.sk-item {position: relative;z-index: 1;}#sk-container-id-1 div.sk-parallel {display: flex;align-items: stretch;justify-content: center;background-color: white;position: relative;}#sk-container-id-1 div.sk-item::before, #sk-container-id-1 div.sk-parallel-item::before {content: \"\";position: absolute;border-left: 1px solid gray;box-sizing: border-box;top: 0;bottom: 0;left: 50%;z-index: -1;}#sk-container-id-1 div.sk-parallel-item {display: flex;flex-direction: column;z-index: 1;position: relative;background-color: white;}#sk-container-id-1 div.sk-parallel-item:first-child::after {align-self: flex-end;width: 50%;}#sk-container-id-1 div.sk-parallel-item:last-child::after {align-self: flex-start;width: 50%;}#sk-container-id-1 div.sk-parallel-item:only-child::after {width: 0;}#sk-container-id-1 div.sk-dashed-wrapped {border: 1px dashed gray;margin: 0 0.4em 0.5em 0.4em;box-sizing: border-box;padding-bottom: 0.4em;background-color: white;}#sk-container-id-1 div.sk-label label {font-family: monospace;font-weight: bold;display: inline-block;line-height: 1.2em;}#sk-container-id-1 div.sk-label-container {text-align: center;}#sk-container-id-1 div.sk-container {/* jupyter's `normalize.less` sets `[hidden] { display: none; }` but bootstrap.min.css set `[hidden] { display: none !important; }` so we also need the `!important` here to be able to override the default hidden behavior on the sphinx rendered scikit-learn.org. See: https://github.com/scikit-learn/scikit-learn/issues/21755 */display: inline-block !important;position: relative;}#sk-container-id-1 div.sk-text-repr-fallback {display: none;}</style><div id=\"sk-container-id-1\" class=\"sk-top-container\"><div class=\"sk-text-repr-fallback\"><pre>RandomizedSearchCV(cv=3, estimator=LGBMRegressor(),\n",
       "                   param_distributions={&#x27;feature_fraction&#x27;: &lt;scipy.stats._distn_infrastructure.rv_continuous_frozen object at 0x000001A623CBC690&gt;,\n",
       "                                        &#x27;learning_rate&#x27;: &lt;scipy.stats._distn_infrastructure.rv_continuous_frozen object at 0x000001A65C844E90&gt;,\n",
       "                                        &#x27;num_leaves&#x27;: &lt;scipy.stats._distn_infrastructure.rv_discrete_frozen object at 0x000001A65B827E90&gt;},\n",
       "                   random_state=42, scoring=&#x27;neg_mean_squared_error&#x27;)</pre><b>In a Jupyter environment, please rerun this cell to show the HTML representation or trust the notebook. <br />On GitHub, the HTML representation is unable to render, please try loading this page with nbviewer.org.</b></div><div class=\"sk-container\" hidden><div class=\"sk-item sk-dashed-wrapped\"><div class=\"sk-label-container\"><div class=\"sk-label sk-toggleable\"><input class=\"sk-toggleable__control sk-hidden--visually\" id=\"sk-estimator-id-1\" type=\"checkbox\" ><label for=\"sk-estimator-id-1\" class=\"sk-toggleable__label sk-toggleable__label-arrow\">RandomizedSearchCV</label><div class=\"sk-toggleable__content\"><pre>RandomizedSearchCV(cv=3, estimator=LGBMRegressor(),\n",
       "                   param_distributions={&#x27;feature_fraction&#x27;: &lt;scipy.stats._distn_infrastructure.rv_continuous_frozen object at 0x000001A623CBC690&gt;,\n",
       "                                        &#x27;learning_rate&#x27;: &lt;scipy.stats._distn_infrastructure.rv_continuous_frozen object at 0x000001A65C844E90&gt;,\n",
       "                                        &#x27;num_leaves&#x27;: &lt;scipy.stats._distn_infrastructure.rv_discrete_frozen object at 0x000001A65B827E90&gt;},\n",
       "                   random_state=42, scoring=&#x27;neg_mean_squared_error&#x27;)</pre></div></div></div><div class=\"sk-parallel\"><div class=\"sk-parallel-item\"><div class=\"sk-item\"><div class=\"sk-label-container\"><div class=\"sk-label sk-toggleable\"><input class=\"sk-toggleable__control sk-hidden--visually\" id=\"sk-estimator-id-2\" type=\"checkbox\" ><label for=\"sk-estimator-id-2\" class=\"sk-toggleable__label sk-toggleable__label-arrow\">estimator: LGBMRegressor</label><div class=\"sk-toggleable__content\"><pre>LGBMRegressor()</pre></div></div></div><div class=\"sk-serial\"><div class=\"sk-item\"><div class=\"sk-estimator sk-toggleable\"><input class=\"sk-toggleable__control sk-hidden--visually\" id=\"sk-estimator-id-3\" type=\"checkbox\" ><label for=\"sk-estimator-id-3\" class=\"sk-toggleable__label sk-toggleable__label-arrow\">LGBMRegressor</label><div class=\"sk-toggleable__content\"><pre>LGBMRegressor()</pre></div></div></div></div></div></div></div></div></div></div>"
      ],
      "text/plain": [
       "RandomizedSearchCV(cv=3, estimator=LGBMRegressor(),\n",
       "                   param_distributions={'feature_fraction': <scipy.stats._distn_infrastructure.rv_continuous_frozen object at 0x000001A623CBC690>,\n",
       "                                        'learning_rate': <scipy.stats._distn_infrastructure.rv_continuous_frozen object at 0x000001A65C844E90>,\n",
       "                                        'num_leaves': <scipy.stats._distn_infrastructure.rv_discrete_frozen object at 0x000001A65B827E90>},\n",
       "                   random_state=42, scoring='neg_mean_squared_error')"
      ]
     },
     "execution_count": 7,
     "metadata": {},
     "output_type": "execute_result"
    }
   ],
   "source": [
    "# 랜덤 서치 수행\n",
    "lgb_random_search = RandomizedSearchCV(estimator=lgb_model, param_distributions=lgb_param_dist, n_iter=10, scoring='neg_mean_squared_error', cv=3, random_state=42)\n",
    "lgb_random_search.fit(X_train, y_train)\n"
   ]
  },
  {
   "cell_type": "code",
   "execution_count": 8,
   "metadata": {},
   "outputs": [],
   "source": [
    "\n",
    "# 최적의 LightGBM 모델\n",
    "best_lgb_model = lgb_random_search.best_estimator_\n"
   ]
  },
  {
   "cell_type": "code",
   "execution_count": 9,
   "metadata": {},
   "outputs": [],
   "source": [
    "\n",
    "# XGBoost 모델 정의\n",
    "xgb_model = XGBRegressor()\n",
    "\n",
    "# XGBoost의 하이퍼파라미터 분포 정의\n",
    "xgb_param_dist = {\n",
    "    'max_depth': randint(5, 15),\n",
    "    'learning_rate': uniform(0.01, 0.1),\n",
    "    'subsample': uniform(0.8, 1.0)\n",
    "}\n"
   ]
  },
  {
   "cell_type": "code",
   "execution_count": 10,
   "metadata": {},
   "outputs": [
    {
     "name": "stderr",
     "output_type": "stream",
     "text": [
      "c:\\ProgramData\\anaconda3\\Lib\\site-packages\\sklearn\\model_selection\\_validation.py:425: FitFailedWarning: \n",
      "15 fits failed out of a total of 30.\n",
      "The score on these train-test partitions for these parameters will be set to nan.\n",
      "If these failures are not expected, you can try to debug them by setting error_score='raise'.\n",
      "\n",
      "Below are more details about the failures:\n",
      "--------------------------------------------------------------------------------\n",
      "3 fits failed with the following error:\n",
      "Traceback (most recent call last):\n",
      "  File \"c:\\ProgramData\\anaconda3\\Lib\\site-packages\\sklearn\\model_selection\\_validation.py\", line 732, in _fit_and_score\n",
      "    estimator.fit(X_train, y_train, **fit_params)\n",
      "  File \"c:\\ProgramData\\anaconda3\\Lib\\site-packages\\xgboost\\core.py\", line 729, in inner_f\n",
      "    return func(**kwargs)\n",
      "           ^^^^^^^^^^^^^^\n",
      "  File \"c:\\ProgramData\\anaconda3\\Lib\\site-packages\\xgboost\\sklearn.py\", line 1086, in fit\n",
      "    self._Booster = train(\n",
      "                    ^^^^^^\n",
      "  File \"c:\\ProgramData\\anaconda3\\Lib\\site-packages\\xgboost\\core.py\", line 729, in inner_f\n",
      "    return func(**kwargs)\n",
      "           ^^^^^^^^^^^^^^\n",
      "  File \"c:\\ProgramData\\anaconda3\\Lib\\site-packages\\xgboost\\training.py\", line 181, in train\n",
      "    bst.update(dtrain, i, obj)\n",
      "  File \"c:\\ProgramData\\anaconda3\\Lib\\site-packages\\xgboost\\core.py\", line 2049, in update\n",
      "    _check_call(\n",
      "  File \"c:\\ProgramData\\anaconda3\\Lib\\site-packages\\xgboost\\core.py\", line 281, in _check_call\n",
      "    raise XGBoostError(py_str(_LIB.XGBGetLastError()))\n",
      "xgboost.core.XGBoostError: value 1.39866 for Parameter subsample exceed bound [0,1]\n",
      "subsample: Row subsample ratio of training instance.\n",
      "\n",
      "--------------------------------------------------------------------------------\n",
      "3 fits failed with the following error:\n",
      "Traceback (most recent call last):\n",
      "  File \"c:\\ProgramData\\anaconda3\\Lib\\site-packages\\sklearn\\model_selection\\_validation.py\", line 732, in _fit_and_score\n",
      "    estimator.fit(X_train, y_train, **fit_params)\n",
      "  File \"c:\\ProgramData\\anaconda3\\Lib\\site-packages\\xgboost\\core.py\", line 729, in inner_f\n",
      "    return func(**kwargs)\n",
      "           ^^^^^^^^^^^^^^\n",
      "  File \"c:\\ProgramData\\anaconda3\\Lib\\site-packages\\xgboost\\sklearn.py\", line 1086, in fit\n",
      "    self._Booster = train(\n",
      "                    ^^^^^^\n",
      "  File \"c:\\ProgramData\\anaconda3\\Lib\\site-packages\\xgboost\\core.py\", line 729, in inner_f\n",
      "    return func(**kwargs)\n",
      "           ^^^^^^^^^^^^^^\n",
      "  File \"c:\\ProgramData\\anaconda3\\Lib\\site-packages\\xgboost\\training.py\", line 181, in train\n",
      "    bst.update(dtrain, i, obj)\n",
      "  File \"c:\\ProgramData\\anaconda3\\Lib\\site-packages\\xgboost\\core.py\", line 2049, in update\n",
      "    _check_call(\n",
      "  File \"c:\\ProgramData\\anaconda3\\Lib\\site-packages\\xgboost\\core.py\", line 281, in _check_call\n",
      "    raise XGBoostError(py_str(_LIB.XGBGetLastError()))\n",
      "xgboost.core.XGBoostError: value 1.40111 for Parameter subsample exceed bound [0,1]\n",
      "subsample: Row subsample ratio of training instance.\n",
      "\n",
      "--------------------------------------------------------------------------------\n",
      "3 fits failed with the following error:\n",
      "Traceback (most recent call last):\n",
      "  File \"c:\\ProgramData\\anaconda3\\Lib\\site-packages\\sklearn\\model_selection\\_validation.py\", line 732, in _fit_and_score\n",
      "    estimator.fit(X_train, y_train, **fit_params)\n",
      "  File \"c:\\ProgramData\\anaconda3\\Lib\\site-packages\\xgboost\\core.py\", line 729, in inner_f\n",
      "    return func(**kwargs)\n",
      "           ^^^^^^^^^^^^^^\n",
      "  File \"c:\\ProgramData\\anaconda3\\Lib\\site-packages\\xgboost\\sklearn.py\", line 1086, in fit\n",
      "    self._Booster = train(\n",
      "                    ^^^^^^\n",
      "  File \"c:\\ProgramData\\anaconda3\\Lib\\site-packages\\xgboost\\core.py\", line 729, in inner_f\n",
      "    return func(**kwargs)\n",
      "           ^^^^^^^^^^^^^^\n",
      "  File \"c:\\ProgramData\\anaconda3\\Lib\\site-packages\\xgboost\\training.py\", line 181, in train\n",
      "    bst.update(dtrain, i, obj)\n",
      "  File \"c:\\ProgramData\\anaconda3\\Lib\\site-packages\\xgboost\\core.py\", line 2049, in update\n",
      "    _check_call(\n",
      "  File \"c:\\ProgramData\\anaconda3\\Lib\\site-packages\\xgboost\\core.py\", line 281, in _check_call\n",
      "    raise XGBoostError(py_str(_LIB.XGBGetLastError()))\n",
      "xgboost.core.XGBoostError: value 1.10424 for Parameter subsample exceed bound [0,1]\n",
      "subsample: Row subsample ratio of training instance.\n",
      "\n",
      "--------------------------------------------------------------------------------\n",
      "3 fits failed with the following error:\n",
      "Traceback (most recent call last):\n",
      "  File \"c:\\ProgramData\\anaconda3\\Lib\\site-packages\\sklearn\\model_selection\\_validation.py\", line 732, in _fit_and_score\n",
      "    estimator.fit(X_train, y_train, **fit_params)\n",
      "  File \"c:\\ProgramData\\anaconda3\\Lib\\site-packages\\xgboost\\core.py\", line 729, in inner_f\n",
      "    return func(**kwargs)\n",
      "           ^^^^^^^^^^^^^^\n",
      "  File \"c:\\ProgramData\\anaconda3\\Lib\\site-packages\\xgboost\\sklearn.py\", line 1086, in fit\n",
      "    self._Booster = train(\n",
      "                    ^^^^^^\n",
      "  File \"c:\\ProgramData\\anaconda3\\Lib\\site-packages\\xgboost\\core.py\", line 729, in inner_f\n",
      "    return func(**kwargs)\n",
      "           ^^^^^^^^^^^^^^\n",
      "  File \"c:\\ProgramData\\anaconda3\\Lib\\site-packages\\xgboost\\training.py\", line 181, in train\n",
      "    bst.update(dtrain, i, obj)\n",
      "  File \"c:\\ProgramData\\anaconda3\\Lib\\site-packages\\xgboost\\core.py\", line 2049, in update\n",
      "    _check_call(\n",
      "  File \"c:\\ProgramData\\anaconda3\\Lib\\site-packages\\xgboost\\core.py\", line 281, in _check_call\n",
      "    raise XGBoostError(py_str(_LIB.XGBGetLastError()))\n",
      "xgboost.core.XGBoostError: value 1.09123 for Parameter subsample exceed bound [0,1]\n",
      "subsample: Row subsample ratio of training instance.\n",
      "\n",
      "--------------------------------------------------------------------------------\n",
      "3 fits failed with the following error:\n",
      "Traceback (most recent call last):\n",
      "  File \"c:\\ProgramData\\anaconda3\\Lib\\site-packages\\sklearn\\model_selection\\_validation.py\", line 732, in _fit_and_score\n",
      "    estimator.fit(X_train, y_train, **fit_params)\n",
      "  File \"c:\\ProgramData\\anaconda3\\Lib\\site-packages\\xgboost\\core.py\", line 729, in inner_f\n",
      "    return func(**kwargs)\n",
      "           ^^^^^^^^^^^^^^\n",
      "  File \"c:\\ProgramData\\anaconda3\\Lib\\site-packages\\xgboost\\sklearn.py\", line 1086, in fit\n",
      "    self._Booster = train(\n",
      "                    ^^^^^^\n",
      "  File \"c:\\ProgramData\\anaconda3\\Lib\\site-packages\\xgboost\\core.py\", line 729, in inner_f\n",
      "    return func(**kwargs)\n",
      "           ^^^^^^^^^^^^^^\n",
      "  File \"c:\\ProgramData\\anaconda3\\Lib\\site-packages\\xgboost\\training.py\", line 181, in train\n",
      "    bst.update(dtrain, i, obj)\n",
      "  File \"c:\\ProgramData\\anaconda3\\Lib\\site-packages\\xgboost\\core.py\", line 2049, in update\n",
      "    _check_call(\n",
      "  File \"c:\\ProgramData\\anaconda3\\Lib\\site-packages\\xgboost\\core.py\", line 281, in _check_call\n",
      "    raise XGBoostError(py_str(_LIB.XGBGetLastError()))\n",
      "xgboost.core.XGBoostError: value 1.18246 for Parameter subsample exceed bound [0,1]\n",
      "subsample: Row subsample ratio of training instance.\n",
      "\n",
      "  warnings.warn(some_fits_failed_message, FitFailedWarning)\n",
      "c:\\ProgramData\\anaconda3\\Lib\\site-packages\\sklearn\\model_selection\\_search.py:976: UserWarning: One or more of the test scores are non-finite: [        nan -5.44986659         nan -3.97585308 -3.9852478          nan\n",
      "         nan -3.30840411         nan -3.25412816]\n",
      "  warnings.warn(\n"
     ]
    },
    {
     "data": {
      "text/html": [
       "<style>#sk-container-id-2 {color: black;}#sk-container-id-2 pre{padding: 0;}#sk-container-id-2 div.sk-toggleable {background-color: white;}#sk-container-id-2 label.sk-toggleable__label {cursor: pointer;display: block;width: 100%;margin-bottom: 0;padding: 0.3em;box-sizing: border-box;text-align: center;}#sk-container-id-2 label.sk-toggleable__label-arrow:before {content: \"▸\";float: left;margin-right: 0.25em;color: #696969;}#sk-container-id-2 label.sk-toggleable__label-arrow:hover:before {color: black;}#sk-container-id-2 div.sk-estimator:hover label.sk-toggleable__label-arrow:before {color: black;}#sk-container-id-2 div.sk-toggleable__content {max-height: 0;max-width: 0;overflow: hidden;text-align: left;background-color: #f0f8ff;}#sk-container-id-2 div.sk-toggleable__content pre {margin: 0.2em;color: black;border-radius: 0.25em;background-color: #f0f8ff;}#sk-container-id-2 input.sk-toggleable__control:checked~div.sk-toggleable__content {max-height: 200px;max-width: 100%;overflow: auto;}#sk-container-id-2 input.sk-toggleable__control:checked~label.sk-toggleable__label-arrow:before {content: \"▾\";}#sk-container-id-2 div.sk-estimator input.sk-toggleable__control:checked~label.sk-toggleable__label {background-color: #d4ebff;}#sk-container-id-2 div.sk-label input.sk-toggleable__control:checked~label.sk-toggleable__label {background-color: #d4ebff;}#sk-container-id-2 input.sk-hidden--visually {border: 0;clip: rect(1px 1px 1px 1px);clip: rect(1px, 1px, 1px, 1px);height: 1px;margin: -1px;overflow: hidden;padding: 0;position: absolute;width: 1px;}#sk-container-id-2 div.sk-estimator {font-family: monospace;background-color: #f0f8ff;border: 1px dotted black;border-radius: 0.25em;box-sizing: border-box;margin-bottom: 0.5em;}#sk-container-id-2 div.sk-estimator:hover {background-color: #d4ebff;}#sk-container-id-2 div.sk-parallel-item::after {content: \"\";width: 100%;border-bottom: 1px solid gray;flex-grow: 1;}#sk-container-id-2 div.sk-label:hover label.sk-toggleable__label {background-color: #d4ebff;}#sk-container-id-2 div.sk-serial::before {content: \"\";position: absolute;border-left: 1px solid gray;box-sizing: border-box;top: 0;bottom: 0;left: 50%;z-index: 0;}#sk-container-id-2 div.sk-serial {display: flex;flex-direction: column;align-items: center;background-color: white;padding-right: 0.2em;padding-left: 0.2em;position: relative;}#sk-container-id-2 div.sk-item {position: relative;z-index: 1;}#sk-container-id-2 div.sk-parallel {display: flex;align-items: stretch;justify-content: center;background-color: white;position: relative;}#sk-container-id-2 div.sk-item::before, #sk-container-id-2 div.sk-parallel-item::before {content: \"\";position: absolute;border-left: 1px solid gray;box-sizing: border-box;top: 0;bottom: 0;left: 50%;z-index: -1;}#sk-container-id-2 div.sk-parallel-item {display: flex;flex-direction: column;z-index: 1;position: relative;background-color: white;}#sk-container-id-2 div.sk-parallel-item:first-child::after {align-self: flex-end;width: 50%;}#sk-container-id-2 div.sk-parallel-item:last-child::after {align-self: flex-start;width: 50%;}#sk-container-id-2 div.sk-parallel-item:only-child::after {width: 0;}#sk-container-id-2 div.sk-dashed-wrapped {border: 1px dashed gray;margin: 0 0.4em 0.5em 0.4em;box-sizing: border-box;padding-bottom: 0.4em;background-color: white;}#sk-container-id-2 div.sk-label label {font-family: monospace;font-weight: bold;display: inline-block;line-height: 1.2em;}#sk-container-id-2 div.sk-label-container {text-align: center;}#sk-container-id-2 div.sk-container {/* jupyter's `normalize.less` sets `[hidden] { display: none; }` but bootstrap.min.css set `[hidden] { display: none !important; }` so we also need the `!important` here to be able to override the default hidden behavior on the sphinx rendered scikit-learn.org. See: https://github.com/scikit-learn/scikit-learn/issues/21755 */display: inline-block !important;position: relative;}#sk-container-id-2 div.sk-text-repr-fallback {display: none;}</style><div id=\"sk-container-id-2\" class=\"sk-top-container\"><div class=\"sk-text-repr-fallback\"><pre>RandomizedSearchCV(cv=3,\n",
       "                   estimator=XGBRegressor(base_score=None, booster=None,\n",
       "                                          callbacks=None,\n",
       "                                          colsample_bylevel=None,\n",
       "                                          colsample_bynode=None,\n",
       "                                          colsample_bytree=None, device=None,\n",
       "                                          early_stopping_rounds=None,\n",
       "                                          enable_categorical=False,\n",
       "                                          eval_metric=None, feature_types=None,\n",
       "                                          gamma=None, grow_policy=None,\n",
       "                                          importance_type=None,\n",
       "                                          interaction_constraints=None,\n",
       "                                          learning_rate=...\n",
       "                   param_distributions={&#x27;learning_rate&#x27;: &lt;scipy.stats._distn_infrastructure.rv_continuous_frozen object at 0x000001A6575A4B90&gt;,\n",
       "                                        &#x27;max_depth&#x27;: &lt;scipy.stats._distn_infrastructure.rv_discrete_frozen object at 0x000001A6575F2950&gt;,\n",
       "                                        &#x27;subsample&#x27;: &lt;scipy.stats._distn_infrastructure.rv_continuous_frozen object at 0x000001A6575A7210&gt;},\n",
       "                   random_state=42, scoring=&#x27;neg_mean_squared_error&#x27;)</pre><b>In a Jupyter environment, please rerun this cell to show the HTML representation or trust the notebook. <br />On GitHub, the HTML representation is unable to render, please try loading this page with nbviewer.org.</b></div><div class=\"sk-container\" hidden><div class=\"sk-item sk-dashed-wrapped\"><div class=\"sk-label-container\"><div class=\"sk-label sk-toggleable\"><input class=\"sk-toggleable__control sk-hidden--visually\" id=\"sk-estimator-id-4\" type=\"checkbox\" ><label for=\"sk-estimator-id-4\" class=\"sk-toggleable__label sk-toggleable__label-arrow\">RandomizedSearchCV</label><div class=\"sk-toggleable__content\"><pre>RandomizedSearchCV(cv=3,\n",
       "                   estimator=XGBRegressor(base_score=None, booster=None,\n",
       "                                          callbacks=None,\n",
       "                                          colsample_bylevel=None,\n",
       "                                          colsample_bynode=None,\n",
       "                                          colsample_bytree=None, device=None,\n",
       "                                          early_stopping_rounds=None,\n",
       "                                          enable_categorical=False,\n",
       "                                          eval_metric=None, feature_types=None,\n",
       "                                          gamma=None, grow_policy=None,\n",
       "                                          importance_type=None,\n",
       "                                          interaction_constraints=None,\n",
       "                                          learning_rate=...\n",
       "                   param_distributions={&#x27;learning_rate&#x27;: &lt;scipy.stats._distn_infrastructure.rv_continuous_frozen object at 0x000001A6575A4B90&gt;,\n",
       "                                        &#x27;max_depth&#x27;: &lt;scipy.stats._distn_infrastructure.rv_discrete_frozen object at 0x000001A6575F2950&gt;,\n",
       "                                        &#x27;subsample&#x27;: &lt;scipy.stats._distn_infrastructure.rv_continuous_frozen object at 0x000001A6575A7210&gt;},\n",
       "                   random_state=42, scoring=&#x27;neg_mean_squared_error&#x27;)</pre></div></div></div><div class=\"sk-parallel\"><div class=\"sk-parallel-item\"><div class=\"sk-item\"><div class=\"sk-label-container\"><div class=\"sk-label sk-toggleable\"><input class=\"sk-toggleable__control sk-hidden--visually\" id=\"sk-estimator-id-5\" type=\"checkbox\" ><label for=\"sk-estimator-id-5\" class=\"sk-toggleable__label sk-toggleable__label-arrow\">estimator: XGBRegressor</label><div class=\"sk-toggleable__content\"><pre>XGBRegressor(base_score=None, booster=None, callbacks=None,\n",
       "             colsample_bylevel=None, colsample_bynode=None,\n",
       "             colsample_bytree=None, device=None, early_stopping_rounds=None,\n",
       "             enable_categorical=False, eval_metric=None, feature_types=None,\n",
       "             gamma=None, grow_policy=None, importance_type=None,\n",
       "             interaction_constraints=None, learning_rate=None, max_bin=None,\n",
       "             max_cat_threshold=None, max_cat_to_onehot=None,\n",
       "             max_delta_step=None, max_depth=None, max_leaves=None,\n",
       "             min_child_weight=None, missing=nan, monotone_constraints=None,\n",
       "             multi_strategy=None, n_estimators=None, n_jobs=None,\n",
       "             num_parallel_tree=None, random_state=None, ...)</pre></div></div></div><div class=\"sk-serial\"><div class=\"sk-item\"><div class=\"sk-estimator sk-toggleable\"><input class=\"sk-toggleable__control sk-hidden--visually\" id=\"sk-estimator-id-6\" type=\"checkbox\" ><label for=\"sk-estimator-id-6\" class=\"sk-toggleable__label sk-toggleable__label-arrow\">XGBRegressor</label><div class=\"sk-toggleable__content\"><pre>XGBRegressor(base_score=None, booster=None, callbacks=None,\n",
       "             colsample_bylevel=None, colsample_bynode=None,\n",
       "             colsample_bytree=None, device=None, early_stopping_rounds=None,\n",
       "             enable_categorical=False, eval_metric=None, feature_types=None,\n",
       "             gamma=None, grow_policy=None, importance_type=None,\n",
       "             interaction_constraints=None, learning_rate=None, max_bin=None,\n",
       "             max_cat_threshold=None, max_cat_to_onehot=None,\n",
       "             max_delta_step=None, max_depth=None, max_leaves=None,\n",
       "             min_child_weight=None, missing=nan, monotone_constraints=None,\n",
       "             multi_strategy=None, n_estimators=None, n_jobs=None,\n",
       "             num_parallel_tree=None, random_state=None, ...)</pre></div></div></div></div></div></div></div></div></div></div>"
      ],
      "text/plain": [
       "RandomizedSearchCV(cv=3,\n",
       "                   estimator=XGBRegressor(base_score=None, booster=None,\n",
       "                                          callbacks=None,\n",
       "                                          colsample_bylevel=None,\n",
       "                                          colsample_bynode=None,\n",
       "                                          colsample_bytree=None, device=None,\n",
       "                                          early_stopping_rounds=None,\n",
       "                                          enable_categorical=False,\n",
       "                                          eval_metric=None, feature_types=None,\n",
       "                                          gamma=None, grow_policy=None,\n",
       "                                          importance_type=None,\n",
       "                                          interaction_constraints=None,\n",
       "                                          learning_rate=...\n",
       "                   param_distributions={'learning_rate': <scipy.stats._distn_infrastructure.rv_continuous_frozen object at 0x000001A6575A4B90>,\n",
       "                                        'max_depth': <scipy.stats._distn_infrastructure.rv_discrete_frozen object at 0x000001A6575F2950>,\n",
       "                                        'subsample': <scipy.stats._distn_infrastructure.rv_continuous_frozen object at 0x000001A6575A7210>},\n",
       "                   random_state=42, scoring='neg_mean_squared_error')"
      ]
     },
     "execution_count": 10,
     "metadata": {},
     "output_type": "execute_result"
    }
   ],
   "source": [
    "\n",
    "# 랜덤 서치 수행\n",
    "xgb_random_search = RandomizedSearchCV(estimator=xgb_model, param_distributions=xgb_param_dist, n_iter=10, scoring='neg_mean_squared_error', cv=3, random_state=42)\n",
    "xgb_random_search.fit(X_train, y_train)\n",
    "\n"
   ]
  },
  {
   "cell_type": "code",
   "execution_count": 11,
   "metadata": {},
   "outputs": [],
   "source": [
    "\n",
    "# 최적의 XGBoost 모델\n",
    "best_xgb_model = xgb_random_search.best_estimator_\n"
   ]
  },
  {
   "cell_type": "code",
   "execution_count": 12,
   "metadata": {},
   "outputs": [
    {
     "name": "stdout",
     "output_type": "stream",
     "text": [
      "[LightGBM] [Warning] feature_fraction is set=0.9705241236872916, colsample_bytree=1.0 will be ignored. Current value: feature_fraction=0.9705241236872916\n",
      "[LightGBM] [Warning] feature_fraction is set=0.9705241236872916, colsample_bytree=1.0 will be ignored. Current value: feature_fraction=0.9705241236872916\n"
     ]
    }
   ],
   "source": [
    "\n",
    "# 최적의 모델을 사용하여 예측 생성\n",
    "y_pred_train_lgb = best_lgb_model.predict(X_train)\n",
    "y_pred_test_lgb = best_lgb_model.predict(X_test)\n",
    "\n",
    "y_pred_train_xgb = best_xgb_model.predict(X_train)\n",
    "y_pred_test_xgb = best_xgb_model.predict(X_test)\n",
    "\n"
   ]
  },
  {
   "cell_type": "code",
   "execution_count": 13,
   "metadata": {},
   "outputs": [],
   "source": [
    "# 앙상블 예측 (평균이나 가중 평균 등의 방법 사용 가능)\n",
    "y_pred_train_ensemble = (y_pred_train_lgb + y_pred_train_xgb) / 2\n",
    "y_pred_test_ensemble = (y_pred_test_lgb + y_pred_test_xgb) / 2\n",
    "\n"
   ]
  },
  {
   "cell_type": "code",
   "execution_count": 14,
   "metadata": {},
   "outputs": [
    {
     "name": "stdout",
     "output_type": "stream",
     "text": [
      "앙상블 훈련 RMSE: 1.9548190665518157\n",
      "앙상블 테스트 RMSE: 2.0104574055356643\n",
      "앙상블 훈련 R-squared: 0.5432027493696077\n",
      "앙상블 테스트 R-squared: 0.5165285810506997\n"
     ]
    }
   ],
   "source": [
    "# 앙상블 예측 평가\n",
    "ensemble_rmse_train = mean_squared_error(y_train, y_pred_train_ensemble, squared=False)\n",
    "ensemble_rmse_test = mean_squared_error(y_test, y_pred_test_ensemble, squared=False)\n",
    "ensemble_r2_train = r2_score(y_train, y_pred_train_ensemble)\n",
    "ensemble_r2_test = r2_score(y_test, y_pred_test_ensemble)\n",
    "\n",
    "print(f'앙상블 훈련 RMSE: {ensemble_rmse_train}')\n",
    "print(f'앙상블 테스트 RMSE: {ensemble_rmse_test}')\n",
    "print(f'앙상블 훈련 R-squared: {ensemble_r2_train}')\n",
    "print(f'앙상블 테스트 R-squared: {ensemble_r2_test}')"
   ]
  },
  {
   "cell_type": "code",
   "execution_count": 15,
   "metadata": {},
   "outputs": [
    {
     "name": "stdout",
     "output_type": "stream",
     "text": [
      "Best LightGBM Model:\n",
      "LGBMRegressor(feature_fraction=0.9705241236872916,\n",
      "              learning_rate=0.01650515929852795, num_leaves=34)\n",
      "Best LightGBM Parameters:\n",
      "{'feature_fraction': 0.9705241236872916, 'learning_rate': 0.01650515929852795, 'num_leaves': 34}\n",
      "Best XGBoost Model:\n",
      "XGBRegressor(base_score=None, booster=None, callbacks=None,\n",
      "             colsample_bylevel=None, colsample_bynode=None,\n",
      "             colsample_bytree=None, device=None, early_stopping_rounds=None,\n",
      "             enable_categorical=False, eval_metric=None, feature_types=None,\n",
      "             gamma=None, grow_policy=None, importance_type=None,\n",
      "             interaction_constraints=None, learning_rate=0.10832308858067882,\n",
      "             max_bin=None, max_cat_threshold=None, max_cat_to_onehot=None,\n",
      "             max_delta_step=None, max_depth=13, max_leaves=None,\n",
      "             min_child_weight=None, missing=nan, monotone_constraints=None,\n",
      "             multi_strategy=None, n_estimators=None, n_jobs=None,\n",
      "             num_parallel_tree=None, random_state=None, ...)\n",
      "Best XGBoost Parameters:\n",
      "{'learning_rate': 0.10832308858067882, 'max_depth': 13, 'subsample': 0.8464504127199978}\n"
     ]
    }
   ],
   "source": [
    "# 최적의 LightGBM 모델 및 파라미터 출력\n",
    "print(\"Best LightGBM Model:\")\n",
    "print(best_lgb_model)\n",
    "print(\"Best LightGBM Parameters:\")\n",
    "print(lgb_random_search.best_params_)\n",
    "\n",
    "# 최적의 XGBoost 모델 및 파라미터 출력\n",
    "print(\"Best XGBoost Model:\")\n",
    "print(best_xgb_model)\n",
    "print(\"Best XGBoost Parameters:\")\n",
    "print(xgb_random_search.best_params_)"
   ]
  },
  {
   "cell_type": "code",
   "execution_count": 16,
   "metadata": {},
   "outputs": [
    {
     "name": "stdout",
     "output_type": "stream",
     "text": [
      "앙상블 훈련 RMSE: 1.9548190665518157\n",
      "앙상블 테스트 RMSE: 2.0104574055356643\n",
      "앙상블 훈련 MAE: 1.1445154810349647\n",
      "앙상블 테스트 MAE: 1.1633586807474188\n",
      "앙상블 훈련 R-squared: 0.5432027493696077\n",
      "앙상블 테스트 R-squared: 0.5165285810506997\n"
     ]
    }
   ],
   "source": [
    "from sklearn.metrics import mean_squared_error, mean_absolute_error, r2_score\n",
    "import numpy as np\n",
    "\n",
    "# 앙상블 예측 평가\n",
    "ensemble_rmse_train = mean_squared_error(y_train, y_pred_train_ensemble, squared=False)\n",
    "ensemble_rmse_test = mean_squared_error(y_test, y_pred_test_ensemble, squared=False)\n",
    "ensemble_mae_train = mean_absolute_error(y_train, y_pred_train_ensemble)\n",
    "ensemble_mae_test = mean_absolute_error(y_test, y_pred_test_ensemble)\n",
    "ensemble_r2_train = r2_score(y_train, y_pred_train_ensemble)\n",
    "ensemble_r2_test = r2_score(y_test, y_pred_test_ensemble)\n",
    "\n",
    "print(f'앙상블 훈련 RMSE: {ensemble_rmse_train}')\n",
    "print(f'앙상블 테스트 RMSE: {ensemble_rmse_test}')\n",
    "print(f'앙상블 훈련 MAE: {ensemble_mae_train}')\n",
    "print(f'앙상블 테스트 MAE: {ensemble_mae_test}')\n",
    "print(f'앙상블 훈련 R-squared: {ensemble_r2_train}')\n",
    "print(f'앙상블 테스트 R-squared: {ensemble_r2_test}')\n"
   ]
  },
  {
   "cell_type": "code",
   "execution_count": 18,
   "metadata": {},
   "outputs": [
    {
     "name": "stdout",
     "output_type": "stream",
     "text": [
      "LightGBM 모델 평가 지표:\n",
      "훈련 RMSE: 2.416895736563943\n",
      "훈련 R-squared: 0.3017255042017086\n",
      "테스트 RMSE: 2.4203839177096476\n",
      "테스트 R-squared: 0.29927184164346776\n"
     ]
    }
   ],
   "source": [
    "lgb_rmse_train = np.sqrt(mean_squared_error(y_train, y_pred_train_lgb))\n",
    "lgb_r2_train = r2_score(y_train, y_pred_train_lgb)\n",
    "\n",
    "lgb_rmse_test = np.sqrt(mean_squared_error(y_test, y_pred_test_lgb))\n",
    "lgb_r2_test = r2_score(y_test, y_pred_test_lgb)\n",
    "\n",
    "print(\"LightGBM 모델 평가 지표:\")\n",
    "print(\"훈련 RMSE:\", lgb_rmse_train)\n",
    "print(\"훈련 R-squared:\", lgb_r2_train)\n",
    "print(\"테스트 RMSE:\", lgb_rmse_test)\n",
    "print(\"테스트 R-squared:\", lgb_r2_test)"
   ]
  },
  {
   "cell_type": "code",
   "execution_count": 19,
   "metadata": {},
   "outputs": [
    {
     "name": "stdout",
     "output_type": "stream",
     "text": [
      "\n",
      "XGBoost 모델 평가 지표:\n",
      "훈련 RMSE: 1.6884006751088472\n",
      "훈련 R-squared: 0.6592299774904973\n",
      "테스트 RMSE: 1.7939598961069139\n",
      "테스트 R-squared: 0.615048059766362\n"
     ]
    }
   ],
   "source": [
    "xgb_rmse_train = np.sqrt(mean_squared_error(y_train, y_pred_train_xgb))\n",
    "xgb_r2_train = r2_score(y_train, y_pred_train_xgb)\n",
    "\n",
    "xgb_rmse_test = np.sqrt(mean_squared_error(y_test, y_pred_test_xgb))\n",
    "xgb_r2_test = r2_score(y_test, y_pred_test_xgb)\n",
    "\n",
    "print(\"\\nXGBoost 모델 평가 지표:\")\n",
    "print(\"훈련 RMSE:\", xgb_rmse_train)\n",
    "print(\"훈련 R-squared:\", xgb_r2_train)\n",
    "print(\"테스트 RMSE:\", xgb_rmse_test)\n",
    "print(\"테스트 R-squared:\", xgb_r2_test)"
   ]
  },
  {
   "cell_type": "code",
   "execution_count": null,
   "metadata": {},
   "outputs": [],
   "source": []
  }
 ],
 "metadata": {
  "kernelspec": {
   "display_name": "base",
   "language": "python",
   "name": "python3"
  },
  "language_info": {
   "codemirror_mode": {
    "name": "ipython",
    "version": 3
   },
   "file_extension": ".py",
   "mimetype": "text/x-python",
   "name": "python",
   "nbconvert_exporter": "python",
   "pygments_lexer": "ipython3",
   "version": "3.11.4"
  },
  "orig_nbformat": 4
 },
 "nbformat": 4,
 "nbformat_minor": 2
}
