{
 "cells": [
  {
   "cell_type": "code",
   "execution_count": 1,
   "metadata": {},
   "outputs": [],
   "source": [
    "import lightgbm as lgb\n",
    "import xgboost as xgb\n",
    "from sklearn.model_selection import train_test_split\n",
    "from sklearn.metrics import mean_squared_error, mean_absolute_error, r2_score\n",
    "import numpy as np\n",
    "import pandas as pd"
   ]
  },
  {
   "cell_type": "code",
   "execution_count": 2,
   "metadata": {},
   "outputs": [],
   "source": [
    "# 데이터 로드\n",
    "data = pd.read_csv('merged_data.csv', encoding='utf-8')"
   ]
  },
  {
   "cell_type": "code",
   "execution_count": 3,
   "metadata": {},
   "outputs": [],
   "source": [
    "# 필요한 열 선택\n",
    "selected_features = ['stn_id', 'borrowed_hour', 'borrowed_day', 'is_holiday', 'borrowed_num_nearby', '강수량(mm)', 'wind_chill', 'stn_gu', 'nearby_id', 'borrowed_date', 'borrowed_num']\n",
    "data = data[selected_features]"
   ]
  },
  {
   "cell_type": "code",
   "execution_count": 4,
   "metadata": {},
   "outputs": [],
   "source": [
    "# 범주형 데이터를 숫자로 변환 (Label Encoding)\n",
    "categorical_features = ['stn_id', 'stn_gu', 'nearby_id']\n",
    "for feature in categorical_features:\n",
    "    data[feature] = pd.factorize(data[feature])[0]"
   ]
  },
  {
   "cell_type": "code",
   "execution_count": 5,
   "metadata": {},
   "outputs": [],
   "source": [
    "# 훈련-테스트 데이터 분할\n",
    "X_train, X_test, y_train, y_test = train_test_split(data.drop('borrowed_num', axis=1), data['borrowed_num'], test_size=0.2, random_state=42)"
   ]
  },
  {
   "cell_type": "markdown",
   "metadata": {},
   "source": [
    "# LGBM Model"
   ]
  },
  {
   "cell_type": "code",
   "execution_count": 13,
   "metadata": {},
   "outputs": [],
   "source": [
    "# LightGBM 모델\n",
    "lgb_params = {\n",
    "    'objective': 'regression',\n",
    "    'metric': 'rmse',\n",
    "    'boosting_type': 'gbdt',\n",
    "    'num_leaves': 80,\n",
    "    'learning_rate': 0.05,\n",
    "    'feature_fraction': 1.0\n",
    "}"
   ]
  },
  {
   "cell_type": "code",
   "execution_count": 14,
   "metadata": {},
   "outputs": [
    {
     "name": "stdout",
     "output_type": "stream",
     "text": [
      "[LightGBM] [Info] Auto-choosing row-wise multi-threading, the overhead of testing was 0.766424 seconds.\n",
      "You can set `force_row_wise=true` to remove the overhead.\n",
      "And if memory is not enough, you can set `force_col_wise=true`.\n",
      "[LightGBM] [Info] Total Bins 1139\n",
      "[LightGBM] [Info] Number of data points in the train set: 7717950, number of used features: 10\n",
      "[LightGBM] [Info] Start training from score 1.483498\n",
      "Training until validation scores don't improve for 3 rounds\n",
      "Did not meet early stopping. Best iteration is:\n",
      "[10000]\ttraining's rmse: 1.85135\tvalid_0's rmse: 1.87321\n"
     ]
    }
   ],
   "source": [
    "train_data_lgb = lgb.Dataset(X_train, label=y_train)\n",
    "test_data_lgb = lgb.Dataset(X_test, label=y_test, reference=train_data_lgb)\n",
    "\n",
    "lgb_model = lgb.train(lgb_params, train_data_lgb, num_boost_round=10000, valid_sets=[test_data_lgb, train_data_lgb], callbacks=[\n",
    "    lgb.early_stopping(stopping_rounds=3, verbose=100),\n",
    "])"
   ]
  },
  {
   "cell_type": "markdown",
   "metadata": {},
   "source": [
    "# XGBoost Model"
   ]
  },
  {
   "cell_type": "code",
   "execution_count": 15,
   "metadata": {},
   "outputs": [],
   "source": [
    "# XGBoost 모델\n",
    "xgb_params = {\n",
    "    'objective': 'reg:squarederror',\n",
    "    'eval_metric': 'rmse',\n",
    "    'booster': 'gbtree',\n",
    "    'learning_rate': 0.01,\n",
    "    'max_depth': 9,\n",
    "    'subsample':0.8\n",
    "}"
   ]
  },
  {
   "cell_type": "code",
   "execution_count": 16,
   "metadata": {},
   "outputs": [
    {
     "name": "stdout",
     "output_type": "stream",
     "text": [
      "[0]\teval-rmse:2.88335\n",
      "[100]\teval-rmse:2.48297\n",
      "[200]\teval-rmse:2.37125\n",
      "[300]\teval-rmse:2.31309\n",
      "[400]\teval-rmse:2.27163\n",
      "[500]\teval-rmse:2.24540\n",
      "[600]\teval-rmse:2.22477\n",
      "[700]\teval-rmse:2.21164\n",
      "[800]\teval-rmse:2.19677\n",
      "[900]\teval-rmse:2.18071\n",
      "[1000]\teval-rmse:2.16765\n",
      "[1100]\teval-rmse:2.15537\n",
      "[1200]\teval-rmse:2.14307\n",
      "[1300]\teval-rmse:2.13086\n",
      "[1400]\teval-rmse:2.12102\n",
      "[1500]\teval-rmse:2.11131\n",
      "[1600]\teval-rmse:2.10241\n",
      "[1700]\teval-rmse:2.09459\n",
      "[1800]\teval-rmse:2.08690\n",
      "[1900]\teval-rmse:2.07844\n",
      "[2000]\teval-rmse:2.07158\n",
      "[2100]\teval-rmse:2.06480\n",
      "[2200]\teval-rmse:2.05799\n",
      "[2300]\teval-rmse:2.05173\n",
      "[2400]\teval-rmse:2.04620\n",
      "[2500]\teval-rmse:2.04202\n",
      "[2600]\teval-rmse:2.03719\n",
      "[2700]\teval-rmse:2.03292\n",
      "[2800]\teval-rmse:2.02880\n",
      "[2900]\teval-rmse:2.02493\n",
      "[3000]\teval-rmse:2.02122\n",
      "[3100]\teval-rmse:2.01692\n",
      "[3200]\teval-rmse:2.01327\n",
      "[3300]\teval-rmse:2.01012\n",
      "[3400]\teval-rmse:2.00701\n",
      "[3500]\teval-rmse:2.00384\n",
      "[3600]\teval-rmse:2.00015\n",
      "[3700]\teval-rmse:1.99765\n",
      "[3800]\teval-rmse:1.99463\n",
      "[3900]\teval-rmse:1.99207\n",
      "[4000]\teval-rmse:1.98876\n",
      "[4100]\teval-rmse:1.98579\n",
      "[4200]\teval-rmse:1.98255\n",
      "[4300]\teval-rmse:1.97969\n",
      "[4400]\teval-rmse:1.97740\n",
      "[4500]\teval-rmse:1.97502\n",
      "[4600]\teval-rmse:1.97333\n",
      "[4700]\teval-rmse:1.97152\n",
      "[4800]\teval-rmse:1.96869\n",
      "[4900]\teval-rmse:1.96679\n",
      "[5000]\teval-rmse:1.96460\n",
      "[5100]\teval-rmse:1.96211\n",
      "[5200]\teval-rmse:1.96004\n",
      "[5300]\teval-rmse:1.95795\n",
      "[5400]\teval-rmse:1.95618\n",
      "[5500]\teval-rmse:1.95461\n",
      "[5600]\teval-rmse:1.95276\n",
      "[5700]\teval-rmse:1.95119\n",
      "[5800]\teval-rmse:1.94931\n",
      "[5900]\teval-rmse:1.94737\n",
      "[6000]\teval-rmse:1.94536\n",
      "[6100]\teval-rmse:1.94369\n",
      "[6200]\teval-rmse:1.94177\n",
      "[6300]\teval-rmse:1.94020\n",
      "[6400]\teval-rmse:1.93888\n",
      "[6500]\teval-rmse:1.93750\n",
      "[6600]\teval-rmse:1.93600\n",
      "[6700]\teval-rmse:1.93439\n",
      "[6800]\teval-rmse:1.93290\n",
      "[6900]\teval-rmse:1.93145\n",
      "[7000]\teval-rmse:1.93003\n",
      "[7100]\teval-rmse:1.92872\n",
      "[7200]\teval-rmse:1.92720\n",
      "[7300]\teval-rmse:1.92600\n",
      "[7400]\teval-rmse:1.92486\n",
      "[7500]\teval-rmse:1.92369\n",
      "[7600]\teval-rmse:1.92238\n",
      "[7700]\teval-rmse:1.92116\n",
      "[7800]\teval-rmse:1.92024\n",
      "[7900]\teval-rmse:1.91945\n",
      "[8000]\teval-rmse:1.91844\n",
      "[8100]\teval-rmse:1.91732\n",
      "[8200]\teval-rmse:1.91646\n",
      "[8300]\teval-rmse:1.91558\n",
      "[8400]\teval-rmse:1.91455\n",
      "[8500]\teval-rmse:1.91358\n",
      "[8600]\teval-rmse:1.91260\n",
      "[8700]\teval-rmse:1.91139\n",
      "[8800]\teval-rmse:1.91064\n",
      "[8900]\teval-rmse:1.90983\n",
      "[9000]\teval-rmse:1.90901\n",
      "[9100]\teval-rmse:1.90817\n",
      "[9200]\teval-rmse:1.90747\n",
      "[9300]\teval-rmse:1.90653\n",
      "[9400]\teval-rmse:1.90568\n",
      "[9500]\teval-rmse:1.90496\n",
      "[9600]\teval-rmse:1.90388\n",
      "[9700]\teval-rmse:1.90314\n",
      "[9800]\teval-rmse:1.90212\n",
      "[9900]\teval-rmse:1.90113\n",
      "[9999]\teval-rmse:1.90036\n"
     ]
    }
   ],
   "source": [
    "train_data_xgb = xgb.DMatrix(X_train, label=y_train)\n",
    "test_data_xgb = xgb.DMatrix(X_test, label=y_test)\n",
    "\n",
    "xgb_model = xgb.train(xgb_params, train_data_xgb, num_boost_round=10000, evals=[(test_data_xgb, 'eval')], early_stopping_rounds=3, verbose_eval=100)\n"
   ]
  },
  {
   "cell_type": "code",
   "execution_count": 17,
   "metadata": {},
   "outputs": [],
   "source": [
    "# 예측 생성\n",
    "y_pred_train_lgb = lgb_model.predict(X_train, num_iteration=lgb_model.best_iteration)\n",
    "y_pred_test_lgb = lgb_model.predict(X_test, num_iteration=lgb_model.best_iteration)\n",
    "\n",
    "y_pred_train_xgb = xgb_model.predict(train_data_xgb)\n",
    "y_pred_test_xgb = xgb_model.predict(test_data_xgb)"
   ]
  },
  {
   "cell_type": "code",
   "execution_count": 18,
   "metadata": {},
   "outputs": [],
   "source": [
    "# 앙상블 예측 (평균이나 가중 평균 등의 방법 사용 가능)\n",
    "y_pred_train_ensemble = (y_pred_train_lgb + y_pred_train_xgb) / 2\n",
    "y_pred_test_ensemble = (y_pred_test_lgb + y_pred_test_xgb) / 2"
   ]
  },
  {
   "cell_type": "code",
   "execution_count": 19,
   "metadata": {},
   "outputs": [
    {
     "name": "stdout",
     "output_type": "stream",
     "text": [
      "앙상블 훈련 RMSE: 1.8391774472384546\n",
      "앙상블 테스트 RMSE: 1.8662563126165006\n",
      "앙상블 훈련 R-squared: 0.5956498446814924\n",
      "앙상블 테스트 R-squared: 0.5833958114812132\n"
     ]
    }
   ],
   "source": [
    "# 앙상블 예측 평가\n",
    "ensemble_rmse_train = mean_squared_error(y_train, y_pred_train_ensemble, squared=False)\n",
    "ensemble_rmse_test = mean_squared_error(y_test, y_pred_test_ensemble, squared=False)\n",
    "ensemble_r2_train = r2_score(y_train, y_pred_train_ensemble)\n",
    "ensemble_r2_test = r2_score(y_test, y_pred_test_ensemble)\n",
    "\n",
    "print(f'앙상블 훈련 RMSE: {ensemble_rmse_train}')\n",
    "print(f'앙상블 테스트 RMSE: {ensemble_rmse_test}')\n",
    "print(f'앙상블 훈련 R-squared: {ensemble_r2_train}')\n",
    "print(f'앙상블 테스트 R-squared: {ensemble_r2_test}')"
   ]
  },
  {
   "cell_type": "code",
   "execution_count": null,
   "metadata": {},
   "outputs": [],
   "source": []
  },
  {
   "cell_type": "code",
   "execution_count": null,
   "metadata": {},
   "outputs": [],
   "source": []
  }
 ],
 "metadata": {
  "kernelspec": {
   "display_name": "base",
   "language": "python",
   "name": "python3"
  },
  "language_info": {
   "codemirror_mode": {
    "name": "ipython",
    "version": 3
   },
   "file_extension": ".py",
   "mimetype": "text/x-python",
   "name": "python",
   "nbconvert_exporter": "python",
   "pygments_lexer": "ipython3",
   "version": "3.11.4"
  },
  "orig_nbformat": 4
 },
 "nbformat": 4,
 "nbformat_minor": 2
}
