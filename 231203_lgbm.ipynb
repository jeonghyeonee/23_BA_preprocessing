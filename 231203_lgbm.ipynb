{
 "cells": [
  {
   "cell_type": "code",
   "execution_count": 14,
   "metadata": {},
   "outputs": [],
   "source": [
    "import lightgbm as lgb\n",
    "from sklearn.model_selection import train_test_split\n",
    "from sklearn.metrics import mean_squared_error, mean_absolute_error\n",
    "import numpy as np\n",
    "import pandas as pd\n",
    "from sklearn.model_selection import KFold\n",
    "from sklearn.metrics import r2_score"
   ]
  },
  {
   "cell_type": "code",
   "execution_count": 15,
   "metadata": {},
   "outputs": [],
   "source": [
    "#load data\n",
    "data = pd.read_csv('merged_data.csv', encoding='utf-8')"
   ]
  },
  {
   "cell_type": "code",
   "execution_count": 16,
   "metadata": {},
   "outputs": [
    {
     "data": {
      "text/html": [
       "<div>\n",
       "<style scoped>\n",
       "    .dataframe tbody tr th:only-of-type {\n",
       "        vertical-align: middle;\n",
       "    }\n",
       "\n",
       "    .dataframe tbody tr th {\n",
       "        vertical-align: top;\n",
       "    }\n",
       "\n",
       "    .dataframe thead th {\n",
       "        text-align: right;\n",
       "    }\n",
       "</style>\n",
       "<table border=\"1\" class=\"dataframe\">\n",
       "  <thead>\n",
       "    <tr style=\"text-align: right;\">\n",
       "      <th></th>\n",
       "      <th>stn_id</th>\n",
       "      <th>borrowed_hour</th>\n",
       "      <th>borrowed_day</th>\n",
       "      <th>is_holiday</th>\n",
       "      <th>borrowed_num_nearby</th>\n",
       "      <th>강수량(mm)</th>\n",
       "      <th>wind_chill</th>\n",
       "      <th>stn_gu</th>\n",
       "      <th>nearby_id</th>\n",
       "      <th>borrowed_date</th>\n",
       "      <th>borrowed_num</th>\n",
       "    </tr>\n",
       "  </thead>\n",
       "  <tbody>\n",
       "    <tr>\n",
       "      <th>0</th>\n",
       "      <td>ST-10</td>\n",
       "      <td>0</td>\n",
       "      <td>6</td>\n",
       "      <td>1</td>\n",
       "      <td>2</td>\n",
       "      <td>0.0</td>\n",
       "      <td>21.787650</td>\n",
       "      <td>마포구</td>\n",
       "      <td>ST-2167</td>\n",
       "      <td>20221001</td>\n",
       "      <td>2</td>\n",
       "    </tr>\n",
       "    <tr>\n",
       "      <th>1</th>\n",
       "      <td>ST-10</td>\n",
       "      <td>1</td>\n",
       "      <td>6</td>\n",
       "      <td>1</td>\n",
       "      <td>1</td>\n",
       "      <td>0.0</td>\n",
       "      <td>20.724511</td>\n",
       "      <td>마포구</td>\n",
       "      <td>ST-2167</td>\n",
       "      <td>20221001</td>\n",
       "      <td>2</td>\n",
       "    </tr>\n",
       "    <tr>\n",
       "      <th>2</th>\n",
       "      <td>ST-10</td>\n",
       "      <td>2</td>\n",
       "      <td>6</td>\n",
       "      <td>1</td>\n",
       "      <td>2</td>\n",
       "      <td>0.0</td>\n",
       "      <td>20.222465</td>\n",
       "      <td>마포구</td>\n",
       "      <td>ST-2167</td>\n",
       "      <td>20221001</td>\n",
       "      <td>1</td>\n",
       "    </tr>\n",
       "    <tr>\n",
       "      <th>3</th>\n",
       "      <td>ST-10</td>\n",
       "      <td>3</td>\n",
       "      <td>6</td>\n",
       "      <td>1</td>\n",
       "      <td>0</td>\n",
       "      <td>0.0</td>\n",
       "      <td>19.789024</td>\n",
       "      <td>마포구</td>\n",
       "      <td>ST-2167</td>\n",
       "      <td>20221001</td>\n",
       "      <td>0</td>\n",
       "    </tr>\n",
       "    <tr>\n",
       "      <th>4</th>\n",
       "      <td>ST-10</td>\n",
       "      <td>4</td>\n",
       "      <td>6</td>\n",
       "      <td>1</td>\n",
       "      <td>2</td>\n",
       "      <td>0.0</td>\n",
       "      <td>20.661831</td>\n",
       "      <td>마포구</td>\n",
       "      <td>ST-2167</td>\n",
       "      <td>20221001</td>\n",
       "      <td>0</td>\n",
       "    </tr>\n",
       "    <tr>\n",
       "      <th>...</th>\n",
       "      <td>...</td>\n",
       "      <td>...</td>\n",
       "      <td>...</td>\n",
       "      <td>...</td>\n",
       "      <td>...</td>\n",
       "      <td>...</td>\n",
       "      <td>...</td>\n",
       "      <td>...</td>\n",
       "      <td>...</td>\n",
       "      <td>...</td>\n",
       "      <td>...</td>\n",
       "    </tr>\n",
       "    <tr>\n",
       "      <th>9647433</th>\n",
       "      <td>ST-1445</td>\n",
       "      <td>20</td>\n",
       "      <td>2</td>\n",
       "      <td>0</td>\n",
       "      <td>1</td>\n",
       "      <td>0.0</td>\n",
       "      <td>8.507538</td>\n",
       "      <td>용산구</td>\n",
       "      <td>ST-1328</td>\n",
       "      <td>20230228</td>\n",
       "      <td>0</td>\n",
       "    </tr>\n",
       "    <tr>\n",
       "      <th>9647434</th>\n",
       "      <td>ST-1445</td>\n",
       "      <td>21</td>\n",
       "      <td>2</td>\n",
       "      <td>0</td>\n",
       "      <td>0</td>\n",
       "      <td>0.0</td>\n",
       "      <td>9.551939</td>\n",
       "      <td>용산구</td>\n",
       "      <td>ST-1328</td>\n",
       "      <td>20230228</td>\n",
       "      <td>3</td>\n",
       "    </tr>\n",
       "    <tr>\n",
       "      <th>9647435</th>\n",
       "      <td>ST-1445</td>\n",
       "      <td>22</td>\n",
       "      <td>2</td>\n",
       "      <td>0</td>\n",
       "      <td>0</td>\n",
       "      <td>0.0</td>\n",
       "      <td>8.219911</td>\n",
       "      <td>용산구</td>\n",
       "      <td>ST-1328</td>\n",
       "      <td>20230228</td>\n",
       "      <td>0</td>\n",
       "    </tr>\n",
       "    <tr>\n",
       "      <th>9647436</th>\n",
       "      <td>ST-1445</td>\n",
       "      <td>23</td>\n",
       "      <td>2</td>\n",
       "      <td>0</td>\n",
       "      <td>0</td>\n",
       "      <td>0.0</td>\n",
       "      <td>9.181400</td>\n",
       "      <td>용산구</td>\n",
       "      <td>ST-1328</td>\n",
       "      <td>20230228</td>\n",
       "      <td>1</td>\n",
       "    </tr>\n",
       "    <tr>\n",
       "      <th>9647437</th>\n",
       "      <td>ST-3215</td>\n",
       "      <td>20</td>\n",
       "      <td>2</td>\n",
       "      <td>0</td>\n",
       "      <td>2</td>\n",
       "      <td>0.0</td>\n",
       "      <td>8.724567</td>\n",
       "      <td>양천구</td>\n",
       "      <td>ST-1016</td>\n",
       "      <td>20230228</td>\n",
       "      <td>1</td>\n",
       "    </tr>\n",
       "  </tbody>\n",
       "</table>\n",
       "<p>9647438 rows × 11 columns</p>\n",
       "</div>"
      ],
      "text/plain": [
       "          stn_id  borrowed_hour  borrowed_day  is_holiday  \\\n",
       "0          ST-10              0             6           1   \n",
       "1          ST-10              1             6           1   \n",
       "2          ST-10              2             6           1   \n",
       "3          ST-10              3             6           1   \n",
       "4          ST-10              4             6           1   \n",
       "...          ...            ...           ...         ...   \n",
       "9647433  ST-1445             20             2           0   \n",
       "9647434  ST-1445             21             2           0   \n",
       "9647435  ST-1445             22             2           0   \n",
       "9647436  ST-1445             23             2           0   \n",
       "9647437  ST-3215             20             2           0   \n",
       "\n",
       "         borrowed_num_nearby  강수량(mm)  wind_chill stn_gu nearby_id  \\\n",
       "0                          2      0.0   21.787650    마포구   ST-2167   \n",
       "1                          1      0.0   20.724511    마포구   ST-2167   \n",
       "2                          2      0.0   20.222465    마포구   ST-2167   \n",
       "3                          0      0.0   19.789024    마포구   ST-2167   \n",
       "4                          2      0.0   20.661831    마포구   ST-2167   \n",
       "...                      ...      ...         ...    ...       ...   \n",
       "9647433                    1      0.0    8.507538    용산구   ST-1328   \n",
       "9647434                    0      0.0    9.551939    용산구   ST-1328   \n",
       "9647435                    0      0.0    8.219911    용산구   ST-1328   \n",
       "9647436                    0      0.0    9.181400    용산구   ST-1328   \n",
       "9647437                    2      0.0    8.724567    양천구   ST-1016   \n",
       "\n",
       "         borrowed_date  borrowed_num  \n",
       "0             20221001             2  \n",
       "1             20221001             2  \n",
       "2             20221001             1  \n",
       "3             20221001             0  \n",
       "4             20221001             0  \n",
       "...                ...           ...  \n",
       "9647433       20230228             0  \n",
       "9647434       20230228             3  \n",
       "9647435       20230228             0  \n",
       "9647436       20230228             1  \n",
       "9647437       20230228             1  \n",
       "\n",
       "[9647438 rows x 11 columns]"
      ]
     },
     "execution_count": 16,
     "metadata": {},
     "output_type": "execute_result"
    }
   ],
   "source": [
    "data"
   ]
  },
  {
   "cell_type": "code",
   "execution_count": 17,
   "metadata": {},
   "outputs": [],
   "source": [
    "# 필요한 열 선택\n",
    "selected_features = ['stn_id', 'borrowed_hour', 'borrowed_day', 'is_holiday', 'borrowed_num_nearby', '강수량(mm)', 'wind_chill', 'stn_gu', 'nearby_id', 'borrowed_date', 'borrowed_num']\n",
    "data = data[selected_features]"
   ]
  },
  {
   "cell_type": "code",
   "execution_count": 18,
   "metadata": {},
   "outputs": [],
   "source": [
    "# 범주형 데이터를 숫자로 변환 (Label Encoding)\n",
    "categorical_features = ['stn_id', 'stn_gu', 'nearby_id']\n",
    "for feature in categorical_features:\n",
    "    data[feature] = pd.factorize(data[feature])[0]"
   ]
  },
  {
   "cell_type": "code",
   "execution_count": 19,
   "metadata": {},
   "outputs": [],
   "source": [
    "# train-test split\n",
    "X_train, X_test, y_train, y_test = train_test_split(data.drop('borrowed_num', axis=1), data['borrowed_num'], test_size=0.2, random_state=42)"
   ]
  },
  {
   "cell_type": "markdown",
   "metadata": {},
   "source": [
    "### Modeling"
   ]
  },
  {
   "cell_type": "code",
   "execution_count": 20,
   "metadata": {},
   "outputs": [],
   "source": [
    "# LightGBM 모델 생성 및 훈련\n",
    "params = {\n",
    "    'objective': 'regression',\n",
    "    'metric': 'rmse',\n",
    "    'boosting_type': 'gbdt',\n",
    "    'num_leaves': 31,\n",
    "    'learning_rate': 0.05,\n",
    "    'feature_fraction': 0.9\n",
    "}"
   ]
  },
  {
   "cell_type": "code",
   "execution_count": 21,
   "metadata": {},
   "outputs": [],
   "source": [
    "train_data = lgb.Dataset(X_train, label=y_train)\n",
    "test_data = lgb.Dataset(X_test, label=y_test, reference=train_data)"
   ]
  },
  {
   "cell_type": "code",
   "execution_count": 22,
   "metadata": {},
   "outputs": [
    {
     "name": "stdout",
     "output_type": "stream",
     "text": [
      "[LightGBM] [Info] Auto-choosing row-wise multi-threading, the overhead of testing was 0.461579 seconds.\n",
      "You can set `force_row_wise=true` to remove the overhead.\n",
      "And if memory is not enough, you can set `force_col_wise=true`.\n",
      "[LightGBM] [Info] Total Bins 1139\n",
      "[LightGBM] [Info] Number of data points in the train set: 7717950, number of used features: 10\n",
      "[LightGBM] [Info] Start training from score 1.483498\n",
      "Training until validation scores don't improve for 3 rounds\n",
      "Did not meet early stopping. Best iteration is:\n",
      "[1000]\ttraining's rmse: 1.97516\tvalid_0's rmse: 1.98775\n"
     ]
    }
   ],
   "source": [
    "model = lgb.train(params, train_data, num_boost_round=1000, valid_sets=[test_data, train_data], callbacks=[\n",
    "        lgb.early_stopping(stopping_rounds=3, verbose=100)\n",
    "    ])"
   ]
  },
  {
   "cell_type": "markdown",
   "metadata": {},
   "source": [
    "### Model Evaluation"
   ]
  },
  {
   "cell_type": "code",
   "execution_count": 23,
   "metadata": {},
   "outputs": [],
   "source": [
    "# 모델 평가\n",
    "y_pred_train = model.predict(X_train, num_iteration=model.best_iteration)\n",
    "y_pred_test = model.predict(X_test, num_iteration=model.best_iteration)"
   ]
  },
  {
   "cell_type": "code",
   "execution_count": 24,
   "metadata": {},
   "outputs": [
    {
     "name": "stdout",
     "output_type": "stream",
     "text": [
      "Training MSE: 3.9012397610454705\n",
      "Training MAE: 1.145610377419231\n",
      "Training RMSE: 1.9751556295759254\n",
      "Test MSE: 3.9511522668585592\n",
      "Test MAE: 1.1487413989551938\n",
      "Test RMSE: 1.9877505544857883\n"
     ]
    }
   ],
   "source": [
    "# 훈련 데이터에서의 평가\n",
    "mse_train = mean_squared_error(y_train, y_pred_train)\n",
    "mae_train = mean_absolute_error(y_train, y_pred_train)\n",
    "rmse_train = mean_squared_error(y_train, y_pred_train, squared=False)\n",
    "\n",
    "\n",
    "print(f'Training MSE: {mse_train}')\n",
    "print(f'Training MAE: {mae_train}')\n",
    "print(f'Training RMSE: {rmse_train}')\n",
    "\n",
    "\n",
    "# 검증 데이터에서의 평가\n",
    "mse_test = mean_squared_error(y_test, y_pred_test)\n",
    "mae_test = mean_absolute_error(y_test, y_pred_test)\n",
    "rmse_test = mean_squared_error(y_test, y_pred_test, squared=False)\n",
    "\n",
    "print(f'Test MSE: {mse_test}')\n",
    "print(f'Test MAE: {mae_test}')\n",
    "print(f'Test RMSE: {rmse_test}')"
   ]
  },
  {
   "cell_type": "markdown",
   "metadata": {},
   "source": [
    "### R-Squared"
   ]
  },
  {
   "cell_type": "code",
   "execution_count": 25,
   "metadata": {},
   "outputs": [
    {
     "name": "stdout",
     "output_type": "stream",
     "text": [
      "R-squared for training data: 0.5336489160585025\n",
      "R-squared for test data: 0.5273879188567496\n"
     ]
    }
   ],
   "source": [
    "# R-squared 계산\n",
    "# 훈련 데이터에서의 R-squared 계산\n",
    "r2_train = r2_score(y_train, y_pred_train)\n",
    "\n",
    "# 테스트 데이터에서의 R-squared 계산\n",
    "r2_test = r2_score(y_test, y_pred_test)\n",
    "\n",
    "print(\"R-squared for training data:\", r2_train)\n",
    "print(\"R-squared for test data:\", r2_test)"
   ]
  },
  {
   "cell_type": "code",
   "execution_count": null,
   "metadata": {},
   "outputs": [],
   "source": []
  }
 ],
 "metadata": {
  "kernelspec": {
   "display_name": "base",
   "language": "python",
   "name": "python3"
  },
  "language_info": {
   "codemirror_mode": {
    "name": "ipython",
    "version": 3
   },
   "file_extension": ".py",
   "mimetype": "text/x-python",
   "name": "python",
   "nbconvert_exporter": "python",
   "pygments_lexer": "ipython3",
   "version": "3.11.4"
  },
  "orig_nbformat": 4
 },
 "nbformat": 4,
 "nbformat_minor": 2
}
