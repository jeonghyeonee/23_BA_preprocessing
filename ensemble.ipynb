{
 "cells": [
  {
   "cell_type": "code",
   "execution_count": 1,
   "metadata": {},
   "outputs": [],
   "source": [
    "import lightgbm as lgb\n",
    "import xgboost as xgb\n",
    "from sklearn.model_selection import train_test_split\n",
    "from sklearn.metrics import mean_squared_error, mean_absolute_error, r2_score\n",
    "import numpy as np\n",
    "import pandas as pd"
   ]
  },
  {
   "cell_type": "code",
   "execution_count": 2,
   "metadata": {},
   "outputs": [],
   "source": [
    "# 데이터 로드\n",
    "data = pd.read_csv('merged_data.csv', encoding='utf-8')"
   ]
  },
  {
   "cell_type": "code",
   "execution_count": 3,
   "metadata": {},
   "outputs": [],
   "source": [
    "# 필요한 열 선택\n",
    "selected_features = ['stn_id', 'borrowed_hour', 'borrowed_day', 'is_holiday', 'borrowed_num_nearby', '강수량(mm)', 'wind_chill', 'stn_gu', 'nearby_id', 'borrowed_date', 'borrowed_num']\n",
    "data = data[selected_features]"
   ]
  },
  {
   "cell_type": "code",
   "execution_count": 4,
   "metadata": {},
   "outputs": [],
   "source": [
    "# 범주형 데이터를 숫자로 변환 (Label Encoding)\n",
    "categorical_features = ['stn_id', 'stn_gu', 'nearby_id']\n",
    "for feature in categorical_features:\n",
    "    data[feature] = pd.factorize(data[feature])[0]"
   ]
  },
  {
   "cell_type": "code",
   "execution_count": 5,
   "metadata": {},
   "outputs": [],
   "source": [
    "# 훈련-테스트 데이터 분할\n",
    "X_train, X_test, y_train, y_test = train_test_split(data.drop('borrowed_num', axis=1), data['borrowed_num'], test_size=0.2, random_state=42)"
   ]
  },
  {
   "cell_type": "markdown",
   "metadata": {},
   "source": [
    "# LGBM Model"
   ]
  },
  {
   "cell_type": "code",
   "execution_count": 20,
   "metadata": {},
   "outputs": [],
   "source": [
    "# LightGBM 모델\n",
    "lgb_params = {\n",
    "    'objective': 'regression',\n",
    "    'metric': 'rmse',\n",
    "    'boosting_type': 'gbdt',\n",
    "    'num_leaves': 80,\n",
    "    'learning_rate': 0.05,\n",
    "    'feature_fraction': 1.0\n",
    "}"
   ]
  },
  {
   "cell_type": "code",
   "execution_count": 21,
   "metadata": {},
   "outputs": [
    {
     "name": "stdout",
     "output_type": "stream",
     "text": [
      "[LightGBM] [Info] Auto-choosing col-wise multi-threading, the overhead of testing was 0.543654 seconds.\n",
      "You can set `force_col_wise=true` to remove the overhead.\n",
      "[LightGBM] [Info] Total Bins 1139\n",
      "[LightGBM] [Info] Number of data points in the train set: 7717950, number of used features: 10\n",
      "[LightGBM] [Info] Start training from score 1.483498\n",
      "Training until validation scores don't improve for 3 rounds\n",
      "Early stopping, best iteration is:\n",
      "[2461]\ttraining's rmse: 1.73138\tvalid_0's rmse: 1.77904\n"
     ]
    }
   ],
   "source": [
    "train_data_lgb = lgb.Dataset(X_train, label=y_train)\n",
    "test_data_lgb = lgb.Dataset(X_test, label=y_test, reference=train_data_lgb)\n",
    "\n",
    "lgb_model = lgb.train(lgb_params, train_data_lgb, num_boost_round=10000, valid_sets=[test_data_lgb, train_data_lgb], callbacks=[\n",
    "    lgb.early_stopping(stopping_rounds=3, verbose=100),\n",
    "])"
   ]
  },
  {
   "cell_type": "markdown",
   "metadata": {},
   "source": [
    "# XGBoost Model"
   ]
  },
  {
   "cell_type": "code",
   "execution_count": 22,
   "metadata": {},
   "outputs": [],
   "source": [
    "# XGBoost 모델\n",
    "xgb_params = {\n",
    "    'objective': 'reg:squarederror',\n",
    "    'eval_metric': 'rmse',\n",
    "    'booster': 'gbtree',\n",
    "    'learning_rate': 0.01,\n",
    "    'max_depth': 9,\n",
    "    'subsample':0.8\n",
    "}"
   ]
  },
  {
   "cell_type": "code",
   "execution_count": 23,
   "metadata": {},
   "outputs": [
    {
     "name": "stdout",
     "output_type": "stream",
     "text": [
      "[0]\teval-rmse:2.88240\n",
      "[100]\teval-rmse:2.42139\n",
      "[200]\teval-rmse:2.28216\n",
      "[300]\teval-rmse:2.21254\n",
      "[400]\teval-rmse:2.16141\n",
      "[500]\teval-rmse:2.12648\n",
      "[600]\teval-rmse:2.10340\n",
      "[700]\teval-rmse:2.08221\n",
      "[800]\teval-rmse:2.05992\n",
      "[900]\teval-rmse:2.03994\n",
      "[1000]\teval-rmse:2.02272\n",
      "[1100]\teval-rmse:2.00769\n",
      "[1200]\teval-rmse:1.99419\n",
      "[1300]\teval-rmse:1.98235\n",
      "[1400]\teval-rmse:1.97170\n",
      "[1500]\teval-rmse:1.96173\n",
      "[1600]\teval-rmse:1.95236\n",
      "[1700]\teval-rmse:1.94346\n",
      "[1800]\teval-rmse:1.93578\n",
      "[1900]\teval-rmse:1.92868\n",
      "[2000]\teval-rmse:1.92134\n",
      "[2100]\teval-rmse:1.91461\n",
      "[2200]\teval-rmse:1.90818\n",
      "[2300]\teval-rmse:1.90271\n",
      "[2400]\teval-rmse:1.89762\n",
      "[2500]\teval-rmse:1.89263\n",
      "[2600]\teval-rmse:1.88770\n",
      "[2700]\teval-rmse:1.88335\n",
      "[2800]\teval-rmse:1.87860\n",
      "[2900]\teval-rmse:1.87466\n",
      "[3000]\teval-rmse:1.87076\n",
      "[3100]\teval-rmse:1.86725\n",
      "[3200]\teval-rmse:1.86414\n",
      "[3300]\teval-rmse:1.86051\n",
      "[3400]\teval-rmse:1.85729\n",
      "[3500]\teval-rmse:1.85427\n",
      "[3600]\teval-rmse:1.85117\n",
      "[3700]\teval-rmse:1.84830\n",
      "[3800]\teval-rmse:1.84576\n",
      "[3900]\teval-rmse:1.84289\n",
      "[4000]\teval-rmse:1.84028\n",
      "[4100]\teval-rmse:1.83775\n",
      "[4200]\teval-rmse:1.83547\n",
      "[4300]\teval-rmse:1.83321\n",
      "[4400]\teval-rmse:1.83102\n",
      "[4500]\teval-rmse:1.82902\n",
      "[4600]\teval-rmse:1.82685\n",
      "[4700]\teval-rmse:1.82492\n",
      "[4800]\teval-rmse:1.82279\n",
      "[4900]\teval-rmse:1.82099\n",
      "[5000]\teval-rmse:1.81921\n",
      "[5100]\teval-rmse:1.81760\n",
      "[5200]\teval-rmse:1.81597\n",
      "[5300]\teval-rmse:1.81414\n",
      "[5400]\teval-rmse:1.81234\n",
      "[5500]\teval-rmse:1.81078\n",
      "[5600]\teval-rmse:1.80934\n",
      "[5700]\teval-rmse:1.80787\n",
      "[5800]\teval-rmse:1.80658\n",
      "[5900]\teval-rmse:1.80540\n",
      "[6000]\teval-rmse:1.80410\n",
      "[6100]\teval-rmse:1.80287\n",
      "[6200]\teval-rmse:1.80149\n",
      "[6300]\teval-rmse:1.80021\n",
      "[6400]\teval-rmse:1.79921\n",
      "[6500]\teval-rmse:1.79800\n",
      "[6600]\teval-rmse:1.79688\n",
      "[6700]\teval-rmse:1.79590\n",
      "[6800]\teval-rmse:1.79484\n",
      "[6900]\teval-rmse:1.79391\n",
      "[7000]\teval-rmse:1.79294\n",
      "[7100]\teval-rmse:1.79196\n",
      "[7200]\teval-rmse:1.79110\n",
      "[7300]\teval-rmse:1.79012\n",
      "[7400]\teval-rmse:1.78904\n",
      "[7500]\teval-rmse:1.78812\n",
      "[7600]\teval-rmse:1.78722\n",
      "[7700]\teval-rmse:1.78627\n",
      "[7800]\teval-rmse:1.78556\n",
      "[7900]\teval-rmse:1.78470\n",
      "[8000]\teval-rmse:1.78388\n",
      "[8100]\teval-rmse:1.78313\n",
      "[8196]\teval-rmse:1.78248\n"
     ]
    }
   ],
   "source": [
    "train_data_xgb = xgb.DMatrix(X_train, label=y_train)\n",
    "test_data_xgb = xgb.DMatrix(X_test, label=y_test)\n",
    "\n",
    "xgb_model = xgb.train(xgb_params, train_data_xgb, num_boost_round=10000, evals=[(test_data_xgb, 'eval')], early_stopping_rounds=3, verbose_eval=100)\n"
   ]
  },
  {
   "cell_type": "code",
   "execution_count": 24,
   "metadata": {},
   "outputs": [],
   "source": [
    "# 예측 생성\n",
    "y_pred_train_lgb = lgb_model.predict(X_train, num_iteration=lgb_model.best_iteration)\n",
    "y_pred_test_lgb = lgb_model.predict(X_test, num_iteration=lgb_model.best_iteration)\n",
    "\n",
    "y_pred_train_xgb = xgb_model.predict(train_data_xgb)\n",
    "y_pred_test_xgb = xgb_model.predict(test_data_xgb)"
   ]
  },
  {
   "cell_type": "code",
   "execution_count": 25,
   "metadata": {},
   "outputs": [],
   "source": [
    "# 앙상블 예측 (평균이나 가중 평균 등의 방법 사용 가능)\n",
    "y_pred_train_ensemble = (y_pred_train_lgb + y_pred_train_xgb) / 2\n",
    "y_pred_test_ensemble = (y_pred_test_lgb + y_pred_test_xgb) / 2"
   ]
  },
  {
   "cell_type": "code",
   "execution_count": 26,
   "metadata": {},
   "outputs": [
    {
     "name": "stdout",
     "output_type": "stream",
     "text": [
      "앙상블 훈련 RMSE: 1.6926886199310385\n",
      "앙상블 테스트 RMSE: 1.7572847626513028\n",
      "앙상블 훈련 R-squared: 0.6574969071992217\n",
      "앙상블 테스트 R-squared: 0.6306268363431735\n"
     ]
    }
   ],
   "source": [
    "# 앙상블 예측 평가\n",
    "ensemble_rmse_train = mean_squared_error(y_train, y_pred_train_ensemble, squared=False)\n",
    "ensemble_rmse_test = mean_squared_error(y_test, y_pred_test_ensemble, squared=False)\n",
    "ensemble_r2_train = r2_score(y_train, y_pred_train_ensemble)\n",
    "ensemble_r2_test = r2_score(y_test, y_pred_test_ensemble)\n",
    "\n",
    "print(f'앙상블 훈련 RMSE: {ensemble_rmse_train}')\n",
    "print(f'앙상블 테스트 RMSE: {ensemble_rmse_test}')\n",
    "print(f'앙상블 훈련 R-squared: {ensemble_r2_train}')\n",
    "print(f'앙상블 테스트 R-squared: {ensemble_r2_test}')"
   ]
  },
  {
   "cell_type": "code",
   "execution_count": null,
   "metadata": {},
   "outputs": [],
   "source": []
  },
  {
   "cell_type": "code",
   "execution_count": null,
   "metadata": {},
   "outputs": [],
   "source": []
  }
 ],
 "metadata": {
  "kernelspec": {
   "display_name": "base",
   "language": "python",
   "name": "python3"
  },
  "language_info": {
   "codemirror_mode": {
    "name": "ipython",
    "version": 3
   },
   "file_extension": ".py",
   "mimetype": "text/x-python",
   "name": "python",
   "nbconvert_exporter": "python",
   "pygments_lexer": "ipython3",
   "version": "3.11.4"
  },
  "orig_nbformat": 4
 },
 "nbformat": 4,
 "nbformat_minor": 2
}
