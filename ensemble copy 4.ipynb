{
 "cells": [
  {
   "cell_type": "code",
   "execution_count": 1,
   "metadata": {},
   "outputs": [],
   "source": [
    "import lightgbm as lgb\n",
    "import xgboost as xgb\n",
    "from sklearn.model_selection import train_test_split\n",
    "from sklearn.metrics import mean_squared_error, mean_absolute_error, r2_score\n",
    "import numpy as np\n",
    "import pandas as pd"
   ]
  },
  {
   "cell_type": "code",
   "execution_count": 2,
   "metadata": {},
   "outputs": [],
   "source": [
    "# 데이터 로드\n",
    "data = pd.read_csv('merged_data.csv', encoding='utf-8')"
   ]
  },
  {
   "cell_type": "code",
   "execution_count": 3,
   "metadata": {},
   "outputs": [
    {
     "data": {
      "text/html": [
       "<div>\n",
       "<style scoped>\n",
       "    .dataframe tbody tr th:only-of-type {\n",
       "        vertical-align: middle;\n",
       "    }\n",
       "\n",
       "    .dataframe tbody tr th {\n",
       "        vertical-align: top;\n",
       "    }\n",
       "\n",
       "    .dataframe thead th {\n",
       "        text-align: right;\n",
       "    }\n",
       "</style>\n",
       "<table border=\"1\" class=\"dataframe\">\n",
       "  <thead>\n",
       "    <tr style=\"text-align: right;\">\n",
       "      <th></th>\n",
       "      <th>stn_id</th>\n",
       "      <th>borrowed_hour</th>\n",
       "      <th>borrowed_day</th>\n",
       "      <th>is_holiday</th>\n",
       "      <th>borrowed_num_nearby</th>\n",
       "      <th>강수량(mm)</th>\n",
       "      <th>wind_chill</th>\n",
       "      <th>stn_gu</th>\n",
       "      <th>nearby_id</th>\n",
       "      <th>borrowed_date</th>\n",
       "      <th>borrowed_num</th>\n",
       "    </tr>\n",
       "  </thead>\n",
       "  <tbody>\n",
       "    <tr>\n",
       "      <th>0</th>\n",
       "      <td>ST-10</td>\n",
       "      <td>0</td>\n",
       "      <td>6</td>\n",
       "      <td>1</td>\n",
       "      <td>2</td>\n",
       "      <td>0.0</td>\n",
       "      <td>21.787650</td>\n",
       "      <td>마포구</td>\n",
       "      <td>ST-2167</td>\n",
       "      <td>20221001</td>\n",
       "      <td>2</td>\n",
       "    </tr>\n",
       "    <tr>\n",
       "      <th>1</th>\n",
       "      <td>ST-10</td>\n",
       "      <td>1</td>\n",
       "      <td>6</td>\n",
       "      <td>1</td>\n",
       "      <td>1</td>\n",
       "      <td>0.0</td>\n",
       "      <td>20.724511</td>\n",
       "      <td>마포구</td>\n",
       "      <td>ST-2167</td>\n",
       "      <td>20221001</td>\n",
       "      <td>2</td>\n",
       "    </tr>\n",
       "    <tr>\n",
       "      <th>2</th>\n",
       "      <td>ST-10</td>\n",
       "      <td>2</td>\n",
       "      <td>6</td>\n",
       "      <td>1</td>\n",
       "      <td>2</td>\n",
       "      <td>0.0</td>\n",
       "      <td>20.222465</td>\n",
       "      <td>마포구</td>\n",
       "      <td>ST-2167</td>\n",
       "      <td>20221001</td>\n",
       "      <td>1</td>\n",
       "    </tr>\n",
       "    <tr>\n",
       "      <th>3</th>\n",
       "      <td>ST-10</td>\n",
       "      <td>3</td>\n",
       "      <td>6</td>\n",
       "      <td>1</td>\n",
       "      <td>0</td>\n",
       "      <td>0.0</td>\n",
       "      <td>19.789024</td>\n",
       "      <td>마포구</td>\n",
       "      <td>ST-2167</td>\n",
       "      <td>20221001</td>\n",
       "      <td>0</td>\n",
       "    </tr>\n",
       "    <tr>\n",
       "      <th>4</th>\n",
       "      <td>ST-10</td>\n",
       "      <td>4</td>\n",
       "      <td>6</td>\n",
       "      <td>1</td>\n",
       "      <td>2</td>\n",
       "      <td>0.0</td>\n",
       "      <td>20.661831</td>\n",
       "      <td>마포구</td>\n",
       "      <td>ST-2167</td>\n",
       "      <td>20221001</td>\n",
       "      <td>0</td>\n",
       "    </tr>\n",
       "    <tr>\n",
       "      <th>...</th>\n",
       "      <td>...</td>\n",
       "      <td>...</td>\n",
       "      <td>...</td>\n",
       "      <td>...</td>\n",
       "      <td>...</td>\n",
       "      <td>...</td>\n",
       "      <td>...</td>\n",
       "      <td>...</td>\n",
       "      <td>...</td>\n",
       "      <td>...</td>\n",
       "      <td>...</td>\n",
       "    </tr>\n",
       "    <tr>\n",
       "      <th>9647433</th>\n",
       "      <td>ST-1445</td>\n",
       "      <td>20</td>\n",
       "      <td>2</td>\n",
       "      <td>0</td>\n",
       "      <td>1</td>\n",
       "      <td>0.0</td>\n",
       "      <td>8.507538</td>\n",
       "      <td>용산구</td>\n",
       "      <td>ST-1328</td>\n",
       "      <td>20230228</td>\n",
       "      <td>0</td>\n",
       "    </tr>\n",
       "    <tr>\n",
       "      <th>9647434</th>\n",
       "      <td>ST-1445</td>\n",
       "      <td>21</td>\n",
       "      <td>2</td>\n",
       "      <td>0</td>\n",
       "      <td>0</td>\n",
       "      <td>0.0</td>\n",
       "      <td>9.551939</td>\n",
       "      <td>용산구</td>\n",
       "      <td>ST-1328</td>\n",
       "      <td>20230228</td>\n",
       "      <td>3</td>\n",
       "    </tr>\n",
       "    <tr>\n",
       "      <th>9647435</th>\n",
       "      <td>ST-1445</td>\n",
       "      <td>22</td>\n",
       "      <td>2</td>\n",
       "      <td>0</td>\n",
       "      <td>0</td>\n",
       "      <td>0.0</td>\n",
       "      <td>8.219911</td>\n",
       "      <td>용산구</td>\n",
       "      <td>ST-1328</td>\n",
       "      <td>20230228</td>\n",
       "      <td>0</td>\n",
       "    </tr>\n",
       "    <tr>\n",
       "      <th>9647436</th>\n",
       "      <td>ST-1445</td>\n",
       "      <td>23</td>\n",
       "      <td>2</td>\n",
       "      <td>0</td>\n",
       "      <td>0</td>\n",
       "      <td>0.0</td>\n",
       "      <td>9.181400</td>\n",
       "      <td>용산구</td>\n",
       "      <td>ST-1328</td>\n",
       "      <td>20230228</td>\n",
       "      <td>1</td>\n",
       "    </tr>\n",
       "    <tr>\n",
       "      <th>9647437</th>\n",
       "      <td>ST-3215</td>\n",
       "      <td>20</td>\n",
       "      <td>2</td>\n",
       "      <td>0</td>\n",
       "      <td>2</td>\n",
       "      <td>0.0</td>\n",
       "      <td>8.724567</td>\n",
       "      <td>양천구</td>\n",
       "      <td>ST-1016</td>\n",
       "      <td>20230228</td>\n",
       "      <td>1</td>\n",
       "    </tr>\n",
       "  </tbody>\n",
       "</table>\n",
       "<p>9647438 rows × 11 columns</p>\n",
       "</div>"
      ],
      "text/plain": [
       "          stn_id  borrowed_hour  borrowed_day  is_holiday  \\\n",
       "0          ST-10              0             6           1   \n",
       "1          ST-10              1             6           1   \n",
       "2          ST-10              2             6           1   \n",
       "3          ST-10              3             6           1   \n",
       "4          ST-10              4             6           1   \n",
       "...          ...            ...           ...         ...   \n",
       "9647433  ST-1445             20             2           0   \n",
       "9647434  ST-1445             21             2           0   \n",
       "9647435  ST-1445             22             2           0   \n",
       "9647436  ST-1445             23             2           0   \n",
       "9647437  ST-3215             20             2           0   \n",
       "\n",
       "         borrowed_num_nearby  강수량(mm)  wind_chill stn_gu nearby_id  \\\n",
       "0                          2      0.0   21.787650    마포구   ST-2167   \n",
       "1                          1      0.0   20.724511    마포구   ST-2167   \n",
       "2                          2      0.0   20.222465    마포구   ST-2167   \n",
       "3                          0      0.0   19.789024    마포구   ST-2167   \n",
       "4                          2      0.0   20.661831    마포구   ST-2167   \n",
       "...                      ...      ...         ...    ...       ...   \n",
       "9647433                    1      0.0    8.507538    용산구   ST-1328   \n",
       "9647434                    0      0.0    9.551939    용산구   ST-1328   \n",
       "9647435                    0      0.0    8.219911    용산구   ST-1328   \n",
       "9647436                    0      0.0    9.181400    용산구   ST-1328   \n",
       "9647437                    2      0.0    8.724567    양천구   ST-1016   \n",
       "\n",
       "         borrowed_date  borrowed_num  \n",
       "0             20221001             2  \n",
       "1             20221001             2  \n",
       "2             20221001             1  \n",
       "3             20221001             0  \n",
       "4             20221001             0  \n",
       "...                ...           ...  \n",
       "9647433       20230228             0  \n",
       "9647434       20230228             3  \n",
       "9647435       20230228             0  \n",
       "9647436       20230228             1  \n",
       "9647437       20230228             1  \n",
       "\n",
       "[9647438 rows x 11 columns]"
      ]
     },
     "execution_count": 3,
     "metadata": {},
     "output_type": "execute_result"
    }
   ],
   "source": [
    "data"
   ]
  },
  {
   "cell_type": "code",
   "execution_count": 4,
   "metadata": {},
   "outputs": [],
   "source": [
    "# 필요한 열 선택\n",
    "selected_features = ['stn_id', 'borrowed_hour', 'borrowed_day', 'is_holiday', 'borrowed_num_nearby', '강수량(mm)', 'wind_chill', 'nearby_id', 'borrowed_date', 'borrowed_num']\n",
    "data = data[selected_features]"
   ]
  },
  {
   "cell_type": "code",
   "execution_count": 5,
   "metadata": {},
   "outputs": [
    {
     "name": "stderr",
     "output_type": "stream",
     "text": [
      "C:\\Users\\user\\AppData\\Local\\Temp\\ipykernel_18108\\581326598.py:4: SettingWithCopyWarning: \n",
      "A value is trying to be set on a copy of a slice from a DataFrame.\n",
      "Try using .loc[row_indexer,col_indexer] = value instead\n",
      "\n",
      "See the caveats in the documentation: https://pandas.pydata.org/pandas-docs/stable/user_guide/indexing.html#returning-a-view-versus-a-copy\n",
      "  data[feature] = pd.factorize(data[feature])[0]\n",
      "C:\\Users\\user\\AppData\\Local\\Temp\\ipykernel_18108\\581326598.py:4: SettingWithCopyWarning: \n",
      "A value is trying to be set on a copy of a slice from a DataFrame.\n",
      "Try using .loc[row_indexer,col_indexer] = value instead\n",
      "\n",
      "See the caveats in the documentation: https://pandas.pydata.org/pandas-docs/stable/user_guide/indexing.html#returning-a-view-versus-a-copy\n",
      "  data[feature] = pd.factorize(data[feature])[0]\n"
     ]
    }
   ],
   "source": [
    "# 범주형 데이터를 숫자로 변환 (Label Encoding)\n",
    "categorical_features = ['stn_id', 'nearby_id']\n",
    "for feature in categorical_features:\n",
    "    data[feature] = pd.factorize(data[feature])[0]"
   ]
  },
  {
   "cell_type": "code",
   "execution_count": 6,
   "metadata": {},
   "outputs": [],
   "source": [
    "# 훈련-테스트 데이터 분할\n",
    "X_train, X_test, y_train, y_test = train_test_split(data.drop('borrowed_num', axis=1), data['borrowed_num'], test_size=0.2, random_state=42)"
   ]
  },
  {
   "cell_type": "markdown",
   "metadata": {},
   "source": [
    "# LGBM Model"
   ]
  },
  {
   "cell_type": "code",
   "execution_count": 7,
   "metadata": {},
   "outputs": [],
   "source": [
    "# LightGBM 모델\n",
    "lgb_params = {\n",
    "    'objective': 'regression',\n",
    "    'metric': 'rmse',\n",
    "    'boosting_type': 'gbdt',\n",
    "    'num_leaves': 80,\n",
    "    'learning_rate': 0.1,\n",
    "    'feature_fraction': 1.0\n",
    "}"
   ]
  },
  {
   "cell_type": "code",
   "execution_count": 8,
   "metadata": {},
   "outputs": [
    {
     "name": "stdout",
     "output_type": "stream",
     "text": [
      "[LightGBM] [Info] Auto-choosing row-wise multi-threading, the overhead of testing was 0.847047 seconds.\n",
      "You can set `force_row_wise=true` to remove the overhead.\n",
      "And if memory is not enough, you can set `force_col_wise=true`.\n",
      "[LightGBM] [Info] Total Bins 1112\n",
      "[LightGBM] [Info] Number of data points in the train set: 7717950, number of used features: 9\n",
      "[LightGBM] [Info] Start training from score 1.483498\n",
      "Training until validation scores don't improve for 3 rounds\n",
      "Did not meet early stopping. Best iteration is:\n",
      "[1000]\ttraining's rmse: 1.92098\tvalid_0's rmse: 1.97004\n"
     ]
    }
   ],
   "source": [
    "train_data_lgb = lgb.Dataset(X_train, label=y_train)\n",
    "test_data_lgb = lgb.Dataset(X_test, label=y_test, reference=train_data_lgb)\n",
    "\n",
    "lgb_model = lgb.train(lgb_params, train_data_lgb, num_boost_round=1000, valid_sets=[test_data_lgb, train_data_lgb], callbacks=[\n",
    "    lgb.early_stopping(stopping_rounds=3, verbose=100),\n",
    "])"
   ]
  },
  {
   "cell_type": "markdown",
   "metadata": {},
   "source": [
    "# XGBoost Model"
   ]
  },
  {
   "cell_type": "code",
   "execution_count": 9,
   "metadata": {},
   "outputs": [],
   "source": [
    "# XGBoost 모델\n",
    "xgb_params = {\n",
    "    'objective': 'reg:squarederror',\n",
    "    'eval_metric': 'rmse',\n",
    "    'booster': 'gbtree',\n",
    "    'learning_rate': 0.1,\n",
    "    'max_depth': 13,\n",
    "    'subsample':0.8\n",
    "}"
   ]
  },
  {
   "cell_type": "code",
   "execution_count": 10,
   "metadata": {},
   "outputs": [
    {
     "name": "stdout",
     "output_type": "stream",
     "text": [
      "[0]\teval-rmse:2.79100\n",
      "[100]\teval-rmse:1.97047\n",
      "[200]\teval-rmse:1.91868\n",
      "[250]\teval-rmse:1.91346\n"
     ]
    }
   ],
   "source": [
    "train_data_xgb = xgb.DMatrix(X_train, label=y_train)\n",
    "test_data_xgb = xgb.DMatrix(X_test, label=y_test)\n",
    "\n",
    "xgb_model = xgb.train(xgb_params, train_data_xgb, num_boost_round=1000, evals=[(test_data_xgb, 'eval')], early_stopping_rounds=3, verbose_eval=100)\n"
   ]
  },
  {
   "cell_type": "code",
   "execution_count": 11,
   "metadata": {},
   "outputs": [],
   "source": [
    "# 예측 생성\n",
    "y_pred_train_lgb = lgb_model.predict(X_train, num_iteration=lgb_model.best_iteration)\n",
    "y_pred_test_lgb = lgb_model.predict(X_test, num_iteration=lgb_model.best_iteration)\n",
    "\n",
    "y_pred_train_xgb = xgb_model.predict(train_data_xgb)\n",
    "y_pred_test_xgb = xgb_model.predict(test_data_xgb)"
   ]
  },
  {
   "cell_type": "code",
   "execution_count": 12,
   "metadata": {},
   "outputs": [],
   "source": [
    "# 앙상블 예측 (평균이나 가중 평균 등의 방법 사용 가능)\n",
    "y_pred_train_ensemble = (y_pred_train_lgb + y_pred_train_xgb) / 2\n",
    "y_pred_test_ensemble = (y_pred_test_lgb + y_pred_test_xgb) / 2"
   ]
  },
  {
   "cell_type": "code",
   "execution_count": 13,
   "metadata": {},
   "outputs": [
    {
     "name": "stdout",
     "output_type": "stream",
     "text": [
      "앙상블 훈련 RMSE: 1.7834876862737674\n",
      "앙상블 테스트 RMSE: 1.9027432850722883\n",
      "앙상블 훈련 R-squared: 0.619766323264174\n",
      "앙상블 테스트 R-squared: 0.5669466042323753\n"
     ]
    }
   ],
   "source": [
    "# 앙상블 예측 평가\n",
    "ensemble_rmse_train = mean_squared_error(y_train, y_pred_train_ensemble, squared=False)\n",
    "ensemble_rmse_test = mean_squared_error(y_test, y_pred_test_ensemble, squared=False)\n",
    "ensemble_r2_train = r2_score(y_train, y_pred_train_ensemble)\n",
    "ensemble_r2_test = r2_score(y_test, y_pred_test_ensemble)\n",
    "\n",
    "print(f'앙상블 훈련 RMSE: {ensemble_rmse_train}')\n",
    "print(f'앙상블 테스트 RMSE: {ensemble_rmse_test}')\n",
    "print(f'앙상블 훈련 R-squared: {ensemble_r2_train}')\n",
    "print(f'앙상블 테스트 R-squared: {ensemble_r2_test}')"
   ]
  },
  {
   "cell_type": "code",
   "execution_count": 14,
   "metadata": {},
   "outputs": [
    {
     "name": "stdout",
     "output_type": "stream",
     "text": [
      "LightGBM 모델 평가 지표:\n",
      "훈련 RMSE: 1.9209784440725566\n",
      "훈련 R-squared: 0.5588814392925394\n",
      "테스트 RMSE: 1.9700359414401163\n",
      "테스트 R-squared: 0.5357741163360898\n"
     ]
    }
   ],
   "source": [
    "lgb_rmse_train = np.sqrt(mean_squared_error(y_train, y_pred_train_lgb))\n",
    "lgb_r2_train = r2_score(y_train, y_pred_train_lgb)\n",
    "\n",
    "lgb_rmse_test = np.sqrt(mean_squared_error(y_test, y_pred_test_lgb))\n",
    "lgb_r2_test = r2_score(y_test, y_pred_test_lgb)\n",
    "\n",
    "print(\"LightGBM 모델 평가 지표:\")\n",
    "print(\"훈련 RMSE:\", lgb_rmse_train)\n",
    "print(\"훈련 R-squared:\", lgb_r2_train)\n",
    "print(\"테스트 RMSE:\", lgb_rmse_test)\n",
    "print(\"테스트 R-squared:\", lgb_r2_test)"
   ]
  },
  {
   "cell_type": "code",
   "execution_count": 15,
   "metadata": {},
   "outputs": [
    {
     "name": "stdout",
     "output_type": "stream",
     "text": [
      "XGBoost 모델 평가 지표:\n",
      "훈련 RMSE: 1.7220080515194014\n",
      "훈련 R-squared: 0.6455290051424385\n",
      "테스트 RMSE: 1.9135301281431685\n",
      "테스트 R-squared: 0.5620226399398447\n"
     ]
    }
   ],
   "source": [
    "xgb_rmse_train = np.sqrt(mean_squared_error(y_train, y_pred_train_xgb))\n",
    "xgb_r2_train = r2_score(y_train, y_pred_train_xgb)\n",
    "\n",
    "xgb_rmse_test = np.sqrt(mean_squared_error(y_test, y_pred_test_xgb))\n",
    "xgb_r2_test = r2_score(y_test, y_pred_test_xgb)\n",
    "\n",
    "print(\"XGBoost 모델 평가 지표:\")\n",
    "print(\"훈련 RMSE:\", xgb_rmse_train)\n",
    "print(\"훈련 R-squared:\", xgb_r2_train)\n",
    "print(\"테스트 RMSE:\", xgb_rmse_test)\n",
    "print(\"테스트 R-squared:\", xgb_r2_test)"
   ]
  },
  {
   "cell_type": "code",
   "execution_count": null,
   "metadata": {},
   "outputs": [],
   "source": []
  },
  {
   "cell_type": "code",
   "execution_count": null,
   "metadata": {},
   "outputs": [],
   "source": []
  }
 ],
 "metadata": {
  "kernelspec": {
   "display_name": "base",
   "language": "python",
   "name": "python3"
  },
  "language_info": {
   "codemirror_mode": {
    "name": "ipython",
    "version": 3
   },
   "file_extension": ".py",
   "mimetype": "text/x-python",
   "name": "python",
   "nbconvert_exporter": "python",
   "pygments_lexer": "ipython3",
   "version": "3.11.4"
  },
  "orig_nbformat": 4
 },
 "nbformat": 4,
 "nbformat_minor": 2
}
